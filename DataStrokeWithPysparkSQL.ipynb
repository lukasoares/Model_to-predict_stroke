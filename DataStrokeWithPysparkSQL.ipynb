{
  "nbformat": 4,
  "nbformat_minor": 0,
  "metadata": {
    "colab": {
      "provenance": [],
      "mount_file_id": "1vwq3Ue_egurXz7JgKG_ItcwSJYrsAjqg",
      "authorship_tag": "ABX9TyNHsGexT7rPqevWQloVYsl7",
      "include_colab_link": true
    },
    "kernelspec": {
      "name": "python3",
      "display_name": "Python 3"
    },
    "language_info": {
      "name": "python"
    }
  },
  "cells": [
    {
      "cell_type": "markdown",
      "metadata": {
        "id": "view-in-github",
        "colab_type": "text"
      },
      "source": [
        "<a href=\"https://colab.research.google.com/github/lukasoares/Model_to-predict_stroke/blob/main/DataStrokeWithPysparkSQL.ipynb\" target=\"_parent\"><img src=\"https://colab.research.google.com/assets/colab-badge.svg\" alt=\"Open In Colab\"/></a>"
      ]
    },
    {
      "cell_type": "markdown",
      "source": [
        "##Iniciando o Spark no Google Colab:"
      ],
      "metadata": {
        "id": "7RXW7E0aYAVh"
      }
    },
    {
      "cell_type": "code",
      "execution_count": 1,
      "metadata": {
        "id": "NbLOvDvnoUVy"
      },
      "outputs": [],
      "source": [
        "!apt-get update -qq\n",
        "!apt-get install openjdk-8-jdk-headless -qq > /dev/null\n",
        "!wget -q https://archive.apache.org/dist/spark/spark-3.1.2/spark-3.1.2-bin-hadoop2.7.tgz\n",
        "!tar xf spark-3.1.2-bin-hadoop2.7.tgz\n",
        "!pip install -q findspark"
      ]
    },
    {
      "cell_type": "code",
      "source": [
        "import os\n",
        "os.environ[\"JAVA_HOME\"] = \"/usr/lib/jvm/java-8-openjdk-amd64\"\n",
        "os.environ[\"SPARK_HOME\"] = \"/content/spark-3.1.2-bin-hadoop2.7\""
      ],
      "metadata": {
        "id": "Pn4UK0Gjoe7U"
      },
      "execution_count": 2,
      "outputs": []
    },
    {
      "cell_type": "code",
      "source": [
        "import findspark\n",
        "findspark.init()"
      ],
      "metadata": {
        "id": "XVcpR0Hpog_e"
      },
      "execution_count": 3,
      "outputs": []
    },
    {
      "cell_type": "code",
      "source": [
        "from pyspark.sql import SparkSession\n",
        "\n",
        "spark = SparkSession.builder \\\n",
        "    .master('local[*]') \\\n",
        "    .appName(\"DataStrokeWithPysparkSQL\") \\\n",
        "    .getOrCreate()"
      ],
      "metadata": {
        "id": "dpiICppWolR_"
      },
      "execution_count": 4,
      "outputs": []
    },
    {
      "cell_type": "code",
      "source": [
        "!pip install -U kaleido"
      ],
      "metadata": {
        "colab": {
          "base_uri": "https://localhost:8080/"
        },
        "id": "VPe9H_7qRU8m",
        "outputId": "d736ae77-8315-481b-ac11-8b4f9595b510"
      },
      "execution_count": 5,
      "outputs": [
        {
          "output_type": "stream",
          "name": "stdout",
          "text": [
            "Looking in indexes: https://pypi.org/simple, https://us-python.pkg.dev/colab-wheels/public/simple/\n",
            "Requirement already satisfied: kaleido in /usr/local/lib/python3.8/dist-packages (0.2.1)\n"
          ]
        }
      ]
    },
    {
      "cell_type": "markdown",
      "source": [
        "##Importando a base de dados"
      ],
      "metadata": {
        "id": "C-jOKZgJZluX"
      }
    },
    {
      "cell_type": "code",
      "source": [
        "data= spark.read.csv('/content/drive/MyDrive/base_de_dados/Stroke-data/healthcare-dataset-stroke-data.csv', header = True, inferSchema = True)"
      ],
      "metadata": {
        "id": "PCLKukqyYM9e"
      },
      "execution_count": 6,
      "outputs": []
    },
    {
      "cell_type": "code",
      "source": [
        "data.show(5)"
      ],
      "metadata": {
        "colab": {
          "base_uri": "https://localhost:8080/"
        },
        "id": "N5EOakg1ZCa7",
        "outputId": "fd832eff-bcb9-4563-decd-0695ed77da94"
      },
      "execution_count": 7,
      "outputs": [
        {
          "output_type": "stream",
          "name": "stdout",
          "text": [
            "+-----+------+----+------------+-------------+------------+-------------+--------------+-----------------+----+---------------+------+\n",
            "|   id|gender| age|hypertension|heart_disease|ever_married|    work_type|Residence_type|avg_glucose_level| bmi| smoking_status|stroke|\n",
            "+-----+------+----+------------+-------------+------------+-------------+--------------+-----------------+----+---------------+------+\n",
            "| 9046|  Male|67.0|           0|            1|         Yes|      Private|         Urban|           228.69|36.6|formerly smoked|     1|\n",
            "|51676|Female|61.0|           0|            0|         Yes|Self-employed|         Rural|           202.21| N/A|   never smoked|     1|\n",
            "|31112|  Male|80.0|           0|            1|         Yes|      Private|         Rural|           105.92|32.5|   never smoked|     1|\n",
            "|60182|Female|49.0|           0|            0|         Yes|      Private|         Urban|           171.23|34.4|         smokes|     1|\n",
            "| 1665|Female|79.0|           1|            0|         Yes|Self-employed|         Rural|           174.12|  24|   never smoked|     1|\n",
            "+-----+------+----+------------+-------------+------------+-------------+--------------+-----------------+----+---------------+------+\n",
            "only showing top 5 rows\n",
            "\n"
          ]
        }
      ]
    },
    {
      "cell_type": "markdown",
      "source": [
        "Como podemos ver, essa base de dados contém os tipos das colunas já categorizados de maneira apropriada, com excessão da categória \"bmi\". Foi feita a transformação dessa coluna para \"DoubleType\""
      ],
      "metadata": {
        "id": "0pdpcgKGaF8j"
      }
    },
    {
      "cell_type": "code",
      "source": [
        "data.printSchema()"
      ],
      "metadata": {
        "colab": {
          "base_uri": "https://localhost:8080/"
        },
        "id": "dbDnf1BYZM8q",
        "outputId": "e9ad31bb-0d19-4a17-d4d6-a21539238e9b"
      },
      "execution_count": 8,
      "outputs": [
        {
          "output_type": "stream",
          "name": "stdout",
          "text": [
            "root\n",
            " |-- id: integer (nullable = true)\n",
            " |-- gender: string (nullable = true)\n",
            " |-- age: double (nullable = true)\n",
            " |-- hypertension: integer (nullable = true)\n",
            " |-- heart_disease: integer (nullable = true)\n",
            " |-- ever_married: string (nullable = true)\n",
            " |-- work_type: string (nullable = true)\n",
            " |-- Residence_type: string (nullable = true)\n",
            " |-- avg_glucose_level: double (nullable = true)\n",
            " |-- bmi: string (nullable = true)\n",
            " |-- smoking_status: string (nullable = true)\n",
            " |-- stroke: integer (nullable = true)\n",
            "\n"
          ]
        }
      ]
    },
    {
      "cell_type": "code",
      "source": [
        "from pyspark.sql.types import DoubleType, StringType"
      ],
      "metadata": {
        "id": "1LYhBnWtu-mV"
      },
      "execution_count": 9,
      "outputs": []
    },
    {
      "cell_type": "code",
      "source": [
        "data = data.withColumn('bmi', data['bmi'].cast(DoubleType()))\n",
        "data.printSchema()"
      ],
      "metadata": {
        "colab": {
          "base_uri": "https://localhost:8080/"
        },
        "id": "OmwdlLcaxZue",
        "outputId": "f187c24a-d429-41d8-af0e-e861f297b5d1"
      },
      "execution_count": 10,
      "outputs": [
        {
          "output_type": "stream",
          "name": "stdout",
          "text": [
            "root\n",
            " |-- id: integer (nullable = true)\n",
            " |-- gender: string (nullable = true)\n",
            " |-- age: double (nullable = true)\n",
            " |-- hypertension: integer (nullable = true)\n",
            " |-- heart_disease: integer (nullable = true)\n",
            " |-- ever_married: string (nullable = true)\n",
            " |-- work_type: string (nullable = true)\n",
            " |-- Residence_type: string (nullable = true)\n",
            " |-- avg_glucose_level: double (nullable = true)\n",
            " |-- bmi: double (nullable = true)\n",
            " |-- smoking_status: string (nullable = true)\n",
            " |-- stroke: integer (nullable = true)\n",
            "\n"
          ]
        }
      ]
    },
    {
      "cell_type": "code",
      "source": [
        "data.count()"
      ],
      "metadata": {
        "colab": {
          "base_uri": "https://localhost:8080/"
        },
        "id": "ZOsA1pOvZUIz",
        "outputId": "f40b88c0-8a2c-4a92-d5f4-f2e66105a551"
      },
      "execution_count": 11,
      "outputs": [
        {
          "output_type": "execute_result",
          "data": {
            "text/plain": [
              "5110"
            ]
          },
          "metadata": {},
          "execution_count": 11
        }
      ]
    },
    {
      "cell_type": "code",
      "source": [
        "len(data.columns)"
      ],
      "metadata": {
        "colab": {
          "base_uri": "https://localhost:8080/"
        },
        "id": "oMSDFwPfZdN2",
        "outputId": "163d82cc-d145-4da2-94b9-2e15a77b72df"
      },
      "execution_count": 12,
      "outputs": [
        {
          "output_type": "execute_result",
          "data": {
            "text/plain": [
              "12"
            ]
          },
          "metadata": {},
          "execution_count": 12
        }
      ]
    },
    {
      "cell_type": "markdown",
      "source": [
        "##Limpeza dos dados"
      ],
      "metadata": {
        "id": "3poCyyXDcgeT"
      }
    },
    {
      "cell_type": "code",
      "source": [
        "from pyspark.sql import functions as f"
      ],
      "metadata": {
        "id": "-8zjj6qoeODJ"
      },
      "execution_count": 13,
      "outputs": []
    },
    {
      "cell_type": "markdown",
      "source": [
        "Primeiro vamos tentar localizar os dados nulos de todas as colunas, utilizando um loop que soma 1 (ou True) se a coluna contém um dado nulo ou N/A."
      ],
      "metadata": {
        "id": "yrxFgDpQkpOf"
      }
    },
    {
      "cell_type": "code",
      "source": [
        "data.select([f.count(f.when(f.isnan(c) | f.isnull(c), True)).alias(c) for c in data.columns]).show()"
      ],
      "metadata": {
        "colab": {
          "base_uri": "https://localhost:8080/"
        },
        "id": "jfcfWe0tcnml",
        "outputId": "f88c1626-d8c3-43b8-dedf-ea156b00f4f8"
      },
      "execution_count": 14,
      "outputs": [
        {
          "output_type": "stream",
          "name": "stdout",
          "text": [
            "+---+------+---+------------+-------------+------------+---------+--------------+-----------------+---+--------------+------+\n",
            "| id|gender|age|hypertension|heart_disease|ever_married|work_type|Residence_type|avg_glucose_level|bmi|smoking_status|stroke|\n",
            "+---+------+---+------------+-------------+------------+---------+--------------+-----------------+---+--------------+------+\n",
            "|  0|     0|  0|           0|            0|           0|        0|             0|                0|201|             0|     0|\n",
            "+---+------+---+------------+-------------+------------+---------+--------------+-----------------+---+--------------+------+\n",
            "\n"
          ]
        }
      ]
    },
    {
      "cell_type": "markdown",
      "source": [
        "Foram localizados 201 dados nulos na coluna \"bmi\". Para a subtituição dessa valores foi utilizado a mediana. Para facilitar o processo, utilizei a função toPandas() para conseguir a mediana de maneira mais fácil."
      ],
      "metadata": {
        "id": "4qic9YDelU9v"
      }
    },
    {
      "cell_type": "code",
      "source": [
        "data = data.withColumn(\"bmi\", f.when(f.isnull('bmi'), data.toPandas().bmi.median()).otherwise(data[\"bmi\"]))"
      ],
      "metadata": {
        "id": "WByfgiS4DSi3"
      },
      "execution_count": 15,
      "outputs": []
    },
    {
      "cell_type": "code",
      "source": [
        "data.show(5)"
      ],
      "metadata": {
        "colab": {
          "base_uri": "https://localhost:8080/"
        },
        "id": "ftGO7DXzNaak",
        "outputId": "86e5dd69-2d4d-411f-b3d6-3e43b14c0053"
      },
      "execution_count": 16,
      "outputs": [
        {
          "output_type": "stream",
          "name": "stdout",
          "text": [
            "+-----+------+----+------------+-------------+------------+-------------+--------------+-----------------+----+---------------+------+\n",
            "|   id|gender| age|hypertension|heart_disease|ever_married|    work_type|Residence_type|avg_glucose_level| bmi| smoking_status|stroke|\n",
            "+-----+------+----+------------+-------------+------------+-------------+--------------+-----------------+----+---------------+------+\n",
            "| 9046|  Male|67.0|           0|            1|         Yes|      Private|         Urban|           228.69|36.6|formerly smoked|     1|\n",
            "|51676|Female|61.0|           0|            0|         Yes|Self-employed|         Rural|           202.21|28.1|   never smoked|     1|\n",
            "|31112|  Male|80.0|           0|            1|         Yes|      Private|         Rural|           105.92|32.5|   never smoked|     1|\n",
            "|60182|Female|49.0|           0|            0|         Yes|      Private|         Urban|           171.23|34.4|         smokes|     1|\n",
            "| 1665|Female|79.0|           1|            0|         Yes|Self-employed|         Rural|           174.12|24.0|   never smoked|     1|\n",
            "+-----+------+----+------------+-------------+------------+-------------+--------------+-----------------+----+---------------+------+\n",
            "only showing top 5 rows\n",
            "\n"
          ]
        }
      ]
    },
    {
      "cell_type": "markdown",
      "source": [
        "\"Com a classe \"createOrReplaceTempView\", é possível criar uma \"view\" no \"pyspark.sql\" que permite fazer consultas utilizando a linguagem SQL.\""
      ],
      "metadata": {
        "id": "UZ5BU7gnbTE8"
      }
    },
    {
      "cell_type": "code",
      "source": [
        "data.createOrReplaceTempView(\"dataView\")"
      ],
      "metadata": {
        "id": "IVggFNrpb2v-"
      },
      "execution_count": 17,
      "outputs": []
    },
    {
      "cell_type": "markdown",
      "source": [
        "Após uma observação mais atenciosa, foi localizado 1544 dados \"Unknown\" da coluna \"smoking_status\". Como se trata de uma \"coluna\" muito relevante para a nossa análise, foi escolhido a exclusão desse dados."
      ],
      "metadata": {
        "id": "yS8qSlCnRfOI"
      }
    },
    {
      "cell_type": "code",
      "source": [
        "for c in [\"gender\", \"ever_married\",  \"work_type\", \"Residence_type\", \"smoking_status\"]:\n",
        "  spark.sql(f\"SELECT DISTINCT({c}) FROM dataView\").show()"
      ],
      "metadata": {
        "colab": {
          "base_uri": "https://localhost:8080/"
        },
        "id": "oHhm60mQTb96",
        "outputId": "a400d5a8-38b4-4fe2-eeae-59e92253993d"
      },
      "execution_count": 18,
      "outputs": [
        {
          "output_type": "stream",
          "name": "stdout",
          "text": [
            "+------+\n",
            "|gender|\n",
            "+------+\n",
            "|Female|\n",
            "| Other|\n",
            "|  Male|\n",
            "+------+\n",
            "\n",
            "+------------+\n",
            "|ever_married|\n",
            "+------------+\n",
            "|          No|\n",
            "|         Yes|\n",
            "+------------+\n",
            "\n",
            "+-------------+\n",
            "|    work_type|\n",
            "+-------------+\n",
            "| Never_worked|\n",
            "|Self-employed|\n",
            "|      Private|\n",
            "|     children|\n",
            "|     Govt_job|\n",
            "+-------------+\n",
            "\n",
            "+--------------+\n",
            "|Residence_type|\n",
            "+--------------+\n",
            "|         Urban|\n",
            "|         Rural|\n",
            "+--------------+\n",
            "\n",
            "+---------------+\n",
            "| smoking_status|\n",
            "+---------------+\n",
            "|         smokes|\n",
            "|        Unknown|\n",
            "|   never smoked|\n",
            "|formerly smoked|\n",
            "+---------------+\n",
            "\n"
          ]
        }
      ]
    },
    {
      "cell_type": "code",
      "source": [
        "data_modi = spark.sql('SELECT * from dataView WHERE smoking_status != \"Unknown\"')\n",
        "data_modi.createOrReplaceTempView(\"dataView\")"
      ],
      "metadata": {
        "id": "741HGtzprsfc"
      },
      "execution_count": 19,
      "outputs": []
    },
    {
      "cell_type": "code",
      "source": [
        "data_modi.createOrReplaceTempView(\"dataView\")"
      ],
      "metadata": {
        "id": "Q_VtGUmuVUnX"
      },
      "execution_count": 20,
      "outputs": []
    },
    {
      "cell_type": "code",
      "source": [
        "data_modi.show()"
      ],
      "metadata": {
        "colab": {
          "base_uri": "https://localhost:8080/"
        },
        "id": "tjlTzF_FKs1O",
        "outputId": "10aaa3d0-8000-4083-dcfb-2b0c5fe89a11"
      },
      "execution_count": 21,
      "outputs": [
        {
          "output_type": "stream",
          "name": "stdout",
          "text": [
            "+-----+------+----+------------+-------------+------------+-------------+--------------+-----------------+----+---------------+------+\n",
            "|   id|gender| age|hypertension|heart_disease|ever_married|    work_type|Residence_type|avg_glucose_level| bmi| smoking_status|stroke|\n",
            "+-----+------+----+------------+-------------+------------+-------------+--------------+-----------------+----+---------------+------+\n",
            "| 9046|  Male|67.0|           0|            1|         Yes|      Private|         Urban|           228.69|36.6|formerly smoked|     1|\n",
            "|51676|Female|61.0|           0|            0|         Yes|Self-employed|         Rural|           202.21|28.1|   never smoked|     1|\n",
            "|31112|  Male|80.0|           0|            1|         Yes|      Private|         Rural|           105.92|32.5|   never smoked|     1|\n",
            "|60182|Female|49.0|           0|            0|         Yes|      Private|         Urban|           171.23|34.4|         smokes|     1|\n",
            "| 1665|Female|79.0|           1|            0|         Yes|Self-employed|         Rural|           174.12|24.0|   never smoked|     1|\n",
            "|56669|  Male|81.0|           0|            0|         Yes|      Private|         Urban|           186.21|29.0|formerly smoked|     1|\n",
            "|53882|  Male|74.0|           1|            1|         Yes|      Private|         Rural|            70.09|27.4|   never smoked|     1|\n",
            "|10434|Female|69.0|           0|            0|          No|      Private|         Urban|            94.39|22.8|   never smoked|     1|\n",
            "|12109|Female|81.0|           1|            0|         Yes|      Private|         Rural|            80.43|29.7|   never smoked|     1|\n",
            "|12095|Female|61.0|           0|            1|         Yes|     Govt_job|         Rural|           120.46|36.8|         smokes|     1|\n",
            "|12175|Female|54.0|           0|            0|         Yes|      Private|         Urban|           104.51|27.3|         smokes|     1|\n",
            "| 5317|Female|79.0|           0|            1|         Yes|      Private|         Urban|           214.09|28.2|   never smoked|     1|\n",
            "|58202|Female|50.0|           1|            0|         Yes|Self-employed|         Rural|           167.41|30.9|   never smoked|     1|\n",
            "|56112|  Male|64.0|           0|            1|         Yes|      Private|         Urban|           191.61|37.5|         smokes|     1|\n",
            "|34120|  Male|75.0|           1|            0|         Yes|      Private|         Urban|           221.29|25.8|         smokes|     1|\n",
            "|27458|Female|60.0|           0|            0|          No|      Private|         Urban|            89.22|37.8|   never smoked|     1|\n",
            "|70630|Female|71.0|           0|            0|         Yes|     Govt_job|         Rural|           193.94|22.4|         smokes|     1|\n",
            "|13861|Female|52.0|           1|            0|         Yes|Self-employed|         Urban|           233.29|48.9|   never smoked|     1|\n",
            "|68794|Female|79.0|           0|            0|         Yes|Self-employed|         Urban|            228.7|26.6|   never smoked|     1|\n",
            "| 4219|  Male|71.0|           0|            0|         Yes|      Private|         Urban|           102.87|27.2|formerly smoked|     1|\n",
            "+-----+------+----+------------+-------------+------------+-------------+--------------+-----------------+----+---------------+------+\n",
            "only showing top 20 rows\n",
            "\n"
          ]
        }
      ]
    },
    {
      "cell_type": "markdown",
      "source": [
        "#Análise dos Dados"
      ],
      "metadata": {
        "id": "hTuMggpqajoR"
      }
    },
    {
      "cell_type": "markdown",
      "source": [
        "A primeira análise foi feita em cima da distribuição das curvas de frequênciadas variáveis quantitativas envolvidas nessa análise."
      ],
      "metadata": {
        "id": "_33WWJkZFzp2"
      }
    },
    {
      "cell_type": "code",
      "source": [
        "df = data_modi.toPandas()"
      ],
      "metadata": {
        "id": "JaME0uE7TN87"
      },
      "execution_count": 22,
      "outputs": []
    },
    {
      "cell_type": "markdown",
      "source": [
        "Pela análise gráfica, a variável 'age' apresenta uma distribuição parecida com a normal, apesar do aumento da frequência ao chegar na faixa dos 80 anos. Já as outras duas variáveis, \"avg_glucose_level\" e \"bmi\", apresentam uma distribuição assimétrica para a direita."
      ],
      "metadata": {
        "id": "qkzjPKcdIb-F"
      }
    },
    {
      "cell_type": "code",
      "source": [
        "from plotly.subplots import make_subplots\n",
        "import plotly.graph_objs as go\n",
        "column_list_numerics = ['age', 'avg_glucose_level', 'bmi']\n",
        "fig = make_subplots(rows=1, cols=3, subplot_titles = ['Age Frequency', 'Avg Glucose Level Frequency', 'BMI Frequency'], horizontal_spacing=0.1)\n",
        "count = 0\n",
        "for i in column_list_numerics:\n",
        "  count +=  1\n",
        "  fig.add_trace(go.Histogram(x = df[i]),row=1, col=count).update_yaxes(title = i.title().replace('_', ' '), row=1, col=count)\n",
        "fig.update_layout(title_text=\"Histograms\", height=400, width=900, template=\"plotly_dark\", showlegend=False)\n",
        "fig.show('png')\n"
      ],
      "metadata": {
        "colab": {
          "base_uri": "https://localhost:8080/",
          "height": 417
        },
        "id": "TZoSQJ3k-3c1",
        "outputId": "7573f7e0-3567-42a6-c9f5-57c87fdd102e"
      },
      "execution_count": 25,
      "outputs": [
        {
          "output_type": "display_data",
          "data": {
            "image/png": "[encoded data removed]"
          },
          "metadata": {}
        }
      ]
    },
    {
      "cell_type": "code",
      "source": [
        "len(df.columns)"
      ],
      "metadata": {
        "colab": {
          "base_uri": "https://localhost:8080/"
        },
        "id": "OmxffsFqLya4",
        "outputId": "dc46dffa-ee9f-4831-9622-cf08dcab0961"
      },
      "execution_count": 26,
      "outputs": [
        {
          "output_type": "execute_result",
          "data": {
            "text/plain": [
              "12"
            ]
          },
          "metadata": {},
          "execution_count": 26
        }
      ]
    },
    {
      "cell_type": "markdown",
      "source": [
        "##Análise por Gêneros da Coluna \"stroke\"\n",
        "Inicialmente, realizou-se a análise da ocorrência de AVCs separando os indivíduos por gênero. Foram avaliados os dados das pessoas que já sofreram ataque cardíaco e os que nunca sofreram, para que fosse possível identificar possíveis diferenças entre os gêneros."
      ],
      "metadata": {
        "id": "qP5yhmG-aRmn"
      }
    },
    {
      "cell_type": "code",
      "source": [
        "import pandas as pd\n",
        "import plotly.express as px\n",
        "\n"
      ],
      "metadata": {
        "id": "adRB3lCQTUhK"
      },
      "execution_count": 27,
      "outputs": []
    },
    {
      "cell_type": "code",
      "source": [
        "count_stroke =spark.sql('SELECT Gender, COUNT(stroke) FROM dataView group by gender').toPandas()\n",
        "count_stroke "
      ],
      "metadata": {
        "colab": {
          "base_uri": "https://localhost:8080/",
          "height": 144
        },
        "id": "9CYQAhraW-c8",
        "outputId": "d2c84399-8b7d-49de-b47a-cbef93a61148"
      },
      "execution_count": 28,
      "outputs": [
        {
          "output_type": "execute_result",
          "data": {
            "text/plain": [
              "   Gender  count(stroke)\n",
              "0  Female           2158\n",
              "1   Other              1\n",
              "2    Male           1407"
            ],
            "text/html": [
              "\n",
              "  <div id=\"df-8d7f2a9d-09a6-42fb-ad52-556f0fef2022\">\n",
              "    <div class=\"colab-df-container\">\n",
              "      <div>\n",
              "<style scoped>\n",
              "    .dataframe tbody tr th:only-of-type {\n",
              "        vertical-align: middle;\n",
              "    }\n",
              "\n",
              "    .dataframe tbody tr th {\n",
              "        vertical-align: top;\n",
              "    }\n",
              "\n",
              "    .dataframe thead th {\n",
              "        text-align: right;\n",
              "    }\n",
              "</style>\n",
              "<table border=\"1\" class=\"dataframe\">\n",
              "  <thead>\n",
              "    <tr style=\"text-align: right;\">\n",
              "      <th></th>\n",
              "      <th>Gender</th>\n",
              "      <th>count(stroke)</th>\n",
              "    </tr>\n",
              "  </thead>\n",
              "  <tbody>\n",
              "    <tr>\n",
              "      <th>0</th>\n",
              "      <td>Female</td>\n",
              "      <td>2158</td>\n",
              "    </tr>\n",
              "    <tr>\n",
              "      <th>1</th>\n",
              "      <td>Other</td>\n",
              "      <td>1</td>\n",
              "    </tr>\n",
              "    <tr>\n",
              "      <th>2</th>\n",
              "      <td>Male</td>\n",
              "      <td>1407</td>\n",
              "    </tr>\n",
              "  </tbody>\n",
              "</table>\n",
              "</div>\n",
              "      <button class=\"colab-df-convert\" onclick=\"convertToInteractive('df-8d7f2a9d-09a6-42fb-ad52-556f0fef2022')\"\n",
              "              title=\"Convert this dataframe to an interactive table.\"\n",
              "              style=\"display:none;\">\n",
              "        \n",
              "  <svg xmlns=\"http://www.w3.org/2000/svg\" height=\"24px\"viewBox=\"0 0 24 24\"\n",
              "       width=\"24px\">\n",
              "    <path d=\"M0 0h24v24H0V0z\" fill=\"none\"/>\n",
              "    <path d=\"M18.56 5.44l.94 2.06.94-2.06 2.06-.94-2.06-.94-.94-2.06-.94 2.06-2.06.94zm-11 1L8.5 8.5l.94-2.06 2.06-.94-2.06-.94L8.5 2.5l-.94 2.06-2.06.94zm10 10l.94 2.06.94-2.06 2.06-.94-2.06-.94-.94-2.06-.94 2.06-2.06.94z\"/><path d=\"M17.41 7.96l-1.37-1.37c-.4-.4-.92-.59-1.43-.59-.52 0-1.04.2-1.43.59L10.3 9.45l-7.72 7.72c-.78.78-.78 2.05 0 2.83L4 21.41c.39.39.9.59 1.41.59.51 0 1.02-.2 1.41-.59l7.78-7.78 2.81-2.81c.8-.78.8-2.07 0-2.86zM5.41 20L4 18.59l7.72-7.72 1.47 1.35L5.41 20z\"/>\n",
              "  </svg>\n",
              "      </button>\n",
              "      \n",
              "  <style>\n",
              "    .colab-df-container {\n",
              "      display:flex;\n",
              "      flex-wrap:wrap;\n",
              "      gap: 12px;\n",
              "    }\n",
              "\n",
              "    .colab-df-convert {\n",
              "      background-color: #E8F0FE;\n",
              "      border: none;\n",
              "      border-radius: 50%;\n",
              "      cursor: pointer;\n",
              "      display: none;\n",
              "      fill: #1967D2;\n",
              "      height: 32px;\n",
              "      padding: 0 0 0 0;\n",
              "      width: 32px;\n",
              "    }\n",
              "\n",
              "    .colab-df-convert:hover {\n",
              "      background-color: #E2EBFA;\n",
              "      box-shadow: 0px 1px 2px rgba(60, 64, 67, 0.3), 0px 1px 3px 1px rgba(60, 64, 67, 0.15);\n",
              "      fill: #174EA6;\n",
              "    }\n",
              "\n",
              "    [theme=dark] .colab-df-convert {\n",
              "      background-color: #3B4455;\n",
              "      fill: #D2E3FC;\n",
              "    }\n",
              "\n",
              "    [theme=dark] .colab-df-convert:hover {\n",
              "      background-color: #434B5C;\n",
              "      box-shadow: 0px 1px 3px 1px rgba(0, 0, 0, 0.15);\n",
              "      filter: drop-shadow(0px 1px 2px rgba(0, 0, 0, 0.3));\n",
              "      fill: #FFFFFF;\n",
              "    }\n",
              "  </style>\n",
              "\n",
              "      <script>\n",
              "        const buttonEl =\n",
              "          document.querySelector('#df-8d7f2a9d-09a6-42fb-ad52-556f0fef2022 button.colab-df-convert');\n",
              "        buttonEl.style.display =\n",
              "          google.colab.kernel.accessAllowed ? 'block' : 'none';\n",
              "\n",
              "        async function convertToInteractive(key) {\n",
              "          const element = document.querySelector('#df-8d7f2a9d-09a6-42fb-ad52-556f0fef2022');\n",
              "          const dataTable =\n",
              "            await google.colab.kernel.invokeFunction('convertToInteractive',\n",
              "                                                     [key], {});\n",
              "          if (!dataTable) return;\n",
              "\n",
              "          const docLinkHtml = 'Like what you see? Visit the ' +\n",
              "            '<a target=\"_blank\" href=https://colab.research.google.com/notebooks/data_table.ipynb>data table notebook</a>'\n",
              "            + ' to learn more about interactive tables.';\n",
              "          element.innerHTML = '';\n",
              "          dataTable['output_type'] = 'display_data';\n",
              "          await google.colab.output.renderOutput(dataTable, element);\n",
              "          const docLink = document.createElement('div');\n",
              "          docLink.innerHTML = docLinkHtml;\n",
              "          element.appendChild(docLink);\n",
              "        }\n",
              "      </script>\n",
              "    </div>\n",
              "  </div>\n",
              "  "
            ]
          },
          "metadata": {},
          "execution_count": 28
        }
      ]
    },
    {
      "cell_type": "code",
      "source": [
        "stroke_gender_1 = spark.sql('SELECT Gender, COUNT(stroke) FROM dataView WHERE STROKE == 1 group by gender').toPandas()\n",
        "stroke_gender_1"
      ],
      "metadata": {
        "id": "T0JlD95xWbnW",
        "colab": {
          "base_uri": "https://localhost:8080/",
          "height": 112
        },
        "outputId": "83423d10-da89-4256-f11b-b6e6c9105d9d"
      },
      "execution_count": 29,
      "outputs": [
        {
          "output_type": "execute_result",
          "data": {
            "text/plain": [
              "   Gender  count(stroke)\n",
              "0  Female            116\n",
              "1    Male             86"
            ],
            "text/html": [
              "\n",
              "  <div id=\"df-00033ab3-b074-47e4-a90b-2452359c8e35\">\n",
              "    <div class=\"colab-df-container\">\n",
              "      <div>\n",
              "<style scoped>\n",
              "    .dataframe tbody tr th:only-of-type {\n",
              "        vertical-align: middle;\n",
              "    }\n",
              "\n",
              "    .dataframe tbody tr th {\n",
              "        vertical-align: top;\n",
              "    }\n",
              "\n",
              "    .dataframe thead th {\n",
              "        text-align: right;\n",
              "    }\n",
              "</style>\n",
              "<table border=\"1\" class=\"dataframe\">\n",
              "  <thead>\n",
              "    <tr style=\"text-align: right;\">\n",
              "      <th></th>\n",
              "      <th>Gender</th>\n",
              "      <th>count(stroke)</th>\n",
              "    </tr>\n",
              "  </thead>\n",
              "  <tbody>\n",
              "    <tr>\n",
              "      <th>0</th>\n",
              "      <td>Female</td>\n",
              "      <td>116</td>\n",
              "    </tr>\n",
              "    <tr>\n",
              "      <th>1</th>\n",
              "      <td>Male</td>\n",
              "      <td>86</td>\n",
              "    </tr>\n",
              "  </tbody>\n",
              "</table>\n",
              "</div>\n",
              "      <button class=\"colab-df-convert\" onclick=\"convertToInteractive('df-00033ab3-b074-47e4-a90b-2452359c8e35')\"\n",
              "              title=\"Convert this dataframe to an interactive table.\"\n",
              "              style=\"display:none;\">\n",
              "        \n",
              "  <svg xmlns=\"http://www.w3.org/2000/svg\" height=\"24px\"viewBox=\"0 0 24 24\"\n",
              "       width=\"24px\">\n",
              "    <path d=\"M0 0h24v24H0V0z\" fill=\"none\"/>\n",
              "    <path d=\"M18.56 5.44l.94 2.06.94-2.06 2.06-.94-2.06-.94-.94-2.06-.94 2.06-2.06.94zm-11 1L8.5 8.5l.94-2.06 2.06-.94-2.06-.94L8.5 2.5l-.94 2.06-2.06.94zm10 10l.94 2.06.94-2.06 2.06-.94-2.06-.94-.94-2.06-.94 2.06-2.06.94z\"/><path d=\"M17.41 7.96l-1.37-1.37c-.4-.4-.92-.59-1.43-.59-.52 0-1.04.2-1.43.59L10.3 9.45l-7.72 7.72c-.78.78-.78 2.05 0 2.83L4 21.41c.39.39.9.59 1.41.59.51 0 1.02-.2 1.41-.59l7.78-7.78 2.81-2.81c.8-.78.8-2.07 0-2.86zM5.41 20L4 18.59l7.72-7.72 1.47 1.35L5.41 20z\"/>\n",
              "  </svg>\n",
              "      </button>\n",
              "      \n",
              "  <style>\n",
              "    .colab-df-container {\n",
              "      display:flex;\n",
              "      flex-wrap:wrap;\n",
              "      gap: 12px;\n",
              "    }\n",
              "\n",
              "    .colab-df-convert {\n",
              "      background-color: #E8F0FE;\n",
              "      border: none;\n",
              "      border-radius: 50%;\n",
              "      cursor: pointer;\n",
              "      display: none;\n",
              "      fill: #1967D2;\n",
              "      height: 32px;\n",
              "      padding: 0 0 0 0;\n",
              "      width: 32px;\n",
              "    }\n",
              "\n",
              "    .colab-df-convert:hover {\n",
              "      background-color: #E2EBFA;\n",
              "      box-shadow: 0px 1px 2px rgba(60, 64, 67, 0.3), 0px 1px 3px 1px rgba(60, 64, 67, 0.15);\n",
              "      fill: #174EA6;\n",
              "    }\n",
              "\n",
              "    [theme=dark] .colab-df-convert {\n",
              "      background-color: #3B4455;\n",
              "      fill: #D2E3FC;\n",
              "    }\n",
              "\n",
              "    [theme=dark] .colab-df-convert:hover {\n",
              "      background-color: #434B5C;\n",
              "      box-shadow: 0px 1px 3px 1px rgba(0, 0, 0, 0.15);\n",
              "      filter: drop-shadow(0px 1px 2px rgba(0, 0, 0, 0.3));\n",
              "      fill: #FFFFFF;\n",
              "    }\n",
              "  </style>\n",
              "\n",
              "      <script>\n",
              "        const buttonEl =\n",
              "          document.querySelector('#df-00033ab3-b074-47e4-a90b-2452359c8e35 button.colab-df-convert');\n",
              "        buttonEl.style.display =\n",
              "          google.colab.kernel.accessAllowed ? 'block' : 'none';\n",
              "\n",
              "        async function convertToInteractive(key) {\n",
              "          const element = document.querySelector('#df-00033ab3-b074-47e4-a90b-2452359c8e35');\n",
              "          const dataTable =\n",
              "            await google.colab.kernel.invokeFunction('convertToInteractive',\n",
              "                                                     [key], {});\n",
              "          if (!dataTable) return;\n",
              "\n",
              "          const docLinkHtml = 'Like what you see? Visit the ' +\n",
              "            '<a target=\"_blank\" href=https://colab.research.google.com/notebooks/data_table.ipynb>data table notebook</a>'\n",
              "            + ' to learn more about interactive tables.';\n",
              "          element.innerHTML = '';\n",
              "          dataTable['output_type'] = 'display_data';\n",
              "          await google.colab.output.renderOutput(dataTable, element);\n",
              "          const docLink = document.createElement('div');\n",
              "          docLink.innerHTML = docLinkHtml;\n",
              "          element.appendChild(docLink);\n",
              "        }\n",
              "      </script>\n",
              "    </div>\n",
              "  </div>\n",
              "  "
            ]
          },
          "metadata": {},
          "execution_count": 29
        }
      ]
    },
    {
      "cell_type": "code",
      "source": [
        "stroke_gender_2 = spark.sql('SELECT Gender, COUNT(stroke) FROM dataView WHERE STROKE == 0 group by gender').toPandas()\n",
        "stroke_gender_2"
      ],
      "metadata": {
        "colab": {
          "base_uri": "https://localhost:8080/",
          "height": 144
        },
        "id": "FBBOA4RlYNHe",
        "outputId": "26d65efa-1e62-4138-c31b-5f36a45dcc40"
      },
      "execution_count": 30,
      "outputs": [
        {
          "output_type": "execute_result",
          "data": {
            "text/plain": [
              "   Gender  count(stroke)\n",
              "0  Female           2042\n",
              "1   Other              1\n",
              "2    Male           1321"
            ],
            "text/html": [
              "\n",
              "  <div id=\"df-59ada54c-b7f7-41cd-bad9-318f9bae9568\">\n",
              "    <div class=\"colab-df-container\">\n",
              "      <div>\n",
              "<style scoped>\n",
              "    .dataframe tbody tr th:only-of-type {\n",
              "        vertical-align: middle;\n",
              "    }\n",
              "\n",
              "    .dataframe tbody tr th {\n",
              "        vertical-align: top;\n",
              "    }\n",
              "\n",
              "    .dataframe thead th {\n",
              "        text-align: right;\n",
              "    }\n",
              "</style>\n",
              "<table border=\"1\" class=\"dataframe\">\n",
              "  <thead>\n",
              "    <tr style=\"text-align: right;\">\n",
              "      <th></th>\n",
              "      <th>Gender</th>\n",
              "      <th>count(stroke)</th>\n",
              "    </tr>\n",
              "  </thead>\n",
              "  <tbody>\n",
              "    <tr>\n",
              "      <th>0</th>\n",
              "      <td>Female</td>\n",
              "      <td>2042</td>\n",
              "    </tr>\n",
              "    <tr>\n",
              "      <th>1</th>\n",
              "      <td>Other</td>\n",
              "      <td>1</td>\n",
              "    </tr>\n",
              "    <tr>\n",
              "      <th>2</th>\n",
              "      <td>Male</td>\n",
              "      <td>1321</td>\n",
              "    </tr>\n",
              "  </tbody>\n",
              "</table>\n",
              "</div>\n",
              "      <button class=\"colab-df-convert\" onclick=\"convertToInteractive('df-59ada54c-b7f7-41cd-bad9-318f9bae9568')\"\n",
              "              title=\"Convert this dataframe to an interactive table.\"\n",
              "              style=\"display:none;\">\n",
              "        \n",
              "  <svg xmlns=\"http://www.w3.org/2000/svg\" height=\"24px\"viewBox=\"0 0 24 24\"\n",
              "       width=\"24px\">\n",
              "    <path d=\"M0 0h24v24H0V0z\" fill=\"none\"/>\n",
              "    <path d=\"M18.56 5.44l.94 2.06.94-2.06 2.06-.94-2.06-.94-.94-2.06-.94 2.06-2.06.94zm-11 1L8.5 8.5l.94-2.06 2.06-.94-2.06-.94L8.5 2.5l-.94 2.06-2.06.94zm10 10l.94 2.06.94-2.06 2.06-.94-2.06-.94-.94-2.06-.94 2.06-2.06.94z\"/><path d=\"M17.41 7.96l-1.37-1.37c-.4-.4-.92-.59-1.43-.59-.52 0-1.04.2-1.43.59L10.3 9.45l-7.72 7.72c-.78.78-.78 2.05 0 2.83L4 21.41c.39.39.9.59 1.41.59.51 0 1.02-.2 1.41-.59l7.78-7.78 2.81-2.81c.8-.78.8-2.07 0-2.86zM5.41 20L4 18.59l7.72-7.72 1.47 1.35L5.41 20z\"/>\n",
              "  </svg>\n",
              "      </button>\n",
              "      \n",
              "  <style>\n",
              "    .colab-df-container {\n",
              "      display:flex;\n",
              "      flex-wrap:wrap;\n",
              "      gap: 12px;\n",
              "    }\n",
              "\n",
              "    .colab-df-convert {\n",
              "      background-color: #E8F0FE;\n",
              "      border: none;\n",
              "      border-radius: 50%;\n",
              "      cursor: pointer;\n",
              "      display: none;\n",
              "      fill: #1967D2;\n",
              "      height: 32px;\n",
              "      padding: 0 0 0 0;\n",
              "      width: 32px;\n",
              "    }\n",
              "\n",
              "    .colab-df-convert:hover {\n",
              "      background-color: #E2EBFA;\n",
              "      box-shadow: 0px 1px 2px rgba(60, 64, 67, 0.3), 0px 1px 3px 1px rgba(60, 64, 67, 0.15);\n",
              "      fill: #174EA6;\n",
              "    }\n",
              "\n",
              "    [theme=dark] .colab-df-convert {\n",
              "      background-color: #3B4455;\n",
              "      fill: #D2E3FC;\n",
              "    }\n",
              "\n",
              "    [theme=dark] .colab-df-convert:hover {\n",
              "      background-color: #434B5C;\n",
              "      box-shadow: 0px 1px 3px 1px rgba(0, 0, 0, 0.15);\n",
              "      filter: drop-shadow(0px 1px 2px rgba(0, 0, 0, 0.3));\n",
              "      fill: #FFFFFF;\n",
              "    }\n",
              "  </style>\n",
              "\n",
              "      <script>\n",
              "        const buttonEl =\n",
              "          document.querySelector('#df-59ada54c-b7f7-41cd-bad9-318f9bae9568 button.colab-df-convert');\n",
              "        buttonEl.style.display =\n",
              "          google.colab.kernel.accessAllowed ? 'block' : 'none';\n",
              "\n",
              "        async function convertToInteractive(key) {\n",
              "          const element = document.querySelector('#df-59ada54c-b7f7-41cd-bad9-318f9bae9568');\n",
              "          const dataTable =\n",
              "            await google.colab.kernel.invokeFunction('convertToInteractive',\n",
              "                                                     [key], {});\n",
              "          if (!dataTable) return;\n",
              "\n",
              "          const docLinkHtml = 'Like what you see? Visit the ' +\n",
              "            '<a target=\"_blank\" href=https://colab.research.google.com/notebooks/data_table.ipynb>data table notebook</a>'\n",
              "            + ' to learn more about interactive tables.';\n",
              "          element.innerHTML = '';\n",
              "          dataTable['output_type'] = 'display_data';\n",
              "          await google.colab.output.renderOutput(dataTable, element);\n",
              "          const docLink = document.createElement('div');\n",
              "          docLink.innerHTML = docLinkHtml;\n",
              "          element.appendChild(docLink);\n",
              "        }\n",
              "      </script>\n",
              "    </div>\n",
              "  </div>\n",
              "  "
            ]
          },
          "metadata": {},
          "execution_count": 30
        }
      ]
    },
    {
      "cell_type": "code",
      "source": [
        "stroke_rate_gender =stroke_gender_1.set_index('Gender')['count(stroke)']/count_stroke.set_index('Gender')['count(stroke)'].drop(index = 'Other', axis = 0) * 100\n",
        "stroke_rate_gender"
      ],
      "metadata": {
        "colab": {
          "base_uri": "https://localhost:8080/"
        },
        "id": "QeeDbaDNb1TD",
        "outputId": "1b65ab5b-bba8-4d2d-ae57-8910e635b96f"
      },
      "execution_count": 31,
      "outputs": [
        {
          "output_type": "execute_result",
          "data": {
            "text/plain": [
              "Gender\n",
              "Female    5.375348\n",
              "Male      6.112296\n",
              "Name: count(stroke), dtype: float64"
            ]
          },
          "metadata": {},
          "execution_count": 31
        }
      ]
    },
    {
      "cell_type": "markdown",
      "source": [
        "Analisando o gráfico abaixo, podemos notar que as mulheres dessa amostragem sofreram mais AVCs que os homens em número absoluto. Porém, os homens dessa amostra apresentam uma taxa de infarto de 6.11%, já as mulheres de 5.37%."
      ],
      "metadata": {
        "id": "ojQLWckMWZqK"
      }
    },
    {
      "cell_type": "code",
      "source": [
        "fig = make_subplots(rows=2, cols=2, shared_yaxes=True, vertical_spacing=0.4, horizontal_spacing=0.1, subplot_titles = [\"Had a stroke\", \"Did Not have a stroke\", \"Rate of stroke by gender\"])\n",
        "fig.add_trace(go.Bar(x=stroke_gender_1['count(stroke)'], y=stroke_gender_1['Gender'], orientation='h'), row=1, col=1)\n",
        "fig.add_trace(go.Bar(x=stroke_gender_2['count(stroke)'], y=stroke_gender_2['Gender'], orientation='h'), row=1, col=2)\n",
        "fig.add_trace(go.Bar(x = stroke_rate_gender.values, y=  stroke_rate_gender.index, orientation='h'), row=2, col=1)\n",
        "fig.update_xaxes(title = 'Individuals Count', row=1, col=1).update_xaxes(title = 'Individuals Count', row=1, col=2).update_xaxes(title = 'Rate (%)', row=2, col=1).update_yaxes(title = 'Gender', row=2, col=1)\n",
        "fig.update_layout(yaxis_title='Gender', height=400, width=800, template=\"plotly_dark\", showlegend=False, margin=dict(t=50, r =50))\n",
        "fig.show('png')\n"
      ],
      "metadata": {
        "colab": {
          "base_uri": "https://localhost:8080/",
          "height": 417
        },
        "id": "ExWUuxkAiXUY",
        "outputId": "43179be8-38ae-4861-e49d-07b4f1612d42"
      },
      "execution_count": 32,
      "outputs": [
        {
          "output_type": "display_data",
          "data": {
            "image/png": "[encoded data removed]"
          },
          "metadata": {}
        }
      ]
    },
    {
      "cell_type": "markdown",
      "source": [
        "#Análise da coluna \"avg_glucose_level\"\n",
        "Foi analisado o nível de glicose médio no sangue separando também por grupos de gênero.\n",
        "Os homens apresentaram uma média maior que das mulheres."
      ],
      "metadata": {
        "id": "Gu0QI1lC1hpY"
      }
    },
    {
      "cell_type": "code",
      "source": [
        "spark.sql('SELECT gender, avg(avg_glucose_level) FROM dataView GROUP BY gender').show()"
      ],
      "metadata": {
        "colab": {
          "base_uri": "https://localhost:8080/"
        },
        "id": "dCR9W5CifTdy",
        "outputId": "8a9bc4bc-f7c6-49a8-e2e6-3deb3d33b7df"
      },
      "execution_count": 33,
      "outputs": [
        {
          "output_type": "stream",
          "name": "stdout",
          "text": [
            "+------+----------------------+\n",
            "|gender|avg(avg_glucose_level)|\n",
            "+------+----------------------+\n",
            "|Female|     106.3854772937906|\n",
            "| Other|                143.33|\n",
            "|  Male|    112.94005685856435|\n",
            "+------+----------------------+\n",
            "\n"
          ]
        }
      ]
    },
    {
      "cell_type": "markdown",
      "source": [
        "Foi necessário verificar essa informação estatisticamente. Para escolhermos o teste adequado, primeiro foi preciso realizar um teste de normalidade para avaliar a distribuição da variável \"avg_glucose_level\". O resultado estatístico indicou que a hipótese nula de normalidade foi rejeitada, o que significa que com 99% de confiança, não podemos afirmar que essa variável segue uma distribuição normal."
      ],
      "metadata": {
        "id": "2hQJwJ9j2gNM"
      }
    },
    {
      "cell_type": "code",
      "source": [
        "from scipy.stats import kstest\n",
        "from scipy.stats import mannwhitneyu"
      ],
      "metadata": {
        "id": "C0QNhqlAm7fZ"
      },
      "execution_count": 34,
      "outputs": []
    },
    {
      "cell_type": "code",
      "source": [
        "def normal_test(array, alpha):\n",
        "  stat_test, p_value = kstest(array, 'norm')\n",
        "  alpha = 0.01\n",
        "  if p_value < alpha:  \n",
        "      print(\"The null hypothesis can be rejected. It's not a normal distribution\")\n",
        "  else:\n",
        "      print(\"The null hypothesis cannot be rejected. It's a normal distribution\")\n"
      ],
      "metadata": {
        "id": "oU0AeZdhow_Z"
      },
      "execution_count": 35,
      "outputs": []
    },
    {
      "cell_type": "code",
      "source": [
        "normal_test(data_modi.select('avg_glucose_level').toPandas(), alpha = 0.01)"
      ],
      "metadata": {
        "colab": {
          "base_uri": "https://localhost:8080/"
        },
        "id": "qrTSCvPstbYY",
        "outputId": "cd1ad011-194a-4049-ef07-dbf1952118b6"
      },
      "execution_count": 36,
      "outputs": [
        {
          "output_type": "stream",
          "name": "stdout",
          "text": [
            "The null hypothesis can be rejected. It's not a normal distribution\n"
          ]
        }
      ]
    },
    {
      "cell_type": "markdown",
      "source": [
        "Foram criados DataFrames do Pandas separando os dados de glicose médio por gênero:"
      ],
      "metadata": {
        "id": "0dEMpSiD3YKS"
      }
    },
    {
      "cell_type": "code",
      "source": [
        "glucose_male = spark.sql('SELECT avg_glucose_level from dataView where gender == \"Male\"').toPandas()\n",
        "glucose_female = spark.sql('SELECT avg_glucose_level from dataView where gender == \"Female\"').toPandas()"
      ],
      "metadata": {
        "id": "BdTtiEzitEjZ"
      },
      "execution_count": 37,
      "outputs": []
    },
    {
      "cell_type": "markdown",
      "source": [
        "Como se trata de uma distruição não normal, foi escolhido o teste não paramétrico de média para amostras independentes Mann Whitneyu da biblioteca Scipy, utilizando o teste de calda superior."
      ],
      "metadata": {
        "id": "TPkCjG683xZf"
      }
    },
    {
      "cell_type": "markdown",
      "source": [
        "### $H_0: \\mu_{GB} = \\mu_{RF}$\n",
        "\n",
        "### $H_1: \\mu_{GB} > \\mu_{RF}$"
      ],
      "metadata": {
        "id": "GmeInc141H_5"
      }
    },
    {
      "cell_type": "code",
      "source": [
        "def test_mean(array1, array2, alternative, alpha):\n",
        "  U1, p_value = mannwhitneyu(glucose_male, glucose_female, alternative =\"greater\")\n",
        "  if p_value < alpha:\n",
        "      print(\"The null hypothesis can be rejected. The means are not igual.\")\n",
        "  else:\n",
        "      print(\"The null hypothesis cannot be rejected. The means are igual.\")"
      ],
      "metadata": {
        "id": "-GXoPYKOrbwy"
      },
      "execution_count": 38,
      "outputs": []
    },
    {
      "cell_type": "code",
      "source": [
        "test_mean(glucose_male, glucose_female, 'greater', alpha = 0.01)"
      ],
      "metadata": {
        "colab": {
          "base_uri": "https://localhost:8080/"
        },
        "id": "t_hV4c6zpZ_a",
        "outputId": "9064a8d8-e02d-495d-98c4-194984dbc4ec"
      },
      "execution_count": 39,
      "outputs": [
        {
          "output_type": "stream",
          "name": "stdout",
          "text": [
            "The null hypothesis can be rejected. The means are not igual.\n"
          ]
        }
      ]
    },
    {
      "cell_type": "markdown",
      "source": [
        "Podemos afirmar estatisticamente com 99% de confiança que os homens dessa amostra tem em média uma glicose média maior."
      ],
      "metadata": {
        "id": "f3NLsX_e4QMw"
      }
    },
    {
      "cell_type": "markdown",
      "source": [
        "Foi feito também um teste de hipótese de média para testar se a média de glicose de quem já teve infarto é maior de quem já teve."
      ],
      "metadata": {
        "id": "KNdCiWgroUHS"
      }
    },
    {
      "cell_type": "code",
      "source": [
        "spark.sql('SELECT avg(avg_glucose_level) as avg_glucose_level_had_stroke from dataView where stroke == 1').show()"
      ],
      "metadata": {
        "colab": {
          "base_uri": "https://localhost:8080/"
        },
        "id": "w7QIh9v-r3Mx",
        "outputId": "452751ee-6992-4ec5-f148-7e9b584674e9"
      },
      "execution_count": 40,
      "outputs": [
        {
          "output_type": "stream",
          "name": "stdout",
          "text": [
            "+----------------------------+\n",
            "|avg_glucose_level_had_stroke|\n",
            "+----------------------------+\n",
            "|          134.34465346534648|\n",
            "+----------------------------+\n",
            "\n"
          ]
        }
      ]
    },
    {
      "cell_type": "code",
      "source": [
        "spark.sql('SELECT avg(avg_glucose_level) as avg_glucose_level_had_stroke from dataView where stroke == 0').show()"
      ],
      "metadata": {
        "colab": {
          "base_uri": "https://localhost:8080/"
        },
        "id": "jiWfqe7Nr-Gu",
        "outputId": "924f0bc6-c244-4272-c62e-72fd078da904"
      },
      "execution_count": 41,
      "outputs": [
        {
          "output_type": "stream",
          "name": "stdout",
          "text": [
            "+----------------------------+\n",
            "|avg_glucose_level_had_stroke|\n",
            "+----------------------------+\n",
            "|          107.45904577883448|\n",
            "+----------------------------+\n",
            "\n"
          ]
        }
      ]
    },
    {
      "cell_type": "code",
      "source": [
        "glucose_level_stroke1= spark.sql('SELECT avg_glucose_level from dataView where stroke == 1').toPandas()\n",
        "glucose_level_stroke0= spark.sql('SELECT avg_glucose_level from dataView where stroke == 0').toPandas()"
      ],
      "metadata": {
        "id": "goXN0Pxw4ecr"
      },
      "execution_count": 42,
      "outputs": []
    },
    {
      "cell_type": "markdown",
      "source": [
        "Foi aplicado novamente o teste Mann Whitneyu de média."
      ],
      "metadata": {
        "id": "M2aexuWzv4uU"
      }
    },
    {
      "cell_type": "code",
      "source": [
        "test_mean(glucose_level_stroke1, glucose_level_stroke0, 'greater', alpha = 0.01)"
      ],
      "metadata": {
        "colab": {
          "base_uri": "https://localhost:8080/"
        },
        "id": "P4eNUR6Jpju2",
        "outputId": "4c9048a2-960d-401c-b5b7-71cb60a213bd"
      },
      "execution_count": 43,
      "outputs": [
        {
          "output_type": "stream",
          "name": "stdout",
          "text": [
            "The null hypothesis can be rejected. The means are not igual.\n"
          ]
        }
      ]
    },
    {
      "cell_type": "markdown",
      "source": [
        "Com 99% de confiança, pode-se afirmar que as pessoas que tiveram AVC tem em média uma taxa de glicose média maior."
      ],
      "metadata": {
        "id": "_pzWjyP6q7F4"
      }
    },
    {
      "cell_type": "markdown",
      "source": [
        "##Análise da variável \"smoking_status\"\n",
        "A análise dessa variável foi feita em relação à variável dependente \"stroke\" para analisar a possível influência dessa variável nos derrames."
      ],
      "metadata": {
        "id": "yUFsq5loagGu"
      }
    },
    {
      "cell_type": "code",
      "source": [
        "smoking_stroke_1 = spark.sql('SELECT smoking_status, COUNT(*) AS count_stroke_1, ROUND(COUNT(*)/(SELECT COUNT(*) FROM dataView WHERE stroke = 1)*100, 2) AS proportion_stroke_1 FROM dataView WHERE stroke = 1 GROUP BY smoking_status').toPandas()\n"
      ],
      "metadata": {
        "id": "pM9mXsS61-8T"
      },
      "execution_count": 44,
      "outputs": []
    },
    {
      "cell_type": "code",
      "source": [
        "smoking_stroke_1"
      ],
      "metadata": {
        "colab": {
          "base_uri": "https://localhost:8080/",
          "height": 144
        },
        "id": "KSdNYphO624M",
        "outputId": "84db9ae0-197e-4813-ec36-20c944448ad1"
      },
      "execution_count": 45,
      "outputs": [
        {
          "output_type": "execute_result",
          "data": {
            "text/plain": [
              "    smoking_status  count_stroke_1  proportion_stroke_1\n",
              "0           smokes              42                20.79\n",
              "1     never smoked              90                44.55\n",
              "2  formerly smoked              70                34.65"
            ],
            "text/html": [
              "\n",
              "  <div id=\"df-aaa15a4a-6ce1-494e-ac05-441c7678062a\">\n",
              "    <div class=\"colab-df-container\">\n",
              "      <div>\n",
              "<style scoped>\n",
              "    .dataframe tbody tr th:only-of-type {\n",
              "        vertical-align: middle;\n",
              "    }\n",
              "\n",
              "    .dataframe tbody tr th {\n",
              "        vertical-align: top;\n",
              "    }\n",
              "\n",
              "    .dataframe thead th {\n",
              "        text-align: right;\n",
              "    }\n",
              "</style>\n",
              "<table border=\"1\" class=\"dataframe\">\n",
              "  <thead>\n",
              "    <tr style=\"text-align: right;\">\n",
              "      <th></th>\n",
              "      <th>smoking_status</th>\n",
              "      <th>count_stroke_1</th>\n",
              "      <th>proportion_stroke_1</th>\n",
              "    </tr>\n",
              "  </thead>\n",
              "  <tbody>\n",
              "    <tr>\n",
              "      <th>0</th>\n",
              "      <td>smokes</td>\n",
              "      <td>42</td>\n",
              "      <td>20.79</td>\n",
              "    </tr>\n",
              "    <tr>\n",
              "      <th>1</th>\n",
              "      <td>never smoked</td>\n",
              "      <td>90</td>\n",
              "      <td>44.55</td>\n",
              "    </tr>\n",
              "    <tr>\n",
              "      <th>2</th>\n",
              "      <td>formerly smoked</td>\n",
              "      <td>70</td>\n",
              "      <td>34.65</td>\n",
              "    </tr>\n",
              "  </tbody>\n",
              "</table>\n",
              "</div>\n",
              "      <button class=\"colab-df-convert\" onclick=\"convertToInteractive('df-aaa15a4a-6ce1-494e-ac05-441c7678062a')\"\n",
              "              title=\"Convert this dataframe to an interactive table.\"\n",
              "              style=\"display:none;\">\n",
              "        \n",
              "  <svg xmlns=\"http://www.w3.org/2000/svg\" height=\"24px\"viewBox=\"0 0 24 24\"\n",
              "       width=\"24px\">\n",
              "    <path d=\"M0 0h24v24H0V0z\" fill=\"none\"/>\n",
              "    <path d=\"M18.56 5.44l.94 2.06.94-2.06 2.06-.94-2.06-.94-.94-2.06-.94 2.06-2.06.94zm-11 1L8.5 8.5l.94-2.06 2.06-.94-2.06-.94L8.5 2.5l-.94 2.06-2.06.94zm10 10l.94 2.06.94-2.06 2.06-.94-2.06-.94-.94-2.06-.94 2.06-2.06.94z\"/><path d=\"M17.41 7.96l-1.37-1.37c-.4-.4-.92-.59-1.43-.59-.52 0-1.04.2-1.43.59L10.3 9.45l-7.72 7.72c-.78.78-.78 2.05 0 2.83L4 21.41c.39.39.9.59 1.41.59.51 0 1.02-.2 1.41-.59l7.78-7.78 2.81-2.81c.8-.78.8-2.07 0-2.86zM5.41 20L4 18.59l7.72-7.72 1.47 1.35L5.41 20z\"/>\n",
              "  </svg>\n",
              "      </button>\n",
              "      \n",
              "  <style>\n",
              "    .colab-df-container {\n",
              "      display:flex;\n",
              "      flex-wrap:wrap;\n",
              "      gap: 12px;\n",
              "    }\n",
              "\n",
              "    .colab-df-convert {\n",
              "      background-color: #E8F0FE;\n",
              "      border: none;\n",
              "      border-radius: 50%;\n",
              "      cursor: pointer;\n",
              "      display: none;\n",
              "      fill: #1967D2;\n",
              "      height: 32px;\n",
              "      padding: 0 0 0 0;\n",
              "      width: 32px;\n",
              "    }\n",
              "\n",
              "    .colab-df-convert:hover {\n",
              "      background-color: #E2EBFA;\n",
              "      box-shadow: 0px 1px 2px rgba(60, 64, 67, 0.3), 0px 1px 3px 1px rgba(60, 64, 67, 0.15);\n",
              "      fill: #174EA6;\n",
              "    }\n",
              "\n",
              "    [theme=dark] .colab-df-convert {\n",
              "      background-color: #3B4455;\n",
              "      fill: #D2E3FC;\n",
              "    }\n",
              "\n",
              "    [theme=dark] .colab-df-convert:hover {\n",
              "      background-color: #434B5C;\n",
              "      box-shadow: 0px 1px 3px 1px rgba(0, 0, 0, 0.15);\n",
              "      filter: drop-shadow(0px 1px 2px rgba(0, 0, 0, 0.3));\n",
              "      fill: #FFFFFF;\n",
              "    }\n",
              "  </style>\n",
              "\n",
              "      <script>\n",
              "        const buttonEl =\n",
              "          document.querySelector('#df-aaa15a4a-6ce1-494e-ac05-441c7678062a button.colab-df-convert');\n",
              "        buttonEl.style.display =\n",
              "          google.colab.kernel.accessAllowed ? 'block' : 'none';\n",
              "\n",
              "        async function convertToInteractive(key) {\n",
              "          const element = document.querySelector('#df-aaa15a4a-6ce1-494e-ac05-441c7678062a');\n",
              "          const dataTable =\n",
              "            await google.colab.kernel.invokeFunction('convertToInteractive',\n",
              "                                                     [key], {});\n",
              "          if (!dataTable) return;\n",
              "\n",
              "          const docLinkHtml = 'Like what you see? Visit the ' +\n",
              "            '<a target=\"_blank\" href=https://colab.research.google.com/notebooks/data_table.ipynb>data table notebook</a>'\n",
              "            + ' to learn more about interactive tables.';\n",
              "          element.innerHTML = '';\n",
              "          dataTable['output_type'] = 'display_data';\n",
              "          await google.colab.output.renderOutput(dataTable, element);\n",
              "          const docLink = document.createElement('div');\n",
              "          docLink.innerHTML = docLinkHtml;\n",
              "          element.appendChild(docLink);\n",
              "        }\n",
              "      </script>\n",
              "    </div>\n",
              "  </div>\n",
              "  "
            ]
          },
          "metadata": {},
          "execution_count": 45
        }
      ]
    },
    {
      "cell_type": "code",
      "source": [
        "smoking_stroke_0 = spark.sql('SELECT smoking_status, COUNT(*) AS count_stroke_0, ROUND(COUNT(*)/(SELECT COUNT(*) FROM dataView WHERE stroke = 0)*100, 2) AS proportion_stroke_0 FROM dataView WHERE stroke = 0 GROUP BY smoking_status').toPandas()\n"
      ],
      "metadata": {
        "id": "9ERIgru0bZeK"
      },
      "execution_count": 46,
      "outputs": []
    },
    {
      "cell_type": "code",
      "source": [
        "smoking_stroke_0"
      ],
      "metadata": {
        "colab": {
          "base_uri": "https://localhost:8080/",
          "height": 144
        },
        "id": "YlE41pJS68IF",
        "outputId": "6e74d9d2-7dcc-4f09-972f-c60eac16068d"
      },
      "execution_count": 47,
      "outputs": [
        {
          "output_type": "execute_result",
          "data": {
            "text/plain": [
              "    smoking_status  count_stroke_0  proportion_stroke_0\n",
              "0           smokes             747                22.21\n",
              "1     never smoked            1802                53.57\n",
              "2  formerly smoked             815                24.23"
            ],
            "text/html": [
              "\n",
              "  <div id=\"df-494ecc3f-1ed4-417c-979c-d3d2919495e8\">\n",
              "    <div class=\"colab-df-container\">\n",
              "      <div>\n",
              "<style scoped>\n",
              "    .dataframe tbody tr th:only-of-type {\n",
              "        vertical-align: middle;\n",
              "    }\n",
              "\n",
              "    .dataframe tbody tr th {\n",
              "        vertical-align: top;\n",
              "    }\n",
              "\n",
              "    .dataframe thead th {\n",
              "        text-align: right;\n",
              "    }\n",
              "</style>\n",
              "<table border=\"1\" class=\"dataframe\">\n",
              "  <thead>\n",
              "    <tr style=\"text-align: right;\">\n",
              "      <th></th>\n",
              "      <th>smoking_status</th>\n",
              "      <th>count_stroke_0</th>\n",
              "      <th>proportion_stroke_0</th>\n",
              "    </tr>\n",
              "  </thead>\n",
              "  <tbody>\n",
              "    <tr>\n",
              "      <th>0</th>\n",
              "      <td>smokes</td>\n",
              "      <td>747</td>\n",
              "      <td>22.21</td>\n",
              "    </tr>\n",
              "    <tr>\n",
              "      <th>1</th>\n",
              "      <td>never smoked</td>\n",
              "      <td>1802</td>\n",
              "      <td>53.57</td>\n",
              "    </tr>\n",
              "    <tr>\n",
              "      <th>2</th>\n",
              "      <td>formerly smoked</td>\n",
              "      <td>815</td>\n",
              "      <td>24.23</td>\n",
              "    </tr>\n",
              "  </tbody>\n",
              "</table>\n",
              "</div>\n",
              "      <button class=\"colab-df-convert\" onclick=\"convertToInteractive('df-494ecc3f-1ed4-417c-979c-d3d2919495e8')\"\n",
              "              title=\"Convert this dataframe to an interactive table.\"\n",
              "              style=\"display:none;\">\n",
              "        \n",
              "  <svg xmlns=\"http://www.w3.org/2000/svg\" height=\"24px\"viewBox=\"0 0 24 24\"\n",
              "       width=\"24px\">\n",
              "    <path d=\"M0 0h24v24H0V0z\" fill=\"none\"/>\n",
              "    <path d=\"M18.56 5.44l.94 2.06.94-2.06 2.06-.94-2.06-.94-.94-2.06-.94 2.06-2.06.94zm-11 1L8.5 8.5l.94-2.06 2.06-.94-2.06-.94L8.5 2.5l-.94 2.06-2.06.94zm10 10l.94 2.06.94-2.06 2.06-.94-2.06-.94-.94-2.06-.94 2.06-2.06.94z\"/><path d=\"M17.41 7.96l-1.37-1.37c-.4-.4-.92-.59-1.43-.59-.52 0-1.04.2-1.43.59L10.3 9.45l-7.72 7.72c-.78.78-.78 2.05 0 2.83L4 21.41c.39.39.9.59 1.41.59.51 0 1.02-.2 1.41-.59l7.78-7.78 2.81-2.81c.8-.78.8-2.07 0-2.86zM5.41 20L4 18.59l7.72-7.72 1.47 1.35L5.41 20z\"/>\n",
              "  </svg>\n",
              "      </button>\n",
              "      \n",
              "  <style>\n",
              "    .colab-df-container {\n",
              "      display:flex;\n",
              "      flex-wrap:wrap;\n",
              "      gap: 12px;\n",
              "    }\n",
              "\n",
              "    .colab-df-convert {\n",
              "      background-color: #E8F0FE;\n",
              "      border: none;\n",
              "      border-radius: 50%;\n",
              "      cursor: pointer;\n",
              "      display: none;\n",
              "      fill: #1967D2;\n",
              "      height: 32px;\n",
              "      padding: 0 0 0 0;\n",
              "      width: 32px;\n",
              "    }\n",
              "\n",
              "    .colab-df-convert:hover {\n",
              "      background-color: #E2EBFA;\n",
              "      box-shadow: 0px 1px 2px rgba(60, 64, 67, 0.3), 0px 1px 3px 1px rgba(60, 64, 67, 0.15);\n",
              "      fill: #174EA6;\n",
              "    }\n",
              "\n",
              "    [theme=dark] .colab-df-convert {\n",
              "      background-color: #3B4455;\n",
              "      fill: #D2E3FC;\n",
              "    }\n",
              "\n",
              "    [theme=dark] .colab-df-convert:hover {\n",
              "      background-color: #434B5C;\n",
              "      box-shadow: 0px 1px 3px 1px rgba(0, 0, 0, 0.15);\n",
              "      filter: drop-shadow(0px 1px 2px rgba(0, 0, 0, 0.3));\n",
              "      fill: #FFFFFF;\n",
              "    }\n",
              "  </style>\n",
              "\n",
              "      <script>\n",
              "        const buttonEl =\n",
              "          document.querySelector('#df-494ecc3f-1ed4-417c-979c-d3d2919495e8 button.colab-df-convert');\n",
              "        buttonEl.style.display =\n",
              "          google.colab.kernel.accessAllowed ? 'block' : 'none';\n",
              "\n",
              "        async function convertToInteractive(key) {\n",
              "          const element = document.querySelector('#df-494ecc3f-1ed4-417c-979c-d3d2919495e8');\n",
              "          const dataTable =\n",
              "            await google.colab.kernel.invokeFunction('convertToInteractive',\n",
              "                                                     [key], {});\n",
              "          if (!dataTable) return;\n",
              "\n",
              "          const docLinkHtml = 'Like what you see? Visit the ' +\n",
              "            '<a target=\"_blank\" href=https://colab.research.google.com/notebooks/data_table.ipynb>data table notebook</a>'\n",
              "            + ' to learn more about interactive tables.';\n",
              "          element.innerHTML = '';\n",
              "          dataTable['output_type'] = 'display_data';\n",
              "          await google.colab.output.renderOutput(dataTable, element);\n",
              "          const docLink = document.createElement('div');\n",
              "          docLink.innerHTML = docLinkHtml;\n",
              "          element.appendChild(docLink);\n",
              "        }\n",
              "      </script>\n",
              "    </div>\n",
              "  </div>\n",
              "  "
            ]
          },
          "metadata": {},
          "execution_count": 47
        }
      ]
    },
    {
      "cell_type": "markdown",
      "source": [
        "Ao analisar o gráfico abaixo, é possível observar uma diferença considerável na taxa de indivíduos que nunca fumaram e fumam socialmente entre os grupos que tiveram e não tiveram AVC."
      ],
      "metadata": {
        "id": "dLqazeWO9qu6"
      }
    },
    {
      "cell_type": "code",
      "source": [
        "fig = make_subplots(rows=1, cols=2, shared_yaxes=True, vertical_spacing=0.4, horizontal_spacing=0.1, subplot_titles = [\"Had a stroke\", \"Did not have a stroke\"])\n",
        "fig.add_trace(go.Bar(x=smoking_stroke_1.proportion_stroke_1, y=smoking_stroke_1.smoking_status, orientation='h', name=\"Ataque Cardíaco\"), row=1, col=1)\n",
        "fig.add_trace(go.Bar(x=smoking_stroke_0.proportion_stroke_0, y=smoking_stroke_0.smoking_status, orientation='h', name=\"Ataque Cardíaco\"), row=1, col=2)\n",
        "\n",
        "fig.update_xaxes(title = \"Count Smoking_status/Count Had a Stroke %\", row=1, col=1).update_xaxes(title = \"Count Smoking Status/Not Had a Stroke %\", row=1, col=2)\n",
        "fig.update_layout(height=400, width=800, template=\"plotly_dark\", showlegend=False, margin=dict(t=50, r =50))\n",
        "fig.show('png')"
      ],
      "metadata": {
        "colab": {
          "base_uri": "https://localhost:8080/",
          "height": 417
        },
        "id": "ilykJu_R6dTa",
        "outputId": "3a5e1dc0-16a3-4c8f-b3d7-a7706d43902c"
      },
      "execution_count": 48,
      "outputs": [
        {
          "output_type": "display_data",
          "data": {
            "image/png": "[encoded data removed]"
          },
          "metadata": {}
        }
      ]
    },
    {
      "cell_type": "markdown",
      "source": [
        "#Análise da variável \"age\":\n"
      ],
      "metadata": {
        "id": "DccXazYOLeou"
      }
    },
    {
      "cell_type": "code",
      "source": [
        "fig = px.box(df.age, orientation= 'h')\n",
        "fig.show('png')"
      ],
      "metadata": {
        "colab": {
          "base_uri": "https://localhost:8080/",
          "height": 517
        },
        "id": "S-UtCnAeQdxI",
        "outputId": "f7a641e2-cc84-445b-bd00-7f18d22f2b90"
      },
      "execution_count": 49,
      "outputs": [
        {
          "output_type": "display_data",
          "data": {
            "image/png": "[encoded data removed]"
          },
          "metadata": {}
        }
      ]
    },
    {
      "cell_type": "code",
      "source": [
        "spark.sql('SELECT age from dataView').summary().show()"
      ],
      "metadata": {
        "colab": {
          "base_uri": "https://localhost:8080/"
        },
        "id": "ukrXGmdhLjM9",
        "outputId": "90399a35-8991-463f-cf6d-4df67825d1ac"
      },
      "execution_count": 50,
      "outputs": [
        {
          "output_type": "stream",
          "name": "stdout",
          "text": [
            "+-------+------------------+\n",
            "|summary|               age|\n",
            "+-------+------------------+\n",
            "|  count|              3566|\n",
            "|   mean| 48.85389792484577|\n",
            "| stddev|18.874375282520642|\n",
            "|    min|              10.0|\n",
            "|    25%|              34.0|\n",
            "|    50%|              50.0|\n",
            "|    75%|              63.0|\n",
            "|    max|              82.0|\n",
            "+-------+------------------+\n",
            "\n"
          ]
        }
      ]
    },
    {
      "cell_type": "code",
      "source": [
        "spark.sql('SELECT avg(age) from dataView where stroke == 1').show()"
      ],
      "metadata": {
        "colab": {
          "base_uri": "https://localhost:8080/"
        },
        "id": "v9iy74ZtM-Ip",
        "outputId": "21805fe2-9a40-4fa1-ae56-e9684f9372ff"
      },
      "execution_count": 51,
      "outputs": [
        {
          "output_type": "stream",
          "name": "stdout",
          "text": [
            "+-----------------+\n",
            "|         avg(age)|\n",
            "+-----------------+\n",
            "|68.16831683168317|\n",
            "+-----------------+\n",
            "\n"
          ]
        }
      ]
    },
    {
      "cell_type": "code",
      "source": [
        "spark.sql('SELECT avg(age) from dataView where stroke == 0').show()"
      ],
      "metadata": {
        "colab": {
          "base_uri": "https://localhost:8080/"
        },
        "id": "RV8fC1WINniy",
        "outputId": "b1ac6280-ab5f-4858-a97b-d503fe1199de"
      },
      "execution_count": 52,
      "outputs": [
        {
          "output_type": "stream",
          "name": "stdout",
          "text": [
            "+------------------+\n",
            "|          avg(age)|\n",
            "+------------------+\n",
            "|47.694114149821644|\n",
            "+------------------+\n",
            "\n"
          ]
        }
      ]
    },
    {
      "cell_type": "code",
      "source": [
        "normal_test(df.age, alpha = 0.01)"
      ],
      "metadata": {
        "colab": {
          "base_uri": "https://localhost:8080/"
        },
        "id": "U93uNzINOMRm",
        "outputId": "9e2980c7-9eab-41f1-ab97-4fc44fe1a43a"
      },
      "execution_count": 53,
      "outputs": [
        {
          "output_type": "stream",
          "name": "stdout",
          "text": [
            "The null hypothesis can be rejected. It's not a normal distribution\n"
          ]
        }
      ]
    },
    {
      "cell_type": "code",
      "source": [
        "age_stroke1 = spark.sql('SELECT age from dataView where stroke == 1').toPandas()\n",
        "age_stroke0 = spark.sql('SELECT age from dataView where stroke == 0').toPandas()"
      ],
      "metadata": {
        "id": "tfR4rhU7OkH2"
      },
      "execution_count": 54,
      "outputs": []
    },
    {
      "cell_type": "code",
      "source": [
        "test_mean(age_stroke1, age_stroke0, 'greater', alpha = 0.01)"
      ],
      "metadata": {
        "colab": {
          "base_uri": "https://localhost:8080/"
        },
        "id": "CJ-Sn83_O9eR",
        "outputId": "bf297a82-87db-48d0-d3c2-6aa01322676d"
      },
      "execution_count": 55,
      "outputs": [
        {
          "output_type": "stream",
          "name": "stdout",
          "text": [
            "The null hypothesis can be rejected. The means are not igual.\n"
          ]
        }
      ]
    },
    {
      "cell_type": "markdown",
      "source": [
        "Podemos afimar com 99% de confiança que as pessoas da amostra que sofreram derrame em média mais velhas com idade e média superior a 40% (68/47)."
      ],
      "metadata": {
        "id": "A6FiyBETPpxt"
      }
    }
  ]
}