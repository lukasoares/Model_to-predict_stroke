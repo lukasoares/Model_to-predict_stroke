{
  "nbformat": 4,
  "nbformat_minor": 0,
  "metadata": {
    "colab": {
      "provenance": [],
      "mount_file_id": "1e7QAx7LiPeKHO04xYLXufMGwoK-yfTaf",
      "authorship_tag": "ABX9TyNGQvrQpH4DFPpWxXQdVqfW",
      "include_colab_link": true
    },
    "kernelspec": {
      "name": "python3",
      "display_name": "Python 3"
    },
    "language_info": {
      "name": "python"
    },
    "accelerator": "GPU",
    "gpuClass": "standard"
  },
  "cells": [
    {
      "cell_type": "markdown",
      "metadata": {
        "id": "view-in-github",
        "colab_type": "text"
      },
      "source": [
        "<a href=\"https://colab.research.google.com/github/lukasoares/Model_to_predict_stroke/blob/main/Notebook_2_Preprocessamento_e_construcao_do_modelo/%20Modelagem_DataStroke.ipynb\" target=\"_parent\"><img src=\"https://colab.research.google.com/assets/colab-badge.svg\" alt=\"Open In Colab\"/></a>"
      ]
    },
    {
      "cell_type": "markdown",
      "source": [
        "##Iniciando o Spark no Google Colab:"
      ],
      "metadata": {
        "id": "cK3mYhFwbwb3"
      }
    },
    {
      "cell_type": "code",
      "execution_count": 1,
      "metadata": {
        "id": "NbLOvDvnoUVy"
      },
      "outputs": [],
      "source": [
        "!apt-get update -qq\n",
        "!apt-get install openjdk-8-jdk-headless -qq > /dev/null\n",
        "!wget -q https://archive.apache.org/dist/spark/spark-3.1.2/spark-3.1.2-bin-hadoop2.7.tgz\n",
        "!tar xf spark-3.1.2-bin-hadoop2.7.tgz\n",
        "!pip install -q findspark"
      ]
    },
    {
      "cell_type": "code",
      "source": [
        "import os\n",
        "os.environ[\"JAVA_HOME\"] = \"/usr/lib/jvm/java-8-openjdk-amd64\"\n",
        "os.environ[\"SPARK_HOME\"] = \"/content/spark-3.1.2-bin-hadoop2.7\""
      ],
      "metadata": {
        "id": "Pn4UK0Gjoe7U"
      },
      "execution_count": 2,
      "outputs": []
    },
    {
      "cell_type": "code",
      "source": [
        "import findspark\n",
        "findspark.init()\n"
      ],
      "metadata": {
        "id": "XVcpR0Hpog_e"
      },
      "execution_count": 3,
      "outputs": []
    },
    {
      "cell_type": "code",
      "source": [
        "from pyspark.sql import SparkSession\n",
        "\n",
        "spark = SparkSession.builder \\\n",
        "    .master('local[*]') \\\n",
        "    .appName(\"DataStrokeWithPysparkSQL\") \\\n",
        "    .getOrCreate()"
      ],
      "metadata": {
        "id": "dpiICppWolR_"
      },
      "execution_count": 4,
      "outputs": []
    },
    {
      "cell_type": "markdown",
      "source": [
        "##Importando as bibliotecas que vão ser utilizadas"
      ],
      "metadata": {
        "id": "hhfxmY3bMWf_"
      }
    },
    {
      "cell_type": "code",
      "source": [
        "import numpy as np\n",
        "import plotly.express as px\n",
        "from pyspark.ml.feature import VectorAssembler,OneHotEncoder, StringIndexer\n",
        "from pyspark.ml import Pipeline\n",
        "from pyspark.ml.stat import Correlation\n",
        "import pandas as pd\n",
        "import matplotlib.pyplot as plt\n",
        "import seaborn as sns\n",
        "from imblearn.over_sampling import SMOTE\n",
        "from pyspark.ml.classification import LogisticRegression\n",
        "from pyspark.ml.classification import RandomForestClassifier\n",
        "from pyspark.ml.tuning import CrossValidator, ParamGridBuilder\n",
        "from pyspark.ml.evaluation import MulticlassClassificationEvaluator\n",
        "from pyspark.ml.feature import StandardScaler\n",
        "from pyspark.ml.classification import LinearSVC\n",
        "from pyspark.ml.classification import GBTClassifier\n",
        "from sklearn.metrics import confusion_matrix"
      ],
      "metadata": {
        "id": "NZGGxDejvarX"
      },
      "execution_count": 6,
      "outputs": []
    },
    {
      "cell_type": "code",
      "source": [
        "!pip install -U kaleido"
      ],
      "metadata": {
        "id": "VPe9H_7qRU8m",
        "colab": {
          "base_uri": "https://localhost:8080/"
        },
        "outputId": "54bbd1c9-b26d-4539-cd07-9547eca6b625"
      },
      "execution_count": 5,
      "outputs": [
        {
          "output_type": "stream",
          "name": "stdout",
          "text": [
            "Looking in indexes: https://pypi.org/simple, https://us-python.pkg.dev/colab-wheels/public/simple/\n",
            "Collecting kaleido\n",
            "  Downloading kaleido-0.2.1-py2.py3-none-manylinux1_x86_64.whl (79.9 MB)\n",
            "\u001b[2K     \u001b[90m━━━━━━━━━━━━━━━━━━━━━━━━━━━━━━━━━━━━━━━━\u001b[0m \u001b[32m79.9/79.9 MB\u001b[0m \u001b[31m12.2 MB/s\u001b[0m eta \u001b[36m0:00:00\u001b[0m\n",
            "\u001b[?25hInstalling collected packages: kaleido\n",
            "Successfully installed kaleido-0.2.1\n"
          ]
        }
      ]
    },
    {
      "cell_type": "markdown",
      "source": [
        "##Importantdo a base de dados já tratada"
      ],
      "metadata": {
        "id": "98bvo--ZcE9b"
      }
    },
    {
      "cell_type": "code",
      "source": [
        "data= spark.read.csv('/content/drive/MyDrive/base_de_dados/Stroke-data/Clean-Stroke-data.csv', header = True, inferSchema = True)\n",
        "data.show()"
      ],
      "metadata": {
        "colab": {
          "base_uri": "https://localhost:8080/"
        },
        "id": "xLatxwiqZ3_T",
        "outputId": "9f5651ab-73e9-4536-deee-a0f6c9f9ab96"
      },
      "execution_count": 7,
      "outputs": [
        {
          "output_type": "stream",
          "name": "stdout",
          "text": [
            "+-----+------+----+------------+-------------+------------+-------------+--------------+-----------------+----+---------------+------+\n",
            "|   id|gender| age|hypertension|heart_disease|ever_married|    work_type|Residence_type|avg_glucose_level| bmi| smoking_status|stroke|\n",
            "+-----+------+----+------------+-------------+------------+-------------+--------------+-----------------+----+---------------+------+\n",
            "| 9046|  Male|67.0|           0|            1|         Yes|      Private|         Urban|           228.69|36.6|formerly smoked|     1|\n",
            "|51676|Female|61.0|           0|            0|         Yes|Self-employed|         Rural|           202.21|28.1|   never smoked|     1|\n",
            "|31112|  Male|80.0|           0|            1|         Yes|      Private|         Rural|           105.92|32.5|   never smoked|     1|\n",
            "|60182|Female|49.0|           0|            0|         Yes|      Private|         Urban|           171.23|34.4|         smokes|     1|\n",
            "| 1665|Female|79.0|           1|            0|         Yes|Self-employed|         Rural|           174.12|24.0|   never smoked|     1|\n",
            "|56669|  Male|81.0|           0|            0|         Yes|      Private|         Urban|           186.21|29.0|formerly smoked|     1|\n",
            "|53882|  Male|74.0|           1|            1|         Yes|      Private|         Rural|            70.09|27.4|   never smoked|     1|\n",
            "|10434|Female|69.0|           0|            0|          No|      Private|         Urban|            94.39|22.8|   never smoked|     1|\n",
            "|27419|Female|59.0|           0|            0|         Yes|      Private|         Rural|            76.15|28.1|        Unknown|     1|\n",
            "|60491|Female|78.0|           0|            0|         Yes|      Private|         Urban|            58.57|24.2|        Unknown|     1|\n",
            "|12109|Female|81.0|           1|            0|         Yes|      Private|         Rural|            80.43|29.7|   never smoked|     1|\n",
            "|12095|Female|61.0|           0|            1|         Yes|     Govt_job|         Rural|           120.46|36.8|         smokes|     1|\n",
            "|12175|Female|54.0|           0|            0|         Yes|      Private|         Urban|           104.51|27.3|         smokes|     1|\n",
            "| 8213|  Male|78.0|           0|            1|         Yes|      Private|         Urban|           219.84|28.1|        Unknown|     1|\n",
            "| 5317|Female|79.0|           0|            1|         Yes|      Private|         Urban|           214.09|28.2|   never smoked|     1|\n",
            "|58202|Female|50.0|           1|            0|         Yes|Self-employed|         Rural|           167.41|30.9|   never smoked|     1|\n",
            "|56112|  Male|64.0|           0|            1|         Yes|      Private|         Urban|           191.61|37.5|         smokes|     1|\n",
            "|34120|  Male|75.0|           1|            0|         Yes|      Private|         Urban|           221.29|25.8|         smokes|     1|\n",
            "|27458|Female|60.0|           0|            0|          No|      Private|         Urban|            89.22|37.8|   never smoked|     1|\n",
            "|25226|  Male|57.0|           0|            1|          No|     Govt_job|         Urban|           217.08|28.1|        Unknown|     1|\n",
            "+-----+------+----+------------+-------------+------------+-------------+--------------+-----------------+----+---------------+------+\n",
            "only showing top 20 rows\n",
            "\n"
          ]
        }
      ]
    },
    {
      "cell_type": "markdown",
      "source": [
        "##Pré-processamento dos dados\n",
        "Foi utilizado o 'StringIndexer', que renomeia as colunas, o 'OneHotEncoder', que vetoriza as variáveis, e o 'VectorAssembler', que coloca todos os vetores gerados em apenas um vetor. Todos esses métodos também fazem parte da biblioteca do PySpark."
      ],
      "metadata": {
        "id": "PV44ypyyxxXn"
      }
    },
    {
      "cell_type": "code",
      "source": [
        "def create_encoder(column_name):\n",
        "    string_indexer = StringIndexer(inputCol= column_name, outputCol= column_name + \"_encoded\")\n",
        "    encoder = OneHotEncoder(dropLast=False, inputCol= column_name + \"_encoded\", outputCol=column_name + \"Vec\")\n",
        "    return string_indexer, encoder\n",
        "\n",
        "stringIndexer_gender, encoder_gender = create_encoder(\"gender\")\n",
        "stringIndexer_married, encoder_married = create_encoder(\"ever_married\")\n",
        "stringIndexer_work, encoder_work = create_encoder(\"work_type\")\n",
        "stringIndexer_residence, encoder_residence = create_encoder(\"Residence_type\")\n",
        "stringIndexer_smoking, encoder_smoking = create_encoder(\"smoking_status\")"
      ],
      "metadata": {
        "id": "HYCqn7gbqybn"
      },
      "execution_count": 9,
      "outputs": []
    },
    {
      "cell_type": "code",
      "source": [
        "colunas_entrada=['age','hypertension', 'heart_disease','avg_glucose_level','genderVec', 'bmi', 'ever_marriedVec','work_typeVec','Residence_typeVec','smoking_statusVec']\n",
        "vetor_entrada = VectorAssembler(inputCols=colunas_entrada,outputCol='features')"
      ],
      "metadata": {
        "id": "-i-tqu8Sugms"
      },
      "execution_count": 10,
      "outputs": []
    },
    {
      "cell_type": "code",
      "source": [
        "sequencia_transformacoes=[stringIndexer_gender,stringIndexer_married,stringIndexer_work,stringIndexer_residence,stringIndexer_smoking,encoder_gender,encoder_married,encoder_work,encoder_residence,encoder_smoking,vetor_entrada]"
      ],
      "metadata": {
        "id": "5CZm0dtmd5Eo"
      },
      "execution_count": 11,
      "outputs": []
    },
    {
      "cell_type": "code",
      "source": [
        "pipeline = Pipeline(stages=sequencia_transformacoes)\n",
        "pipelineModel = pipeline.fit(data)\n",
        "model = pipelineModel.transform(data)"
      ],
      "metadata": {
        "id": "Fo2wbk_qeM8D"
      },
      "execution_count": 12,
      "outputs": []
    },
    {
      "cell_type": "code",
      "source": [
        "model.show(5)"
      ],
      "metadata": {
        "id": "uMC2TvAYujzE",
        "outputId": "09997278-1613-4131-8b3f-4b0b2716eb14",
        "colab": {
          "base_uri": "https://localhost:8080/"
        }
      },
      "execution_count": 13,
      "outputs": [
        {
          "output_type": "stream",
          "name": "stdout",
          "text": [
            "+-----+------+----+------------+-------------+------------+-------------+--------------+-----------------+----+---------------+------+--------------+--------------------+-----------------+----------------------+----------------------+-------------+---------------+-------------+-----------------+-----------------+--------------------+\n",
            "|   id|gender| age|hypertension|heart_disease|ever_married|    work_type|Residence_type|avg_glucose_level| bmi| smoking_status|stroke|gender_encoded|ever_married_encoded|work_type_encoded|Residence_type_encoded|smoking_status_encoded|    genderVec|ever_marriedVec| work_typeVec|Residence_typeVec|smoking_statusVec|            features|\n",
            "+-----+------+----+------------+-------------+------------+-------------+--------------+-----------------+----+---------------+------+--------------+--------------------+-----------------+----------------------+----------------------+-------------+---------------+-------------+-----------------+-----------------+--------------------+\n",
            "| 9046|  Male|67.0|           0|            1|         Yes|      Private|         Urban|           228.69|36.6|formerly smoked|     1|           1.0|                 0.0|              0.0|                   0.0|                   2.0|(3,[1],[1.0])|  (2,[0],[1.0])|(5,[0],[1.0])|    (2,[0],[1.0])|    (4,[2],[1.0])|(21,[0,2,3,5,7,8,...|\n",
            "|51676|Female|61.0|           0|            0|         Yes|Self-employed|         Rural|           202.21|28.1|   never smoked|     1|           0.0|                 0.0|              1.0|                   1.0|                   0.0|(3,[0],[1.0])|  (2,[0],[1.0])|(5,[1],[1.0])|    (2,[1],[1.0])|    (4,[0],[1.0])|(21,[0,3,4,7,8,11...|\n",
            "|31112|  Male|80.0|           0|            1|         Yes|      Private|         Rural|           105.92|32.5|   never smoked|     1|           1.0|                 0.0|              0.0|                   1.0|                   0.0|(3,[1],[1.0])|  (2,[0],[1.0])|(5,[0],[1.0])|    (2,[1],[1.0])|    (4,[0],[1.0])|(21,[0,2,3,5,7,8,...|\n",
            "|60182|Female|49.0|           0|            0|         Yes|      Private|         Urban|           171.23|34.4|         smokes|     1|           0.0|                 0.0|              0.0|                   0.0|                   3.0|(3,[0],[1.0])|  (2,[0],[1.0])|(5,[0],[1.0])|    (2,[0],[1.0])|    (4,[3],[1.0])|(21,[0,3,4,7,8,10...|\n",
            "| 1665|Female|79.0|           1|            0|         Yes|Self-employed|         Rural|           174.12|24.0|   never smoked|     1|           0.0|                 0.0|              1.0|                   1.0|                   0.0|(3,[0],[1.0])|  (2,[0],[1.0])|(5,[1],[1.0])|    (2,[1],[1.0])|    (4,[0],[1.0])|(21,[0,1,3,4,7,8,...|\n",
            "+-----+------+----+------------+-------------+------------+-------------+--------------+-----------------+----+---------------+------+--------------+--------------------+-----------------+----------------------+----------------------+-------------+---------------+-------------+-----------------+-----------------+--------------------+\n",
            "only showing top 5 rows\n",
            "\n"
          ]
        }
      ]
    },
    {
      "cell_type": "markdown",
      "source": [
        "##Teste de correlação de Pearson"
      ],
      "metadata": {
        "id": "LlE9PuUT7wf9"
      }
    },
    {
      "cell_type": "code",
      "source": [
        "correlacao = Correlation.corr(model, 'features').collect()[0][0]"
      ],
      "metadata": {
        "id": "gCMJ0U6W766C"
      },
      "execution_count": 15,
      "outputs": []
    },
    {
      "cell_type": "code",
      "source": [
        "columns_list = ['age',\n",
        " 'hypertension',\n",
        " 'heart_disease',\n",
        " 'avg_glucose_level',\n",
        " 'Male',\n",
        " \"Female\",\n",
        " \"Other\",\n",
        " 'bmi',\n",
        " 'ever_marriedYes',\n",
        " 'ever_marriedNo',\n",
        " 'work_typePrivate',\n",
        " 'work_typeSelf-employed',\n",
        " 'work_typeGovt_job',\n",
        " 'work_typeChildren',\n",
        " 'work_typeNever_worked',\n",
        " 'Residence_typeUrban',\n",
        " 'Residence_typeRural',\n",
        " 'smoking_statusFormerlysmoked',\n",
        " 'smoking_statusNever_smoked',\n",
        " 'smoking_statusSmokes',\n",
        " 'smoking_statusUnknown']"
      ],
      "metadata": {
        "id": "g7Puf6G9TE6q"
      },
      "execution_count": 16,
      "outputs": []
    },
    {
      "cell_type": "code",
      "source": [
        "dataframe_correlacao = pd.DataFrame(correlacao.toArray(), columns = columns_list, index = columns_list)\n",
        "dataframe_correlacao"
      ],
      "metadata": {
        "colab": {
          "base_uri": "https://localhost:8080/",
          "height": 819
        },
        "id": "yAAWQNY-8WqF",
        "outputId": "304866fa-56cb-453c-c275-48d2584926f8"
      },
      "execution_count": 17,
      "outputs": [
        {
          "output_type": "execute_result",
          "data": {
            "text/plain": [
              "                                   age  hypertension  heart_disease  \\\n",
              "age                           1.000000      0.276398       0.263796   \n",
              "hypertension                  0.276398      1.000000       0.108306   \n",
              "heart_disease                 0.263796      0.108306       1.000000   \n",
              "avg_glucose_level             0.238171      0.174474       0.161857   \n",
              "Male                          0.027924     -0.021143      -0.085617   \n",
              "Female                       -0.027623      0.021275       0.085717   \n",
              "Other                        -0.010659     -0.004597      -0.003343   \n",
              "bmi                           0.324296      0.158293       0.036916   \n",
              "ever_marriedYes               0.679125      0.164243       0.114644   \n",
              "ever_marriedNo               -0.679125     -0.164243      -0.114644   \n",
              "work_typePrivate              0.116534     -0.005413       0.000027   \n",
              "work_typeSelf-employed        0.327989      0.115442       0.086760   \n",
              "work_typeGovt_job            -0.634215     -0.129506      -0.091634   \n",
              "work_typeChildren             0.130013      0.017685       0.001330   \n",
              "work_typeNever_worked        -0.078653     -0.021608      -0.015712   \n",
              "Residence_typeUrban           0.014180     -0.007913       0.003092   \n",
              "Residence_typeRural          -0.014180      0.007913      -0.003092   \n",
              "smoking_statusFormerlysmoked  0.119307      0.065063      -0.021856   \n",
              "smoking_statusNever_smoked   -0.378231     -0.141501      -0.066731   \n",
              "smoking_statusSmokes          0.236897      0.058853       0.066804   \n",
              "smoking_statusUnknown         0.073133      0.031240       0.044049   \n",
              "\n",
              "                              avg_glucose_level      Male    Female     Other  \\\n",
              "age                                    0.238171  0.027924 -0.027623 -0.010659   \n",
              "hypertension                           0.174474 -0.021143  0.021275 -0.004597   \n",
              "heart_disease                          0.161857 -0.085617  0.085717 -0.003343   \n",
              "avg_glucose_level                      1.000000 -0.054902  0.054580  0.011489   \n",
              "Male                                  -0.054902  1.000000 -0.999597 -0.016642   \n",
              "Female                                 0.054580 -0.999597  1.000000 -0.011757   \n",
              "Other                                  0.011489 -0.016642 -0.011757  1.000000   \n",
              "bmi                                    0.166876  0.026642 -0.026310 -0.011743   \n",
              "ever_marriedYes                        0.155068  0.030483 -0.029936 -0.019327   \n",
              "ever_marriedNo                        -0.155068 -0.030483  0.029936  0.019327   \n",
              "work_typePrivate                       0.016588  0.032294 -0.032639  0.012092   \n",
              "work_typeSelf-employed                 0.062694  0.026143 -0.025971 -0.006112   \n",
              "work_typeGovt_job                     -0.102250 -0.089120  0.089283 -0.005514   \n",
              "work_typeChildren                      0.013845  0.016685 -0.016534 -0.005374   \n",
              "work_typeNever_worked                 -0.014675 -0.011469  0.011496 -0.000920   \n",
              "Residence_typeUrban                   -0.004946  0.006340 -0.005937 -0.014217   \n",
              "Residence_typeRural                    0.004946 -0.006340  0.005937  0.014217   \n",
              "smoking_statusFormerlysmoked           0.023885  0.099111 -0.098813 -0.010728   \n",
              "smoking_statusNever_smoked            -0.095131 -0.059393  0.059658 -0.009206   \n",
              "smoking_statusSmokes                   0.068111 -0.043603  0.042738  0.030568   \n",
              "smoking_statusUnknown                  0.017646 -0.011306  0.011477 -0.005978   \n",
              "\n",
              "                                   bmi  ever_marriedYes  ever_marriedNo  ...  \\\n",
              "age                           0.324296         0.679125       -0.679125  ...   \n",
              "hypertension                  0.158293         0.164243       -0.164243  ...   \n",
              "heart_disease                 0.036916         0.114644       -0.114644  ...   \n",
              "avg_glucose_level             0.166876         0.155068       -0.155068  ...   \n",
              "Male                          0.026642         0.030483       -0.030483  ...   \n",
              "Female                       -0.026310        -0.029936        0.029936  ...   \n",
              "Other                        -0.011743        -0.019327        0.019327  ...   \n",
              "bmi                           1.000000         0.334911       -0.334911  ...   \n",
              "ever_marriedYes               0.334911         1.000000       -1.000000  ...   \n",
              "ever_marriedNo               -0.334911        -1.000000        1.000000  ...   \n",
              "work_typePrivate              0.203886         0.153830       -0.153830  ...   \n",
              "work_typeSelf-employed        0.070160         0.192716       -0.192716  ...   \n",
              "work_typeGovt_job            -0.442102        -0.544441        0.544441  ...   \n",
              "work_typeChildren             0.077856         0.134041       -0.134041  ...   \n",
              "work_typeNever_worked        -0.028327        -0.090838        0.090838  ...   \n",
              "Residence_typeUrban          -0.000277         0.006261       -0.006261  ...   \n",
              "Residence_typeRural           0.000277        -0.006261        0.006261  ...   \n",
              "smoking_statusFormerlysmoked  0.107636         0.102845       -0.102845  ...   \n",
              "smoking_statusNever_smoked   -0.264915        -0.332081        0.332081  ...   \n",
              "smoking_statusSmokes          0.103533         0.171256       -0.171256  ...   \n",
              "smoking_statusUnknown         0.084392         0.105226       -0.105226  ...   \n",
              "\n",
              "                              work_typeSelf-employed  work_typeGovt_job  \\\n",
              "age                                         0.327989          -0.634215   \n",
              "hypertension                                0.115442          -0.129506   \n",
              "heart_disease                               0.086760          -0.091634   \n",
              "avg_glucose_level                           0.062694          -0.102250   \n",
              "Male                                        0.026143          -0.089120   \n",
              "Female                                     -0.025971           0.089283   \n",
              "Other                                      -0.006112          -0.005514   \n",
              "bmi                                         0.070160          -0.442102   \n",
              "ever_marriedYes                             0.192716          -0.544441   \n",
              "ever_marriedNo                             -0.192716           0.544441   \n",
              "work_typePrivate                           -0.505475          -0.455992   \n",
              "work_typeSelf-employed                      1.000000          -0.172180   \n",
              "work_typeGovt_job                          -0.172180           1.000000   \n",
              "work_typeChildren                          -0.167810          -0.151383   \n",
              "work_typeNever_worked                      -0.028728          -0.025915   \n",
              "Residence_typeUrban                         0.010594          -0.002309   \n",
              "Residence_typeRural                        -0.010594           0.002309   \n",
              "smoking_statusFormerlysmoked                0.030668          -0.238041   \n",
              "smoking_statusNever_smoked                 -0.106250           0.512743   \n",
              "smoking_statusSmokes                        0.093260          -0.160668   \n",
              "smoking_statusUnknown                      -0.003626          -0.165234   \n",
              "\n",
              "                              work_typeChildren  work_typeNever_worked  \\\n",
              "age                                    0.130013              -0.078653   \n",
              "hypertension                           0.017685              -0.021608   \n",
              "heart_disease                          0.001330              -0.015712   \n",
              "avg_glucose_level                      0.013845              -0.014675   \n",
              "Male                                   0.016685              -0.011469   \n",
              "Female                                -0.016534               0.011496   \n",
              "Other                                 -0.005374              -0.000920   \n",
              "bmi                                    0.077856              -0.028327   \n",
              "ever_marriedYes                        0.134041              -0.090838   \n",
              "ever_marriedNo                        -0.134041               0.090838   \n",
              "work_typePrivate                      -0.444420              -0.076081   \n",
              "work_typeSelf-employed                -0.167810              -0.028728   \n",
              "work_typeGovt_job                     -0.151383              -0.025915   \n",
              "work_typeChildren                      1.000000              -0.025258   \n",
              "work_typeNever_worked                 -0.025258               1.000000   \n",
              "Residence_typeUrban                    0.013131               0.022859   \n",
              "Residence_typeRural                   -0.013131              -0.022859   \n",
              "smoking_statusFormerlysmoked           0.046908               0.036238   \n",
              "smoking_statusNever_smoked            -0.097418               0.008804   \n",
              "smoking_statusSmokes                   0.029686              -0.030095   \n",
              "smoking_statusUnknown                  0.030026              -0.028099   \n",
              "\n",
              "                              Residence_typeUrban  Residence_typeRural  \\\n",
              "age                                      0.014180            -0.014180   \n",
              "hypertension                            -0.007913             0.007913   \n",
              "heart_disease                            0.003092            -0.003092   \n",
              "avg_glucose_level                       -0.004946             0.004946   \n",
              "Male                                     0.006340            -0.006340   \n",
              "Female                                  -0.005937             0.005937   \n",
              "Other                                   -0.014217             0.014217   \n",
              "bmi                                     -0.000277             0.000277   \n",
              "ever_marriedYes                          0.006261            -0.006261   \n",
              "ever_marriedNo                          -0.006261             0.006261   \n",
              "work_typePrivate                        -0.018173             0.018173   \n",
              "work_typeSelf-employed                   0.010594            -0.010594   \n",
              "work_typeGovt_job                       -0.002309             0.002309   \n",
              "work_typeChildren                        0.013131            -0.013131   \n",
              "work_typeNever_worked                    0.022859            -0.022859   \n",
              "Residence_typeUrban                      1.000000            -1.000000   \n",
              "Residence_typeRural                     -1.000000             1.000000   \n",
              "smoking_statusFormerlysmoked            -0.024466             0.024466   \n",
              "smoking_statusNever_smoked              -0.002036             0.002036   \n",
              "smoking_statusSmokes                     0.007654            -0.007654   \n",
              "smoking_statusUnknown                    0.027266            -0.027266   \n",
              "\n",
              "                              smoking_statusFormerlysmoked  \\\n",
              "age                                               0.119307   \n",
              "hypertension                                      0.065063   \n",
              "heart_disease                                    -0.021856   \n",
              "avg_glucose_level                                 0.023885   \n",
              "Male                                              0.099111   \n",
              "Female                                           -0.098813   \n",
              "Other                                            -0.010728   \n",
              "bmi                                               0.107636   \n",
              "ever_marriedYes                                   0.102845   \n",
              "ever_marriedNo                                   -0.102845   \n",
              "work_typePrivate                                  0.104860   \n",
              "work_typeSelf-employed                            0.030668   \n",
              "work_typeGovt_job                                -0.238041   \n",
              "work_typeChildren                                 0.046908   \n",
              "work_typeNever_worked                             0.036238   \n",
              "Residence_typeUrban                              -0.024466   \n",
              "Residence_typeRural                               0.024466   \n",
              "smoking_statusFormerlysmoked                      1.000000   \n",
              "smoking_statusNever_smoked                       -0.504546   \n",
              "smoking_statusSmokes                             -0.350934   \n",
              "smoking_statusUnknown                            -0.327653   \n",
              "\n",
              "                              smoking_statusNever_smoked  \\\n",
              "age                                            -0.378231   \n",
              "hypertension                                   -0.141501   \n",
              "heart_disease                                  -0.066731   \n",
              "avg_glucose_level                              -0.095131   \n",
              "Male                                           -0.059393   \n",
              "Female                                          0.059658   \n",
              "Other                                          -0.009206   \n",
              "bmi                                            -0.264915   \n",
              "ever_marriedYes                                -0.332081   \n",
              "ever_marriedNo                                  0.332081   \n",
              "work_typePrivate                               -0.210013   \n",
              "work_typeSelf-employed                         -0.106250   \n",
              "work_typeGovt_job                               0.512743   \n",
              "work_typeChildren                              -0.097418   \n",
              "work_typeNever_worked                           0.008804   \n",
              "Residence_typeUrban                            -0.002036   \n",
              "Residence_typeRural                             0.002036   \n",
              "smoking_statusFormerlysmoked                   -0.504546   \n",
              "smoking_statusNever_smoked                      1.000000   \n",
              "smoking_statusSmokes                           -0.301156   \n",
              "smoking_statusUnknown                          -0.281177   \n",
              "\n",
              "                              smoking_statusSmokes  smoking_statusUnknown  \n",
              "age                                       0.236897               0.073133  \n",
              "hypertension                              0.058853               0.031240  \n",
              "heart_disease                             0.066804               0.044049  \n",
              "avg_glucose_level                         0.068111               0.017646  \n",
              "Male                                     -0.043603              -0.011306  \n",
              "Female                                    0.042738               0.011477  \n",
              "Other                                     0.030568              -0.005978  \n",
              "bmi                                       0.103533               0.084392  \n",
              "ever_marriedYes                           0.171256               0.105226  \n",
              "ever_marriedNo                           -0.171256              -0.105226  \n",
              "work_typePrivate                          0.025526               0.100025  \n",
              "work_typeSelf-employed                    0.093260              -0.003626  \n",
              "work_typeGovt_job                        -0.160668              -0.165234  \n",
              "work_typeChildren                         0.029686               0.030026  \n",
              "work_typeNever_worked                    -0.030095              -0.028099  \n",
              "Residence_typeUrban                       0.007654               0.027266  \n",
              "Residence_typeRural                      -0.007654              -0.027266  \n",
              "smoking_statusFormerlysmoked             -0.350934              -0.327653  \n",
              "smoking_statusNever_smoked               -0.301156              -0.281177  \n",
              "smoking_statusSmokes                      1.000000              -0.195571  \n",
              "smoking_statusUnknown                    -0.195571               1.000000  \n",
              "\n",
              "[21 rows x 21 columns]"
            ],
            "text/html": [
              "\n",
              "  <div id=\"df-288c4915-eda2-4583-bd4a-4942d8ac0abb\">\n",
              "    <div class=\"colab-df-container\">\n",
              "      <div>\n",
              "<style scoped>\n",
              "    .dataframe tbody tr th:only-of-type {\n",
              "        vertical-align: middle;\n",
              "    }\n",
              "\n",
              "    .dataframe tbody tr th {\n",
              "        vertical-align: top;\n",
              "    }\n",
              "\n",
              "    .dataframe thead th {\n",
              "        text-align: right;\n",
              "    }\n",
              "</style>\n",
              "<table border=\"1\" class=\"dataframe\">\n",
              "  <thead>\n",
              "    <tr style=\"text-align: right;\">\n",
              "      <th></th>\n",
              "      <th>age</th>\n",
              "      <th>hypertension</th>\n",
              "      <th>heart_disease</th>\n",
              "      <th>avg_glucose_level</th>\n",
              "      <th>Male</th>\n",
              "      <th>Female</th>\n",
              "      <th>Other</th>\n",
              "      <th>bmi</th>\n",
              "      <th>ever_marriedYes</th>\n",
              "      <th>ever_marriedNo</th>\n",
              "      <th>...</th>\n",
              "      <th>work_typeSelf-employed</th>\n",
              "      <th>work_typeGovt_job</th>\n",
              "      <th>work_typeChildren</th>\n",
              "      <th>work_typeNever_worked</th>\n",
              "      <th>Residence_typeUrban</th>\n",
              "      <th>Residence_typeRural</th>\n",
              "      <th>smoking_statusFormerlysmoked</th>\n",
              "      <th>smoking_statusNever_smoked</th>\n",
              "      <th>smoking_statusSmokes</th>\n",
              "      <th>smoking_statusUnknown</th>\n",
              "    </tr>\n",
              "  </thead>\n",
              "  <tbody>\n",
              "    <tr>\n",
              "      <th>age</th>\n",
              "      <td>1.000000</td>\n",
              "      <td>0.276398</td>\n",
              "      <td>0.263796</td>\n",
              "      <td>0.238171</td>\n",
              "      <td>0.027924</td>\n",
              "      <td>-0.027623</td>\n",
              "      <td>-0.010659</td>\n",
              "      <td>0.324296</td>\n",
              "      <td>0.679125</td>\n",
              "      <td>-0.679125</td>\n",
              "      <td>...</td>\n",
              "      <td>0.327989</td>\n",
              "      <td>-0.634215</td>\n",
              "      <td>0.130013</td>\n",
              "      <td>-0.078653</td>\n",
              "      <td>0.014180</td>\n",
              "      <td>-0.014180</td>\n",
              "      <td>0.119307</td>\n",
              "      <td>-0.378231</td>\n",
              "      <td>0.236897</td>\n",
              "      <td>0.073133</td>\n",
              "    </tr>\n",
              "    <tr>\n",
              "      <th>hypertension</th>\n",
              "      <td>0.276398</td>\n",
              "      <td>1.000000</td>\n",
              "      <td>0.108306</td>\n",
              "      <td>0.174474</td>\n",
              "      <td>-0.021143</td>\n",
              "      <td>0.021275</td>\n",
              "      <td>-0.004597</td>\n",
              "      <td>0.158293</td>\n",
              "      <td>0.164243</td>\n",
              "      <td>-0.164243</td>\n",
              "      <td>...</td>\n",
              "      <td>0.115442</td>\n",
              "      <td>-0.129506</td>\n",
              "      <td>0.017685</td>\n",
              "      <td>-0.021608</td>\n",
              "      <td>-0.007913</td>\n",
              "      <td>0.007913</td>\n",
              "      <td>0.065063</td>\n",
              "      <td>-0.141501</td>\n",
              "      <td>0.058853</td>\n",
              "      <td>0.031240</td>\n",
              "    </tr>\n",
              "    <tr>\n",
              "      <th>heart_disease</th>\n",
              "      <td>0.263796</td>\n",
              "      <td>0.108306</td>\n",
              "      <td>1.000000</td>\n",
              "      <td>0.161857</td>\n",
              "      <td>-0.085617</td>\n",
              "      <td>0.085717</td>\n",
              "      <td>-0.003343</td>\n",
              "      <td>0.036916</td>\n",
              "      <td>0.114644</td>\n",
              "      <td>-0.114644</td>\n",
              "      <td>...</td>\n",
              "      <td>0.086760</td>\n",
              "      <td>-0.091634</td>\n",
              "      <td>0.001330</td>\n",
              "      <td>-0.015712</td>\n",
              "      <td>0.003092</td>\n",
              "      <td>-0.003092</td>\n",
              "      <td>-0.021856</td>\n",
              "      <td>-0.066731</td>\n",
              "      <td>0.066804</td>\n",
              "      <td>0.044049</td>\n",
              "    </tr>\n",
              "    <tr>\n",
              "      <th>avg_glucose_level</th>\n",
              "      <td>0.238171</td>\n",
              "      <td>0.174474</td>\n",
              "      <td>0.161857</td>\n",
              "      <td>1.000000</td>\n",
              "      <td>-0.054902</td>\n",
              "      <td>0.054580</td>\n",
              "      <td>0.011489</td>\n",
              "      <td>0.166876</td>\n",
              "      <td>0.155068</td>\n",
              "      <td>-0.155068</td>\n",
              "      <td>...</td>\n",
              "      <td>0.062694</td>\n",
              "      <td>-0.102250</td>\n",
              "      <td>0.013845</td>\n",
              "      <td>-0.014675</td>\n",
              "      <td>-0.004946</td>\n",
              "      <td>0.004946</td>\n",
              "      <td>0.023885</td>\n",
              "      <td>-0.095131</td>\n",
              "      <td>0.068111</td>\n",
              "      <td>0.017646</td>\n",
              "    </tr>\n",
              "    <tr>\n",
              "      <th>Male</th>\n",
              "      <td>0.027924</td>\n",
              "      <td>-0.021143</td>\n",
              "      <td>-0.085617</td>\n",
              "      <td>-0.054902</td>\n",
              "      <td>1.000000</td>\n",
              "      <td>-0.999597</td>\n",
              "      <td>-0.016642</td>\n",
              "      <td>0.026642</td>\n",
              "      <td>0.030483</td>\n",
              "      <td>-0.030483</td>\n",
              "      <td>...</td>\n",
              "      <td>0.026143</td>\n",
              "      <td>-0.089120</td>\n",
              "      <td>0.016685</td>\n",
              "      <td>-0.011469</td>\n",
              "      <td>0.006340</td>\n",
              "      <td>-0.006340</td>\n",
              "      <td>0.099111</td>\n",
              "      <td>-0.059393</td>\n",
              "      <td>-0.043603</td>\n",
              "      <td>-0.011306</td>\n",
              "    </tr>\n",
              "    <tr>\n",
              "      <th>Female</th>\n",
              "      <td>-0.027623</td>\n",
              "      <td>0.021275</td>\n",
              "      <td>0.085717</td>\n",
              "      <td>0.054580</td>\n",
              "      <td>-0.999597</td>\n",
              "      <td>1.000000</td>\n",
              "      <td>-0.011757</td>\n",
              "      <td>-0.026310</td>\n",
              "      <td>-0.029936</td>\n",
              "      <td>0.029936</td>\n",
              "      <td>...</td>\n",
              "      <td>-0.025971</td>\n",
              "      <td>0.089283</td>\n",
              "      <td>-0.016534</td>\n",
              "      <td>0.011496</td>\n",
              "      <td>-0.005937</td>\n",
              "      <td>0.005937</td>\n",
              "      <td>-0.098813</td>\n",
              "      <td>0.059658</td>\n",
              "      <td>0.042738</td>\n",
              "      <td>0.011477</td>\n",
              "    </tr>\n",
              "    <tr>\n",
              "      <th>Other</th>\n",
              "      <td>-0.010659</td>\n",
              "      <td>-0.004597</td>\n",
              "      <td>-0.003343</td>\n",
              "      <td>0.011489</td>\n",
              "      <td>-0.016642</td>\n",
              "      <td>-0.011757</td>\n",
              "      <td>1.000000</td>\n",
              "      <td>-0.011743</td>\n",
              "      <td>-0.019327</td>\n",
              "      <td>0.019327</td>\n",
              "      <td>...</td>\n",
              "      <td>-0.006112</td>\n",
              "      <td>-0.005514</td>\n",
              "      <td>-0.005374</td>\n",
              "      <td>-0.000920</td>\n",
              "      <td>-0.014217</td>\n",
              "      <td>0.014217</td>\n",
              "      <td>-0.010728</td>\n",
              "      <td>-0.009206</td>\n",
              "      <td>0.030568</td>\n",
              "      <td>-0.005978</td>\n",
              "    </tr>\n",
              "    <tr>\n",
              "      <th>bmi</th>\n",
              "      <td>0.324296</td>\n",
              "      <td>0.158293</td>\n",
              "      <td>0.036916</td>\n",
              "      <td>0.166876</td>\n",
              "      <td>0.026642</td>\n",
              "      <td>-0.026310</td>\n",
              "      <td>-0.011743</td>\n",
              "      <td>1.000000</td>\n",
              "      <td>0.334911</td>\n",
              "      <td>-0.334911</td>\n",
              "      <td>...</td>\n",
              "      <td>0.070160</td>\n",
              "      <td>-0.442102</td>\n",
              "      <td>0.077856</td>\n",
              "      <td>-0.028327</td>\n",
              "      <td>-0.000277</td>\n",
              "      <td>0.000277</td>\n",
              "      <td>0.107636</td>\n",
              "      <td>-0.264915</td>\n",
              "      <td>0.103533</td>\n",
              "      <td>0.084392</td>\n",
              "    </tr>\n",
              "    <tr>\n",
              "      <th>ever_marriedYes</th>\n",
              "      <td>0.679125</td>\n",
              "      <td>0.164243</td>\n",
              "      <td>0.114644</td>\n",
              "      <td>0.155068</td>\n",
              "      <td>0.030483</td>\n",
              "      <td>-0.029936</td>\n",
              "      <td>-0.019327</td>\n",
              "      <td>0.334911</td>\n",
              "      <td>1.000000</td>\n",
              "      <td>-1.000000</td>\n",
              "      <td>...</td>\n",
              "      <td>0.192716</td>\n",
              "      <td>-0.544441</td>\n",
              "      <td>0.134041</td>\n",
              "      <td>-0.090838</td>\n",
              "      <td>0.006261</td>\n",
              "      <td>-0.006261</td>\n",
              "      <td>0.102845</td>\n",
              "      <td>-0.332081</td>\n",
              "      <td>0.171256</td>\n",
              "      <td>0.105226</td>\n",
              "    </tr>\n",
              "    <tr>\n",
              "      <th>ever_marriedNo</th>\n",
              "      <td>-0.679125</td>\n",
              "      <td>-0.164243</td>\n",
              "      <td>-0.114644</td>\n",
              "      <td>-0.155068</td>\n",
              "      <td>-0.030483</td>\n",
              "      <td>0.029936</td>\n",
              "      <td>0.019327</td>\n",
              "      <td>-0.334911</td>\n",
              "      <td>-1.000000</td>\n",
              "      <td>1.000000</td>\n",
              "      <td>...</td>\n",
              "      <td>-0.192716</td>\n",
              "      <td>0.544441</td>\n",
              "      <td>-0.134041</td>\n",
              "      <td>0.090838</td>\n",
              "      <td>-0.006261</td>\n",
              "      <td>0.006261</td>\n",
              "      <td>-0.102845</td>\n",
              "      <td>0.332081</td>\n",
              "      <td>-0.171256</td>\n",
              "      <td>-0.105226</td>\n",
              "    </tr>\n",
              "    <tr>\n",
              "      <th>work_typePrivate</th>\n",
              "      <td>0.116534</td>\n",
              "      <td>-0.005413</td>\n",
              "      <td>0.000027</td>\n",
              "      <td>0.016588</td>\n",
              "      <td>0.032294</td>\n",
              "      <td>-0.032639</td>\n",
              "      <td>0.012092</td>\n",
              "      <td>0.203886</td>\n",
              "      <td>0.153830</td>\n",
              "      <td>-0.153830</td>\n",
              "      <td>...</td>\n",
              "      <td>-0.505475</td>\n",
              "      <td>-0.455992</td>\n",
              "      <td>-0.444420</td>\n",
              "      <td>-0.076081</td>\n",
              "      <td>-0.018173</td>\n",
              "      <td>0.018173</td>\n",
              "      <td>0.104860</td>\n",
              "      <td>-0.210013</td>\n",
              "      <td>0.025526</td>\n",
              "      <td>0.100025</td>\n",
              "    </tr>\n",
              "    <tr>\n",
              "      <th>work_typeSelf-employed</th>\n",
              "      <td>0.327989</td>\n",
              "      <td>0.115442</td>\n",
              "      <td>0.086760</td>\n",
              "      <td>0.062694</td>\n",
              "      <td>0.026143</td>\n",
              "      <td>-0.025971</td>\n",
              "      <td>-0.006112</td>\n",
              "      <td>0.070160</td>\n",
              "      <td>0.192716</td>\n",
              "      <td>-0.192716</td>\n",
              "      <td>...</td>\n",
              "      <td>1.000000</td>\n",
              "      <td>-0.172180</td>\n",
              "      <td>-0.167810</td>\n",
              "      <td>-0.028728</td>\n",
              "      <td>0.010594</td>\n",
              "      <td>-0.010594</td>\n",
              "      <td>0.030668</td>\n",
              "      <td>-0.106250</td>\n",
              "      <td>0.093260</td>\n",
              "      <td>-0.003626</td>\n",
              "    </tr>\n",
              "    <tr>\n",
              "      <th>work_typeGovt_job</th>\n",
              "      <td>-0.634215</td>\n",
              "      <td>-0.129506</td>\n",
              "      <td>-0.091634</td>\n",
              "      <td>-0.102250</td>\n",
              "      <td>-0.089120</td>\n",
              "      <td>0.089283</td>\n",
              "      <td>-0.005514</td>\n",
              "      <td>-0.442102</td>\n",
              "      <td>-0.544441</td>\n",
              "      <td>0.544441</td>\n",
              "      <td>...</td>\n",
              "      <td>-0.172180</td>\n",
              "      <td>1.000000</td>\n",
              "      <td>-0.151383</td>\n",
              "      <td>-0.025915</td>\n",
              "      <td>-0.002309</td>\n",
              "      <td>0.002309</td>\n",
              "      <td>-0.238041</td>\n",
              "      <td>0.512743</td>\n",
              "      <td>-0.160668</td>\n",
              "      <td>-0.165234</td>\n",
              "    </tr>\n",
              "    <tr>\n",
              "      <th>work_typeChildren</th>\n",
              "      <td>0.130013</td>\n",
              "      <td>0.017685</td>\n",
              "      <td>0.001330</td>\n",
              "      <td>0.013845</td>\n",
              "      <td>0.016685</td>\n",
              "      <td>-0.016534</td>\n",
              "      <td>-0.005374</td>\n",
              "      <td>0.077856</td>\n",
              "      <td>0.134041</td>\n",
              "      <td>-0.134041</td>\n",
              "      <td>...</td>\n",
              "      <td>-0.167810</td>\n",
              "      <td>-0.151383</td>\n",
              "      <td>1.000000</td>\n",
              "      <td>-0.025258</td>\n",
              "      <td>0.013131</td>\n",
              "      <td>-0.013131</td>\n",
              "      <td>0.046908</td>\n",
              "      <td>-0.097418</td>\n",
              "      <td>0.029686</td>\n",
              "      <td>0.030026</td>\n",
              "    </tr>\n",
              "    <tr>\n",
              "      <th>work_typeNever_worked</th>\n",
              "      <td>-0.078653</td>\n",
              "      <td>-0.021608</td>\n",
              "      <td>-0.015712</td>\n",
              "      <td>-0.014675</td>\n",
              "      <td>-0.011469</td>\n",
              "      <td>0.011496</td>\n",
              "      <td>-0.000920</td>\n",
              "      <td>-0.028327</td>\n",
              "      <td>-0.090838</td>\n",
              "      <td>0.090838</td>\n",
              "      <td>...</td>\n",
              "      <td>-0.028728</td>\n",
              "      <td>-0.025915</td>\n",
              "      <td>-0.025258</td>\n",
              "      <td>1.000000</td>\n",
              "      <td>0.022859</td>\n",
              "      <td>-0.022859</td>\n",
              "      <td>0.036238</td>\n",
              "      <td>0.008804</td>\n",
              "      <td>-0.030095</td>\n",
              "      <td>-0.028099</td>\n",
              "    </tr>\n",
              "    <tr>\n",
              "      <th>Residence_typeUrban</th>\n",
              "      <td>0.014180</td>\n",
              "      <td>-0.007913</td>\n",
              "      <td>0.003092</td>\n",
              "      <td>-0.004946</td>\n",
              "      <td>0.006340</td>\n",
              "      <td>-0.005937</td>\n",
              "      <td>-0.014217</td>\n",
              "      <td>-0.000277</td>\n",
              "      <td>0.006261</td>\n",
              "      <td>-0.006261</td>\n",
              "      <td>...</td>\n",
              "      <td>0.010594</td>\n",
              "      <td>-0.002309</td>\n",
              "      <td>0.013131</td>\n",
              "      <td>0.022859</td>\n",
              "      <td>1.000000</td>\n",
              "      <td>-1.000000</td>\n",
              "      <td>-0.024466</td>\n",
              "      <td>-0.002036</td>\n",
              "      <td>0.007654</td>\n",
              "      <td>0.027266</td>\n",
              "    </tr>\n",
              "    <tr>\n",
              "      <th>Residence_typeRural</th>\n",
              "      <td>-0.014180</td>\n",
              "      <td>0.007913</td>\n",
              "      <td>-0.003092</td>\n",
              "      <td>0.004946</td>\n",
              "      <td>-0.006340</td>\n",
              "      <td>0.005937</td>\n",
              "      <td>0.014217</td>\n",
              "      <td>0.000277</td>\n",
              "      <td>-0.006261</td>\n",
              "      <td>0.006261</td>\n",
              "      <td>...</td>\n",
              "      <td>-0.010594</td>\n",
              "      <td>0.002309</td>\n",
              "      <td>-0.013131</td>\n",
              "      <td>-0.022859</td>\n",
              "      <td>-1.000000</td>\n",
              "      <td>1.000000</td>\n",
              "      <td>0.024466</td>\n",
              "      <td>0.002036</td>\n",
              "      <td>-0.007654</td>\n",
              "      <td>-0.027266</td>\n",
              "    </tr>\n",
              "    <tr>\n",
              "      <th>smoking_statusFormerlysmoked</th>\n",
              "      <td>0.119307</td>\n",
              "      <td>0.065063</td>\n",
              "      <td>-0.021856</td>\n",
              "      <td>0.023885</td>\n",
              "      <td>0.099111</td>\n",
              "      <td>-0.098813</td>\n",
              "      <td>-0.010728</td>\n",
              "      <td>0.107636</td>\n",
              "      <td>0.102845</td>\n",
              "      <td>-0.102845</td>\n",
              "      <td>...</td>\n",
              "      <td>0.030668</td>\n",
              "      <td>-0.238041</td>\n",
              "      <td>0.046908</td>\n",
              "      <td>0.036238</td>\n",
              "      <td>-0.024466</td>\n",
              "      <td>0.024466</td>\n",
              "      <td>1.000000</td>\n",
              "      <td>-0.504546</td>\n",
              "      <td>-0.350934</td>\n",
              "      <td>-0.327653</td>\n",
              "    </tr>\n",
              "    <tr>\n",
              "      <th>smoking_statusNever_smoked</th>\n",
              "      <td>-0.378231</td>\n",
              "      <td>-0.141501</td>\n",
              "      <td>-0.066731</td>\n",
              "      <td>-0.095131</td>\n",
              "      <td>-0.059393</td>\n",
              "      <td>0.059658</td>\n",
              "      <td>-0.009206</td>\n",
              "      <td>-0.264915</td>\n",
              "      <td>-0.332081</td>\n",
              "      <td>0.332081</td>\n",
              "      <td>...</td>\n",
              "      <td>-0.106250</td>\n",
              "      <td>0.512743</td>\n",
              "      <td>-0.097418</td>\n",
              "      <td>0.008804</td>\n",
              "      <td>-0.002036</td>\n",
              "      <td>0.002036</td>\n",
              "      <td>-0.504546</td>\n",
              "      <td>1.000000</td>\n",
              "      <td>-0.301156</td>\n",
              "      <td>-0.281177</td>\n",
              "    </tr>\n",
              "    <tr>\n",
              "      <th>smoking_statusSmokes</th>\n",
              "      <td>0.236897</td>\n",
              "      <td>0.058853</td>\n",
              "      <td>0.066804</td>\n",
              "      <td>0.068111</td>\n",
              "      <td>-0.043603</td>\n",
              "      <td>0.042738</td>\n",
              "      <td>0.030568</td>\n",
              "      <td>0.103533</td>\n",
              "      <td>0.171256</td>\n",
              "      <td>-0.171256</td>\n",
              "      <td>...</td>\n",
              "      <td>0.093260</td>\n",
              "      <td>-0.160668</td>\n",
              "      <td>0.029686</td>\n",
              "      <td>-0.030095</td>\n",
              "      <td>0.007654</td>\n",
              "      <td>-0.007654</td>\n",
              "      <td>-0.350934</td>\n",
              "      <td>-0.301156</td>\n",
              "      <td>1.000000</td>\n",
              "      <td>-0.195571</td>\n",
              "    </tr>\n",
              "    <tr>\n",
              "      <th>smoking_statusUnknown</th>\n",
              "      <td>0.073133</td>\n",
              "      <td>0.031240</td>\n",
              "      <td>0.044049</td>\n",
              "      <td>0.017646</td>\n",
              "      <td>-0.011306</td>\n",
              "      <td>0.011477</td>\n",
              "      <td>-0.005978</td>\n",
              "      <td>0.084392</td>\n",
              "      <td>0.105226</td>\n",
              "      <td>-0.105226</td>\n",
              "      <td>...</td>\n",
              "      <td>-0.003626</td>\n",
              "      <td>-0.165234</td>\n",
              "      <td>0.030026</td>\n",
              "      <td>-0.028099</td>\n",
              "      <td>0.027266</td>\n",
              "      <td>-0.027266</td>\n",
              "      <td>-0.327653</td>\n",
              "      <td>-0.281177</td>\n",
              "      <td>-0.195571</td>\n",
              "      <td>1.000000</td>\n",
              "    </tr>\n",
              "  </tbody>\n",
              "</table>\n",
              "<p>21 rows × 21 columns</p>\n",
              "</div>\n",
              "      <button class=\"colab-df-convert\" onclick=\"convertToInteractive('df-288c4915-eda2-4583-bd4a-4942d8ac0abb')\"\n",
              "              title=\"Convert this dataframe to an interactive table.\"\n",
              "              style=\"display:none;\">\n",
              "        \n",
              "  <svg xmlns=\"http://www.w3.org/2000/svg\" height=\"24px\"viewBox=\"0 0 24 24\"\n",
              "       width=\"24px\">\n",
              "    <path d=\"M0 0h24v24H0V0z\" fill=\"none\"/>\n",
              "    <path d=\"M18.56 5.44l.94 2.06.94-2.06 2.06-.94-2.06-.94-.94-2.06-.94 2.06-2.06.94zm-11 1L8.5 8.5l.94-2.06 2.06-.94-2.06-.94L8.5 2.5l-.94 2.06-2.06.94zm10 10l.94 2.06.94-2.06 2.06-.94-2.06-.94-.94-2.06-.94 2.06-2.06.94z\"/><path d=\"M17.41 7.96l-1.37-1.37c-.4-.4-.92-.59-1.43-.59-.52 0-1.04.2-1.43.59L10.3 9.45l-7.72 7.72c-.78.78-.78 2.05 0 2.83L4 21.41c.39.39.9.59 1.41.59.51 0 1.02-.2 1.41-.59l7.78-7.78 2.81-2.81c.8-.78.8-2.07 0-2.86zM5.41 20L4 18.59l7.72-7.72 1.47 1.35L5.41 20z\"/>\n",
              "  </svg>\n",
              "      </button>\n",
              "      \n",
              "  <style>\n",
              "    .colab-df-container {\n",
              "      display:flex;\n",
              "      flex-wrap:wrap;\n",
              "      gap: 12px;\n",
              "    }\n",
              "\n",
              "    .colab-df-convert {\n",
              "      background-color: #E8F0FE;\n",
              "      border: none;\n",
              "      border-radius: 50%;\n",
              "      cursor: pointer;\n",
              "      display: none;\n",
              "      fill: #1967D2;\n",
              "      height: 32px;\n",
              "      padding: 0 0 0 0;\n",
              "      width: 32px;\n",
              "    }\n",
              "\n",
              "    .colab-df-convert:hover {\n",
              "      background-color: #E2EBFA;\n",
              "      box-shadow: 0px 1px 2px rgba(60, 64, 67, 0.3), 0px 1px 3px 1px rgba(60, 64, 67, 0.15);\n",
              "      fill: #174EA6;\n",
              "    }\n",
              "\n",
              "    [theme=dark] .colab-df-convert {\n",
              "      background-color: #3B4455;\n",
              "      fill: #D2E3FC;\n",
              "    }\n",
              "\n",
              "    [theme=dark] .colab-df-convert:hover {\n",
              "      background-color: #434B5C;\n",
              "      box-shadow: 0px 1px 3px 1px rgba(0, 0, 0, 0.15);\n",
              "      filter: drop-shadow(0px 1px 2px rgba(0, 0, 0, 0.3));\n",
              "      fill: #FFFFFF;\n",
              "    }\n",
              "  </style>\n",
              "\n",
              "      <script>\n",
              "        const buttonEl =\n",
              "          document.querySelector('#df-288c4915-eda2-4583-bd4a-4942d8ac0abb button.colab-df-convert');\n",
              "        buttonEl.style.display =\n",
              "          google.colab.kernel.accessAllowed ? 'block' : 'none';\n",
              "\n",
              "        async function convertToInteractive(key) {\n",
              "          const element = document.querySelector('#df-288c4915-eda2-4583-bd4a-4942d8ac0abb');\n",
              "          const dataTable =\n",
              "            await google.colab.kernel.invokeFunction('convertToInteractive',\n",
              "                                                     [key], {});\n",
              "          if (!dataTable) return;\n",
              "\n",
              "          const docLinkHtml = 'Like what you see? Visit the ' +\n",
              "            '<a target=\"_blank\" href=https://colab.research.google.com/notebooks/data_table.ipynb>data table notebook</a>'\n",
              "            + ' to learn more about interactive tables.';\n",
              "          element.innerHTML = '';\n",
              "          dataTable['output_type'] = 'display_data';\n",
              "          await google.colab.output.renderOutput(dataTable, element);\n",
              "          const docLink = document.createElement('div');\n",
              "          docLink.innerHTML = docLinkHtml;\n",
              "          element.appendChild(docLink);\n",
              "        }\n",
              "      </script>\n",
              "    </div>\n",
              "  </div>\n",
              "  "
            ]
          },
          "metadata": {},
          "execution_count": 17
        }
      ]
    },
    {
      "cell_type": "markdown",
      "source": [
        "Ao observar a matriz de correlação, pode-se perceber que não há nenhuma correlação forte entre as variáveis independentes, não sendo necessária a exclusão de nenhuma coluna."
      ],
      "metadata": {
        "id": "NyvwVCvhEvZ2"
      }
    },
    {
      "cell_type": "code",
      "source": [
        "plt.figure(figsize=(15,15))\n",
        "paleta = sns.color_palette(\"light:salmon\", as_cmap=True)\n",
        "sns.heatmap(dataframe_correlacao.round(1), annot=True, cmap=paleta)"
      ],
      "metadata": {
        "colab": {
          "base_uri": "https://localhost:8080/",
          "height": 1000
        },
        "id": "Af9PnfWKB8w9",
        "outputId": "14a31929-8f43-4ec0-af7a-3b24f1b5a6e9"
      },
      "execution_count": 19,
      "outputs": [
        {
          "output_type": "execute_result",
          "data": {
            "text/plain": [
              "<Axes: >"
            ]
          },
          "metadata": {},
          "execution_count": 19
        },
        {
          "output_type": "display_data",
          "data": {
            "text/plain": [
              "<Figure size 1080x1080 with 2 Axes>"
            ],
            "image/png": "[encoded data removed]"
          },
          "metadata": {
            "needs_background": "light"
          }
        }
      ]
    },
    {
      "cell_type": "markdown",
      "source": [
        "#Divisão entre os datasets de treino e teste e aplicação do método smot\n",
        "Primeiro, o banco de dados foi separado entre treino e teste utilizando o método 'sampleBy', que possibilita dividir o dataset distribuindo a coluna 'stroke' de forma proporcional entre a base de treino e teste.\n",
        "\n",
        "Após a divisão, foi aplicado no conjunto de dados de treinamento 'train_data' o método 'SMOTE', que gera dados sintéticos para equilibrar a variável dependente 'stroke'."
      ],
      "metadata": {
        "id": "EOBn9RpdY8mJ"
      }
    },
    {
      "cell_type": "code",
      "source": [
        "train_data = model.sampleBy('stroke', fractions={0: 0.8, 1: 0.8}, seed=1)\n",
        "test_data = model.subtract(train_data)\n"
      ],
      "metadata": {
        "id": "oVUgv8MCG4Ov"
      },
      "execution_count": 20,
      "outputs": []
    },
    {
      "cell_type": "markdown",
      "source": [
        "Contagem dos labels de stroke antes de usar \"smote\":"
      ],
      "metadata": {
        "id": "TCefpP1TYxQF"
      }
    },
    {
      "cell_type": "code",
      "source": [
        "train_data.createOrReplaceTempView(\"trainView\")\n",
        "count_beforeSmote = spark.sql('select stroke, count(*) from trainView group by stroke').toPandas()\n",
        "x = [\"Had a stroke\" , \"Did not have a stroke\"]\n",
        "fig = px.bar(x = x, y = count_beforeSmote['count(1)'], width=800, height=500, color_discrete_sequence=['#FF5733'])\n",
        "fig.update_layout(yaxis_title=\"Count\", template=\"plotly_dark\").update_layout(xaxis_title=\"\")\n",
        "fig.show('png')"
      ],
      "metadata": {
        "colab": {
          "base_uri": "https://localhost:8080/",
          "height": 517
        },
        "id": "S9o_j_mIaIPK",
        "outputId": "6cc67e9c-79dc-4aa2-bb9a-1d8fd66e5e22"
      },
      "execution_count": 21,
      "outputs": [
        {
          "output_type": "display_data",
          "data": {
            "image/png": "[encoded data removed]"
          },
          "metadata": {}
        }
      ]
    },
    {
      "cell_type": "code",
      "source": [
        "X_train = train_data.select('features').rdd.flatMap(lambda x: x).collect()\n",
        "X_train = np.array(X_train)\n",
        "y_train = train_data.select('stroke').rdd.flatMap(lambda x: x).collect()\n",
        "y_train = np.array(y_train)\n",
        "\n",
        "sm = SMOTE(random_state=42)\n",
        "X_train_resampled, y_train_resampled = sm.fit_resample(X_train, y_train)\n",
        "\n",
        "df_features = spark.createDataFrame(pd.DataFrame(X_train_resampled))\n",
        "df_y = spark.createDataFrame(pd.DataFrame(y_train_resampled, columns=['stroke']))\n",
        "\n",
        "assembler = VectorAssembler(inputCols = df_features.columns, outputCol = 'features')\n",
        "df_features = assembler.transform(df_features).select('features')\n",
        "\n",
        "train_smote = spark.createDataFrame(pd.concat([df_features.toPandas(), df_y.toPandas()], axis = 1))\n"
      ],
      "metadata": {
        "id": "ArOwwhHwwrPU"
      },
      "execution_count": 22,
      "outputs": []
    },
    {
      "cell_type": "markdown",
      "source": [
        "Contagem dos labels de stroke depois de usar \"smote\":"
      ],
      "metadata": {
        "id": "RvPNBckWZB4s"
      }
    },
    {
      "cell_type": "code",
      "source": [
        "train_smote.createOrReplaceTempView(\"smoteView\")\n",
        "count_smote = spark.sql('select stroke, count(*) from smoteView group by stroke').toPandas()"
      ],
      "metadata": {
        "id": "fhKyCGMUYck5"
      },
      "execution_count": 23,
      "outputs": []
    },
    {
      "cell_type": "code",
      "source": [
        "fig = px.bar(x = x, y = count_smote['count(1)'], width=800, height=500, color_discrete_sequence=['#FF5733'])\n",
        "fig.update_layout(yaxis_title=\"Count\", template=\"plotly_dark\").update_layout(xaxis_title=\"\")\n",
        "fig.show('png')"
      ],
      "metadata": {
        "colab": {
          "base_uri": "https://localhost:8080/",
          "height": 517
        },
        "id": "DbkSba9Pkuw1",
        "outputId": "f798eac9-7ace-4fbf-84ef-94077efe2baf"
      },
      "execution_count": 24,
      "outputs": [
        {
          "output_type": "display_data",
          "data": {
            "image/png": "[encoded data removed]"
          },
          "metadata": {}
        }
      ]
    },
    {
      "cell_type": "code",
      "source": [
        "train_smote.show()"
      ],
      "metadata": {
        "colab": {
          "base_uri": "https://localhost:8080/"
        },
        "id": "a0D93RWQSf7W",
        "outputId": "e05c55fe-23f1-4e3d-c09b-e71ccc5d2754"
      },
      "execution_count": null,
      "outputs": [
        {
          "output_type": "stream",
          "name": "stdout",
          "text": [
            "+--------------------+------+\n",
            "|            features|stroke|\n",
            "+--------------------+------+\n",
            "|(21,[0,2,3,5,7,8,...|     1|\n",
            "|(21,[0,3,4,7,8,11...|     1|\n",
            "|(21,[0,2,3,5,7,8,...|     1|\n",
            "|(21,[0,3,4,7,8,10...|     1|\n",
            "|(21,[0,3,5,7,8,10...|     1|\n",
            "|(21,[0,1,2,3,5,7,...|     1|\n",
            "|(21,[0,3,4,7,9,10...|     1|\n",
            "|(21,[0,3,4,7,8,10...|     1|\n",
            "|(21,[0,3,4,7,8,10...|     1|\n",
            "|(21,[0,1,3,4,7,8,...|     1|\n",
            "|(21,[0,2,3,4,7,8,...|     1|\n",
            "|(21,[0,3,4,7,8,10...|     1|\n",
            "|(21,[0,2,3,5,7,8,...|     1|\n",
            "|(21,[0,3,4,7,9,10...|     1|\n",
            "|(21,[0,2,3,5,7,9,...|     1|\n",
            "|(21,[0,3,4,7,8,13...|     1|\n",
            "|(21,[0,1,3,4,7,8,...|     1|\n",
            "|(21,[0,3,4,7,8,11...|     1|\n",
            "|(21,[0,2,3,5,7,8,...|     1|\n",
            "|(21,[0,3,5,7,8,10...|     1|\n",
            "+--------------------+------+\n",
            "only showing top 20 rows\n",
            "\n"
          ]
        }
      ]
    },
    {
      "cell_type": "code",
      "source": [
        "count_smote.stroke.values"
      ],
      "metadata": {
        "colab": {
          "base_uri": "https://localhost:8080/"
        },
        "id": "SQ7W99aQnsLM",
        "outputId": "174c98e8-8818-439e-8261-1f332fcbe91a"
      },
      "execution_count": null,
      "outputs": [
        {
          "output_type": "execute_result",
          "data": {
            "text/plain": [
              "array([0, 1])"
            ]
          },
          "metadata": {},
          "execution_count": 138
        }
      ]
    },
    {
      "cell_type": "markdown",
      "source": [
        "#Otimização dos hyperparâmetros\n",
        "Para testar qual seria o melhor modelo foram escolhidos o Logistic Regression, Random Florest Regression e o Gradient Boosted Trees, mas antes disso foi testado qual seria os melhores hyperparâmetros de cada modelo.\n",
        "## Logistic Regression"
      ],
      "metadata": {
        "id": "fuLHVpqMVWW1"
      }
    },
    {
      "cell_type": "markdown",
      "source": [
        "Alguns algoritmos de machine learning são bastante sensíveis a scala das variáveis independentes. Para minimizar esse problema, foi utilizado o \"StandardScaler\" que padroniza os valores entre -1 e 1."
      ],
      "metadata": {
        "id": "WRVu7Gsf8eH3"
      }
    },
    {
      "cell_type": "code",
      "source": [
        "scaler = StandardScaler(inputCol=\"features\", outputCol=\"scaledFeatures\", withStd=True, withMean=True)\n",
        "lr = LogisticRegression(labelCol=\"stroke\",featuresCol=\"scaledFeatures\")"
      ],
      "metadata": {
        "id": "DOWca-O2Hebf"
      },
      "execution_count": null,
      "outputs": []
    },
    {
      "cell_type": "code",
      "source": [
        "pipeline_lr = Pipeline(stages=[scaler, lr])"
      ],
      "metadata": {
        "id": "3rPjdJ5wMKpj"
      },
      "execution_count": null,
      "outputs": []
    },
    {
      "cell_type": "markdown",
      "source": [
        "A métrica utilizada para avaliar o modelo foi o F1 Score, que é uma medida de média harmônica entre a precisão e a recall, que busca equilibrar a importância de ambas as medidas na avaliação do modelo. Assim, o F1 Score é uma métrica que busca avaliar a capacidade do modelo em equilibrar a identificação correta de ambas as classes, evitando o overfitting em alguma delas."
      ],
      "metadata": {
        "id": "oQjQXvlP9Idy"
      }
    },
    {
      "cell_type": "code",
      "source": [
        "acc_evaluator = MulticlassClassificationEvaluator(labelCol=\"stroke\", predictionCol=\"prediction\", metricName=\"f1\")"
      ],
      "metadata": {
        "id": "o_BGuGNaMAOq"
      },
      "execution_count": null,
      "outputs": []
    },
    {
      "cell_type": "code",
      "source": [
        "param_grid_lr = (ParamGridBuilder()\n",
        "              .addGrid(lr.regParam, [0.01, 0.1, 1, 10])\n",
        "              .addGrid(lr.elasticNetParam, [0.0, 0.5, 1.0])\n",
        "              .addGrid(lr.maxIter, [10, 50, 100])\n",
        "              .addGrid(lr.tol, [1e-4, 1e-3, 1e-2])\n",
        "              .build())"
      ],
      "metadata": {
        "id": "Zjj2wSHDNuX9"
      },
      "execution_count": null,
      "outputs": []
    },
    {
      "cell_type": "markdown",
      "source": [
        "Foi criada a função \"CrossValidatorTuning\" para efetar o Cross Validation retornando o modelo já ajustado."
      ],
      "metadata": {
        "id": "26tXxlI4-WlM"
      }
    },
    {
      "cell_type": "code",
      "source": [
        "def CrossValidatorTuning(pipeline, param_grid, evaluator):\n",
        "    model = CrossValidator(estimator= pipeline,\n",
        "                    estimatorParamMaps=param_grid,\n",
        "                    evaluator=evaluator,\n",
        "                    numFolds=5)\n",
        "    return model.fit(train_smote)"
      ],
      "metadata": {
        "id": "q51sMDJ9ZhJz"
      },
      "execution_count": null,
      "outputs": []
    },
    {
      "cell_type": "code",
      "source": [
        "cvModel_lr = CrossValidatorTuning(pipeline_lr, param_grid_lr, acc_evaluator)"
      ],
      "metadata": {
        "id": "4NsTkDW4b7CY"
      },
      "execution_count": null,
      "outputs": []
    },
    {
      "cell_type": "markdown",
      "source": [
        "Também foi criada a função \"getBestParams\" que retorma os valores dos melhores hyperpâmetros encontrados."
      ],
      "metadata": {
        "id": "41AsbileAEt1"
      }
    },
    {
      "cell_type": "code",
      "source": [
        "def getBestParams(model):\n",
        "  param_map = model.getEstimatorParamMaps()\n",
        "  avg_metrics = model.avgMetrics\n",
        "  best_index = np.argmax(avg_metrics)\n",
        "  best_param_map = param_map[best_index]\n",
        "  print(avg_metrics)\n",
        "  return best_param_map \n"
      ],
      "metadata": {
        "id": "09hY_rKr-3ND"
      },
      "execution_count": null,
      "outputs": []
    },
    {
      "cell_type": "code",
      "source": [
        "best_param_map_lr = getBestParams(cvModel_lr)\n",
        "best_param_map_lr"
      ],
      "metadata": {
        "id": "85fijOtQTatW"
      },
      "execution_count": null,
      "outputs": []
    },
    {
      "cell_type": "markdown",
      "source": [
        "##Random Florest Classifier"
      ],
      "metadata": {
        "id": "Nj9Xmj0CXg6u"
      }
    },
    {
      "cell_type": "code",
      "source": [
        "rf = RandomForestClassifier(labelCol=\"stroke\",featuresCol=\"scaledFeatures\")\n",
        "\n",
        "param_grid_rf = ParamGridBuilder() \\\n",
        "    .addGrid(rf.numTrees, [10, 20, 30]) \\\n",
        "    .addGrid(rf.maxDepth, [5, 10, 15]) \\\n",
        "    .addGrid(rf.impurity, ['entropy', 'gini']) \\\n",
        "    .build()"
      ],
      "metadata": {
        "id": "SUB3wFR9XogU"
      },
      "execution_count": null,
      "outputs": []
    },
    {
      "cell_type": "code",
      "source": [
        "pipeline_rf = Pipeline(stages=[scaler, rf])"
      ],
      "metadata": {
        "id": "AdNOQPNBXzzV"
      },
      "execution_count": null,
      "outputs": []
    },
    {
      "cell_type": "code",
      "source": [
        "cvModel_rf = CrossValidatorTuning(pipeline_rf, param_grid_rf, acc_evaluator)"
      ],
      "metadata": {
        "id": "xlih2P7_jU7N"
      },
      "execution_count": null,
      "outputs": []
    },
    {
      "cell_type": "code",
      "source": [
        "best_param_map_rf = getBestParams(cvModel_rf)\n",
        "best_param_map_rf"
      ],
      "metadata": {
        "id": "bKb-qPpbYaVa"
      },
      "execution_count": null,
      "outputs": []
    },
    {
      "cell_type": "markdown",
      "source": [
        "##LinearSVC"
      ],
      "metadata": {
        "id": "G2HYwFdLPsrt"
      }
    },
    {
      "cell_type": "code",
      "source": [
        "svc= LinearSVC(labelCol=\"stroke\",featuresCol=\"scaledFeatures\")"
      ],
      "metadata": {
        "id": "ec3m_ofHPyEU"
      },
      "execution_count": null,
      "outputs": []
    },
    {
      "cell_type": "code",
      "source": [
        "pipeline_svc = Pipeline(stages=[scaler, svc])"
      ],
      "metadata": {
        "id": "0iWGLjCGQF0d"
      },
      "execution_count": null,
      "outputs": []
    },
    {
      "cell_type": "code",
      "source": [
        "param_grid_svc = (ParamGridBuilder()\n",
        "    .addGrid(svc.regParam, [0.1, 0.01])\n",
        "    .addGrid(svc.maxIter, [50, 100, 150, 200])\n",
        "    .addGrid(svc.tol, [1e-3, 1e-4])\n",
        "    .addGrid(svc.standardization, [True, False])\n",
        "    .build())"
      ],
      "metadata": {
        "id": "Il7vwiaoRhll"
      },
      "execution_count": null,
      "outputs": []
    },
    {
      "cell_type": "code",
      "source": [
        "cvModel_svc = CrossValidatorTuning(pipeline_svc, param_grid_svc, acc_evaluator)"
      ],
      "metadata": {
        "id": "L9eBW8Zdjo7j"
      },
      "execution_count": null,
      "outputs": []
    },
    {
      "cell_type": "code",
      "source": [
        "best_param_map_svc = getBestParams(cvModel_svc)\n",
        "best_param_map_svc"
      ],
      "metadata": {
        "id": "8fSPPYJZVswd"
      },
      "execution_count": null,
      "outputs": []
    },
    {
      "cell_type": "markdown",
      "source": [
        "##GradientBoostedTrees"
      ],
      "metadata": {
        "id": "VXhxs0k3qrRD"
      }
    },
    {
      "cell_type": "code",
      "source": [
        "gbt= GBTClassifier(labelCol=\"stroke\",featuresCol=\"scaledFeatures\")"
      ],
      "metadata": {
        "id": "2LLTIxqcqxKb"
      },
      "execution_count": null,
      "outputs": []
    },
    {
      "cell_type": "code",
      "source": [
        "pipeline_gbt = Pipeline(stages=[scaler, gbt])"
      ],
      "metadata": {
        "id": "-xlukxOCqxVE"
      },
      "execution_count": null,
      "outputs": []
    },
    {
      "cell_type": "code",
      "source": [
        "param_grid_gbt = ParamGridBuilder() \\\n",
        "    .addGrid(gbt.maxDepth, [2, 4, 6]) \\\n",
        "    .addGrid(gbt.maxBins, [20, 30, 40]) \\\n",
        "    .addGrid(gbt.minInstancesPerNode, [1, 5, 10]) \\\n",
        "    .addGrid(gbt.stepSize, [0.01, 0.05, 0.1]) \\\n",
        "    .build()"
      ],
      "metadata": {
        "id": "Kymyvu8aqxdH"
      },
      "execution_count": null,
      "outputs": []
    },
    {
      "cell_type": "code",
      "source": [
        "cvModel_gbt = CrossValidatorTuning(pipeline_gbt, param_grid_gbt, acc_evaluator)"
      ],
      "metadata": {
        "id": "TT4MOnaPj68v"
      },
      "execution_count": null,
      "outputs": []
    },
    {
      "cell_type": "code",
      "source": [
        "best_param_map_gbt = getBestParams(cvModel_gbt)\n",
        "best_param_map_gbt"
      ],
      "metadata": {
        "id": "eVGtQUmYrRw1"
      },
      "execution_count": null,
      "outputs": []
    },
    {
      "cell_type": "markdown",
      "source": [
        "##Avaliando os modelos com o dataset de teste com matriz de confusão"
      ],
      "metadata": {
        "id": "z-IrTxAV258U"
      }
    },
    {
      "cell_type": "markdown",
      "source": [
        "Primeiramente foi preciso padronizar os dados, pois não foi utilizado Pipeline nesse momento."
      ],
      "metadata": {
        "id": "VGBfHarTCsA3"
      }
    },
    {
      "cell_type": "code",
      "source": [
        "scaler = StandardScaler(inputCol=\"features\", outputCol=\"scaledFeatures\", withStd=True, withMean=True)\n",
        "scalerModel = scaler.fit(train_data)\n",
        "scaled_train_smote= scalerModel.transform(train_smote)\n",
        "scaled_teste = scalerModel.transform(test_data)"
      ],
      "metadata": {
        "id": "o9WivTbImC7P"
      },
      "execution_count": null,
      "outputs": []
    },
    {
      "cell_type": "markdown",
      "source": [
        "Foi criada a função \"getF1Andmatriz\" que imprime o F1 Score do modelo e retorna a matriz de confusão que foi gerada utilizando o \"confusion matrix\" do Scikit-Learn."
      ],
      "metadata": {
        "id": "1OCZtitnJfY-"
      }
    },
    {
      "cell_type": "code",
      "source": [
        "def getF1Andmatriz(fit_model):\n",
        "\n",
        "  prediction = fit_model.transform(scaled_teste)\n",
        "\n",
        "  accuracy = acc_evaluator.evaluate(prediction)\n",
        "  print(f\"F1 Score: {accuracy}\")\n",
        "\n",
        "  confusion_matrix_result = confusion_matrix(test_data.select('stroke').toPandas(), prediction.select('prediction').toPandas())\n",
        "\n",
        "  return pd.DataFrame(confusion_matrix_result, columns = ['Prediction_0', 'Prediction_1'], index = ['Real_0', 'Real_1'])\n"
      ],
      "metadata": {
        "id": "M42NCxAUC-qy"
      },
      "execution_count": null,
      "outputs": []
    },
    {
      "cell_type": "code",
      "source": [
        "model_lr = LogisticRegression(labelCol=\"stroke\", featuresCol=\"scaledFeatures\", regParam = 0.01, elasticNetParam = 0.0, maxIter = 50, tol = 0.0001)\n",
        "model_lr_fit = model_lr.fit(scaled_train_smote)\n",
        "getF1Andmatriz(model_lr_fit)"
      ],
      "metadata": {
        "colab": {
          "base_uri": "https://localhost:8080/",
          "height": 130
        },
        "id": "Tw4KSTqqDzRq",
        "outputId": "02689789-71de-42bf-80aa-8bcbfec77fcb"
      },
      "execution_count": null,
      "outputs": [
        {
          "output_type": "stream",
          "name": "stdout",
          "text": [
            "F1 Score: 0.8224687225570592\n"
          ]
        },
        {
          "output_type": "execute_result",
          "data": {
            "text/plain": [
              "        Prediction_0  Prediction_1\n",
              "Real_0           750           257\n",
              "Real_1             8            38"
            ],
            "text/html": [
              "\n",
              "  <div id=\"df-8a17ae76-4b12-4783-b56b-1b835246cd40\">\n",
              "    <div class=\"colab-df-container\">\n",
              "      <div>\n",
              "<style scoped>\n",
              "    .dataframe tbody tr th:only-of-type {\n",
              "        vertical-align: middle;\n",
              "    }\n",
              "\n",
              "    .dataframe tbody tr th {\n",
              "        vertical-align: top;\n",
              "    }\n",
              "\n",
              "    .dataframe thead th {\n",
              "        text-align: right;\n",
              "    }\n",
              "</style>\n",
              "<table border=\"1\" class=\"dataframe\">\n",
              "  <thead>\n",
              "    <tr style=\"text-align: right;\">\n",
              "      <th></th>\n",
              "      <th>Prediction_0</th>\n",
              "      <th>Prediction_1</th>\n",
              "    </tr>\n",
              "  </thead>\n",
              "  <tbody>\n",
              "    <tr>\n",
              "      <th>Real_0</th>\n",
              "      <td>750</td>\n",
              "      <td>257</td>\n",
              "    </tr>\n",
              "    <tr>\n",
              "      <th>Real_1</th>\n",
              "      <td>8</td>\n",
              "      <td>38</td>\n",
              "    </tr>\n",
              "  </tbody>\n",
              "</table>\n",
              "</div>\n",
              "      <button class=\"colab-df-convert\" onclick=\"convertToInteractive('df-8a17ae76-4b12-4783-b56b-1b835246cd40')\"\n",
              "              title=\"Convert this dataframe to an interactive table.\"\n",
              "              style=\"display:none;\">\n",
              "        \n",
              "  <svg xmlns=\"http://www.w3.org/2000/svg\" height=\"24px\"viewBox=\"0 0 24 24\"\n",
              "       width=\"24px\">\n",
              "    <path d=\"M0 0h24v24H0V0z\" fill=\"none\"/>\n",
              "    <path d=\"M18.56 5.44l.94 2.06.94-2.06 2.06-.94-2.06-.94-.94-2.06-.94 2.06-2.06.94zm-11 1L8.5 8.5l.94-2.06 2.06-.94-2.06-.94L8.5 2.5l-.94 2.06-2.06.94zm10 10l.94 2.06.94-2.06 2.06-.94-2.06-.94-.94-2.06-.94 2.06-2.06.94z\"/><path d=\"M17.41 7.96l-1.37-1.37c-.4-.4-.92-.59-1.43-.59-.52 0-1.04.2-1.43.59L10.3 9.45l-7.72 7.72c-.78.78-.78 2.05 0 2.83L4 21.41c.39.39.9.59 1.41.59.51 0 1.02-.2 1.41-.59l7.78-7.78 2.81-2.81c.8-.78.8-2.07 0-2.86zM5.41 20L4 18.59l7.72-7.72 1.47 1.35L5.41 20z\"/>\n",
              "  </svg>\n",
              "      </button>\n",
              "      \n",
              "  <style>\n",
              "    .colab-df-container {\n",
              "      display:flex;\n",
              "      flex-wrap:wrap;\n",
              "      gap: 12px;\n",
              "    }\n",
              "\n",
              "    .colab-df-convert {\n",
              "      background-color: #E8F0FE;\n",
              "      border: none;\n",
              "      border-radius: 50%;\n",
              "      cursor: pointer;\n",
              "      display: none;\n",
              "      fill: #1967D2;\n",
              "      height: 32px;\n",
              "      padding: 0 0 0 0;\n",
              "      width: 32px;\n",
              "    }\n",
              "\n",
              "    .colab-df-convert:hover {\n",
              "      background-color: #E2EBFA;\n",
              "      box-shadow: 0px 1px 2px rgba(60, 64, 67, 0.3), 0px 1px 3px 1px rgba(60, 64, 67, 0.15);\n",
              "      fill: #174EA6;\n",
              "    }\n",
              "\n",
              "    [theme=dark] .colab-df-convert {\n",
              "      background-color: #3B4455;\n",
              "      fill: #D2E3FC;\n",
              "    }\n",
              "\n",
              "    [theme=dark] .colab-df-convert:hover {\n",
              "      background-color: #434B5C;\n",
              "      box-shadow: 0px 1px 3px 1px rgba(0, 0, 0, 0.15);\n",
              "      filter: drop-shadow(0px 1px 2px rgba(0, 0, 0, 0.3));\n",
              "      fill: #FFFFFF;\n",
              "    }\n",
              "  </style>\n",
              "\n",
              "      <script>\n",
              "        const buttonEl =\n",
              "          document.querySelector('#df-8a17ae76-4b12-4783-b56b-1b835246cd40 button.colab-df-convert');\n",
              "        buttonEl.style.display =\n",
              "          google.colab.kernel.accessAllowed ? 'block' : 'none';\n",
              "\n",
              "        async function convertToInteractive(key) {\n",
              "          const element = document.querySelector('#df-8a17ae76-4b12-4783-b56b-1b835246cd40');\n",
              "          const dataTable =\n",
              "            await google.colab.kernel.invokeFunction('convertToInteractive',\n",
              "                                                     [key], {});\n",
              "          if (!dataTable) return;\n",
              "\n",
              "          const docLinkHtml = 'Like what you see? Visit the ' +\n",
              "            '<a target=\"_blank\" href=https://colab.research.google.com/notebooks/data_table.ipynb>data table notebook</a>'\n",
              "            + ' to learn more about interactive tables.';\n",
              "          element.innerHTML = '';\n",
              "          dataTable['output_type'] = 'display_data';\n",
              "          await google.colab.output.renderOutput(dataTable, element);\n",
              "          const docLink = document.createElement('div');\n",
              "          docLink.innerHTML = docLinkHtml;\n",
              "          element.appendChild(docLink);\n",
              "        }\n",
              "      </script>\n",
              "    </div>\n",
              "  </div>\n",
              "  "
            ]
          },
          "metadata": {},
          "execution_count": 51
        }
      ]
    },
    {
      "cell_type": "code",
      "source": [
        "model_rf = RandomForestClassifier(labelCol=\"stroke\", featuresCol=\"scaledFeatures\", numTrees=30, maxDepth=15, impurity='entropy')\n",
        "model_rf_fit = model_rf.fit(scaled_train_smote)\n",
        "\n",
        "getF1Andmatriz(model_rf_fit)\n"
      ],
      "metadata": {
        "colab": {
          "base_uri": "https://localhost:8080/",
          "height": 130
        },
        "id": "IGbxC6oV7zR4",
        "outputId": "6484398b-28e1-4620-dbf4-4f781f82b990"
      },
      "execution_count": null,
      "outputs": [
        {
          "output_type": "stream",
          "name": "stdout",
          "text": [
            "F1 Score: 0.9382337714533391\n"
          ]
        },
        {
          "output_type": "execute_result",
          "data": {
            "text/plain": [
              "        Prediction_0  Prediction_1\n",
              "Real_0          1001             6\n",
              "Real_1            43             3"
            ],
            "text/html": [
              "\n",
              "  <div id=\"df-463daf7d-6036-4fbf-a1fd-21afa3704366\">\n",
              "    <div class=\"colab-df-container\">\n",
              "      <div>\n",
              "<style scoped>\n",
              "    .dataframe tbody tr th:only-of-type {\n",
              "        vertical-align: middle;\n",
              "    }\n",
              "\n",
              "    .dataframe tbody tr th {\n",
              "        vertical-align: top;\n",
              "    }\n",
              "\n",
              "    .dataframe thead th {\n",
              "        text-align: right;\n",
              "    }\n",
              "</style>\n",
              "<table border=\"1\" class=\"dataframe\">\n",
              "  <thead>\n",
              "    <tr style=\"text-align: right;\">\n",
              "      <th></th>\n",
              "      <th>Prediction_0</th>\n",
              "      <th>Prediction_1</th>\n",
              "    </tr>\n",
              "  </thead>\n",
              "  <tbody>\n",
              "    <tr>\n",
              "      <th>Real_0</th>\n",
              "      <td>1001</td>\n",
              "      <td>6</td>\n",
              "    </tr>\n",
              "    <tr>\n",
              "      <th>Real_1</th>\n",
              "      <td>43</td>\n",
              "      <td>3</td>\n",
              "    </tr>\n",
              "  </tbody>\n",
              "</table>\n",
              "</div>\n",
              "      <button class=\"colab-df-convert\" onclick=\"convertToInteractive('df-463daf7d-6036-4fbf-a1fd-21afa3704366')\"\n",
              "              title=\"Convert this dataframe to an interactive table.\"\n",
              "              style=\"display:none;\">\n",
              "        \n",
              "  <svg xmlns=\"http://www.w3.org/2000/svg\" height=\"24px\"viewBox=\"0 0 24 24\"\n",
              "       width=\"24px\">\n",
              "    <path d=\"M0 0h24v24H0V0z\" fill=\"none\"/>\n",
              "    <path d=\"M18.56 5.44l.94 2.06.94-2.06 2.06-.94-2.06-.94-.94-2.06-.94 2.06-2.06.94zm-11 1L8.5 8.5l.94-2.06 2.06-.94-2.06-.94L8.5 2.5l-.94 2.06-2.06.94zm10 10l.94 2.06.94-2.06 2.06-.94-2.06-.94-.94-2.06-.94 2.06-2.06.94z\"/><path d=\"M17.41 7.96l-1.37-1.37c-.4-.4-.92-.59-1.43-.59-.52 0-1.04.2-1.43.59L10.3 9.45l-7.72 7.72c-.78.78-.78 2.05 0 2.83L4 21.41c.39.39.9.59 1.41.59.51 0 1.02-.2 1.41-.59l7.78-7.78 2.81-2.81c.8-.78.8-2.07 0-2.86zM5.41 20L4 18.59l7.72-7.72 1.47 1.35L5.41 20z\"/>\n",
              "  </svg>\n",
              "      </button>\n",
              "      \n",
              "  <style>\n",
              "    .colab-df-container {\n",
              "      display:flex;\n",
              "      flex-wrap:wrap;\n",
              "      gap: 12px;\n",
              "    }\n",
              "\n",
              "    .colab-df-convert {\n",
              "      background-color: #E8F0FE;\n",
              "      border: none;\n",
              "      border-radius: 50%;\n",
              "      cursor: pointer;\n",
              "      display: none;\n",
              "      fill: #1967D2;\n",
              "      height: 32px;\n",
              "      padding: 0 0 0 0;\n",
              "      width: 32px;\n",
              "    }\n",
              "\n",
              "    .colab-df-convert:hover {\n",
              "      background-color: #E2EBFA;\n",
              "      box-shadow: 0px 1px 2px rgba(60, 64, 67, 0.3), 0px 1px 3px 1px rgba(60, 64, 67, 0.15);\n",
              "      fill: #174EA6;\n",
              "    }\n",
              "\n",
              "    [theme=dark] .colab-df-convert {\n",
              "      background-color: #3B4455;\n",
              "      fill: #D2E3FC;\n",
              "    }\n",
              "\n",
              "    [theme=dark] .colab-df-convert:hover {\n",
              "      background-color: #434B5C;\n",
              "      box-shadow: 0px 1px 3px 1px rgba(0, 0, 0, 0.15);\n",
              "      filter: drop-shadow(0px 1px 2px rgba(0, 0, 0, 0.3));\n",
              "      fill: #FFFFFF;\n",
              "    }\n",
              "  </style>\n",
              "\n",
              "      <script>\n",
              "        const buttonEl =\n",
              "          document.querySelector('#df-463daf7d-6036-4fbf-a1fd-21afa3704366 button.colab-df-convert');\n",
              "        buttonEl.style.display =\n",
              "          google.colab.kernel.accessAllowed ? 'block' : 'none';\n",
              "\n",
              "        async function convertToInteractive(key) {\n",
              "          const element = document.querySelector('#df-463daf7d-6036-4fbf-a1fd-21afa3704366');\n",
              "          const dataTable =\n",
              "            await google.colab.kernel.invokeFunction('convertToInteractive',\n",
              "                                                     [key], {});\n",
              "          if (!dataTable) return;\n",
              "\n",
              "          const docLinkHtml = 'Like what you see? Visit the ' +\n",
              "            '<a target=\"_blank\" href=https://colab.research.google.com/notebooks/data_table.ipynb>data table notebook</a>'\n",
              "            + ' to learn more about interactive tables.';\n",
              "          element.innerHTML = '';\n",
              "          dataTable['output_type'] = 'display_data';\n",
              "          await google.colab.output.renderOutput(dataTable, element);\n",
              "          const docLink = document.createElement('div');\n",
              "          docLink.innerHTML = docLinkHtml;\n",
              "          element.appendChild(docLink);\n",
              "        }\n",
              "      </script>\n",
              "    </div>\n",
              "  </div>\n",
              "  "
            ]
          },
          "metadata": {},
          "execution_count": 52
        }
      ]
    },
    {
      "cell_type": "code",
      "source": [
        "model_svc = LinearSVC(labelCol=\"stroke\",featuresCol=\"scaledFeatures\", regParam = 0.01, maxIter = 50, tol = 0.0001, standardization = True)\n",
        "model_svc_fit = model_svc.fit(scaled_train_smote)\n",
        "\n",
        "getF1Andmatriz(model_svc_fit)"
      ],
      "metadata": {
        "colab": {
          "base_uri": "https://localhost:8080/",
          "height": 130
        },
        "id": "VlqYYIQxDtuU",
        "outputId": "24ad4aa7-053a-4bc6-deee-f380f498abf3"
      },
      "execution_count": null,
      "outputs": [
        {
          "output_type": "stream",
          "name": "stdout",
          "text": [
            "F1 Score: 0.8093421415634284\n"
          ]
        },
        {
          "output_type": "execute_result",
          "data": {
            "text/plain": [
              "        Prediction_0  Prediction_1\n",
              "Real_0           728           279\n",
              "Real_1             6            40"
            ],
            "text/html": [
              "\n",
              "  <div id=\"df-8ea5e862-199a-4920-934a-82319a0bd69f\">\n",
              "    <div class=\"colab-df-container\">\n",
              "      <div>\n",
              "<style scoped>\n",
              "    .dataframe tbody tr th:only-of-type {\n",
              "        vertical-align: middle;\n",
              "    }\n",
              "\n",
              "    .dataframe tbody tr th {\n",
              "        vertical-align: top;\n",
              "    }\n",
              "\n",
              "    .dataframe thead th {\n",
              "        text-align: right;\n",
              "    }\n",
              "</style>\n",
              "<table border=\"1\" class=\"dataframe\">\n",
              "  <thead>\n",
              "    <tr style=\"text-align: right;\">\n",
              "      <th></th>\n",
              "      <th>Prediction_0</th>\n",
              "      <th>Prediction_1</th>\n",
              "    </tr>\n",
              "  </thead>\n",
              "  <tbody>\n",
              "    <tr>\n",
              "      <th>Real_0</th>\n",
              "      <td>728</td>\n",
              "      <td>279</td>\n",
              "    </tr>\n",
              "    <tr>\n",
              "      <th>Real_1</th>\n",
              "      <td>6</td>\n",
              "      <td>40</td>\n",
              "    </tr>\n",
              "  </tbody>\n",
              "</table>\n",
              "</div>\n",
              "      <button class=\"colab-df-convert\" onclick=\"convertToInteractive('df-8ea5e862-199a-4920-934a-82319a0bd69f')\"\n",
              "              title=\"Convert this dataframe to an interactive table.\"\n",
              "              style=\"display:none;\">\n",
              "        \n",
              "  <svg xmlns=\"http://www.w3.org/2000/svg\" height=\"24px\"viewBox=\"0 0 24 24\"\n",
              "       width=\"24px\">\n",
              "    <path d=\"M0 0h24v24H0V0z\" fill=\"none\"/>\n",
              "    <path d=\"M18.56 5.44l.94 2.06.94-2.06 2.06-.94-2.06-.94-.94-2.06-.94 2.06-2.06.94zm-11 1L8.5 8.5l.94-2.06 2.06-.94-2.06-.94L8.5 2.5l-.94 2.06-2.06.94zm10 10l.94 2.06.94-2.06 2.06-.94-2.06-.94-.94-2.06-.94 2.06-2.06.94z\"/><path d=\"M17.41 7.96l-1.37-1.37c-.4-.4-.92-.59-1.43-.59-.52 0-1.04.2-1.43.59L10.3 9.45l-7.72 7.72c-.78.78-.78 2.05 0 2.83L4 21.41c.39.39.9.59 1.41.59.51 0 1.02-.2 1.41-.59l7.78-7.78 2.81-2.81c.8-.78.8-2.07 0-2.86zM5.41 20L4 18.59l7.72-7.72 1.47 1.35L5.41 20z\"/>\n",
              "  </svg>\n",
              "      </button>\n",
              "      \n",
              "  <style>\n",
              "    .colab-df-container {\n",
              "      display:flex;\n",
              "      flex-wrap:wrap;\n",
              "      gap: 12px;\n",
              "    }\n",
              "\n",
              "    .colab-df-convert {\n",
              "      background-color: #E8F0FE;\n",
              "      border: none;\n",
              "      border-radius: 50%;\n",
              "      cursor: pointer;\n",
              "      display: none;\n",
              "      fill: #1967D2;\n",
              "      height: 32px;\n",
              "      padding: 0 0 0 0;\n",
              "      width: 32px;\n",
              "    }\n",
              "\n",
              "    .colab-df-convert:hover {\n",
              "      background-color: #E2EBFA;\n",
              "      box-shadow: 0px 1px 2px rgba(60, 64, 67, 0.3), 0px 1px 3px 1px rgba(60, 64, 67, 0.15);\n",
              "      fill: #174EA6;\n",
              "    }\n",
              "\n",
              "    [theme=dark] .colab-df-convert {\n",
              "      background-color: #3B4455;\n",
              "      fill: #D2E3FC;\n",
              "    }\n",
              "\n",
              "    [theme=dark] .colab-df-convert:hover {\n",
              "      background-color: #434B5C;\n",
              "      box-shadow: 0px 1px 3px 1px rgba(0, 0, 0, 0.15);\n",
              "      filter: drop-shadow(0px 1px 2px rgba(0, 0, 0, 0.3));\n",
              "      fill: #FFFFFF;\n",
              "    }\n",
              "  </style>\n",
              "\n",
              "      <script>\n",
              "        const buttonEl =\n",
              "          document.querySelector('#df-8ea5e862-199a-4920-934a-82319a0bd69f button.colab-df-convert');\n",
              "        buttonEl.style.display =\n",
              "          google.colab.kernel.accessAllowed ? 'block' : 'none';\n",
              "\n",
              "        async function convertToInteractive(key) {\n",
              "          const element = document.querySelector('#df-8ea5e862-199a-4920-934a-82319a0bd69f');\n",
              "          const dataTable =\n",
              "            await google.colab.kernel.invokeFunction('convertToInteractive',\n",
              "                                                     [key], {});\n",
              "          if (!dataTable) return;\n",
              "\n",
              "          const docLinkHtml = 'Like what you see? Visit the ' +\n",
              "            '<a target=\"_blank\" href=https://colab.research.google.com/notebooks/data_table.ipynb>data table notebook</a>'\n",
              "            + ' to learn more about interactive tables.';\n",
              "          element.innerHTML = '';\n",
              "          dataTable['output_type'] = 'display_data';\n",
              "          await google.colab.output.renderOutput(dataTable, element);\n",
              "          const docLink = document.createElement('div');\n",
              "          docLink.innerHTML = docLinkHtml;\n",
              "          element.appendChild(docLink);\n",
              "        }\n",
              "      </script>\n",
              "    </div>\n",
              "  </div>\n",
              "  "
            ]
          },
          "metadata": {},
          "execution_count": 68
        }
      ]
    },
    {
      "cell_type": "code",
      "source": [
        "model_gbt= GBTClassifier(labelCol=\"stroke\",featuresCol=\"scaledFeatures\", maxDepth = 6, maxBins = 20, minInstancesPerNode  = 10, stepSize = 0.1)\n",
        "model_gbt_fit = model_gbt.fit(scaled_train_smote)\n",
        "\n",
        "getF1Andmatriz(model_gbt_fit)"
      ],
      "metadata": {
        "id": "9cX63I_Utkzi",
        "colab": {
          "base_uri": "https://localhost:8080/",
          "height": 130
        },
        "outputId": "c6d8a464-c743-4e49-a608-f931c8e6586e"
      },
      "execution_count": null,
      "outputs": [
        {
          "output_type": "stream",
          "name": "stdout",
          "text": [
            "F1 Score: 0.935386184157079\n"
          ]
        },
        {
          "output_type": "execute_result",
          "data": {
            "text/plain": [
              "        Prediction_0  Prediction_1\n",
              "Real_0           987            20\n",
              "Real_1            40             6"
            ],
            "text/html": [
              "\n",
              "  <div id=\"df-0718bf7d-f7cd-42db-9345-13d0010a8032\">\n",
              "    <div class=\"colab-df-container\">\n",
              "      <div>\n",
              "<style scoped>\n",
              "    .dataframe tbody tr th:only-of-type {\n",
              "        vertical-align: middle;\n",
              "    }\n",
              "\n",
              "    .dataframe tbody tr th {\n",
              "        vertical-align: top;\n",
              "    }\n",
              "\n",
              "    .dataframe thead th {\n",
              "        text-align: right;\n",
              "    }\n",
              "</style>\n",
              "<table border=\"1\" class=\"dataframe\">\n",
              "  <thead>\n",
              "    <tr style=\"text-align: right;\">\n",
              "      <th></th>\n",
              "      <th>Prediction_0</th>\n",
              "      <th>Prediction_1</th>\n",
              "    </tr>\n",
              "  </thead>\n",
              "  <tbody>\n",
              "    <tr>\n",
              "      <th>Real_0</th>\n",
              "      <td>987</td>\n",
              "      <td>20</td>\n",
              "    </tr>\n",
              "    <tr>\n",
              "      <th>Real_1</th>\n",
              "      <td>40</td>\n",
              "      <td>6</td>\n",
              "    </tr>\n",
              "  </tbody>\n",
              "</table>\n",
              "</div>\n",
              "      <button class=\"colab-df-convert\" onclick=\"convertToInteractive('df-0718bf7d-f7cd-42db-9345-13d0010a8032')\"\n",
              "              title=\"Convert this dataframe to an interactive table.\"\n",
              "              style=\"display:none;\">\n",
              "        \n",
              "  <svg xmlns=\"http://www.w3.org/2000/svg\" height=\"24px\"viewBox=\"0 0 24 24\"\n",
              "       width=\"24px\">\n",
              "    <path d=\"M0 0h24v24H0V0z\" fill=\"none\"/>\n",
              "    <path d=\"M18.56 5.44l.94 2.06.94-2.06 2.06-.94-2.06-.94-.94-2.06-.94 2.06-2.06.94zm-11 1L8.5 8.5l.94-2.06 2.06-.94-2.06-.94L8.5 2.5l-.94 2.06-2.06.94zm10 10l.94 2.06.94-2.06 2.06-.94-2.06-.94-.94-2.06-.94 2.06-2.06.94z\"/><path d=\"M17.41 7.96l-1.37-1.37c-.4-.4-.92-.59-1.43-.59-.52 0-1.04.2-1.43.59L10.3 9.45l-7.72 7.72c-.78.78-.78 2.05 0 2.83L4 21.41c.39.39.9.59 1.41.59.51 0 1.02-.2 1.41-.59l7.78-7.78 2.81-2.81c.8-.78.8-2.07 0-2.86zM5.41 20L4 18.59l7.72-7.72 1.47 1.35L5.41 20z\"/>\n",
              "  </svg>\n",
              "      </button>\n",
              "      \n",
              "  <style>\n",
              "    .colab-df-container {\n",
              "      display:flex;\n",
              "      flex-wrap:wrap;\n",
              "      gap: 12px;\n",
              "    }\n",
              "\n",
              "    .colab-df-convert {\n",
              "      background-color: #E8F0FE;\n",
              "      border: none;\n",
              "      border-radius: 50%;\n",
              "      cursor: pointer;\n",
              "      display: none;\n",
              "      fill: #1967D2;\n",
              "      height: 32px;\n",
              "      padding: 0 0 0 0;\n",
              "      width: 32px;\n",
              "    }\n",
              "\n",
              "    .colab-df-convert:hover {\n",
              "      background-color: #E2EBFA;\n",
              "      box-shadow: 0px 1px 2px rgba(60, 64, 67, 0.3), 0px 1px 3px 1px rgba(60, 64, 67, 0.15);\n",
              "      fill: #174EA6;\n",
              "    }\n",
              "\n",
              "    [theme=dark] .colab-df-convert {\n",
              "      background-color: #3B4455;\n",
              "      fill: #D2E3FC;\n",
              "    }\n",
              "\n",
              "    [theme=dark] .colab-df-convert:hover {\n",
              "      background-color: #434B5C;\n",
              "      box-shadow: 0px 1px 3px 1px rgba(0, 0, 0, 0.15);\n",
              "      filter: drop-shadow(0px 1px 2px rgba(0, 0, 0, 0.3));\n",
              "      fill: #FFFFFF;\n",
              "    }\n",
              "  </style>\n",
              "\n",
              "      <script>\n",
              "        const buttonEl =\n",
              "          document.querySelector('#df-0718bf7d-f7cd-42db-9345-13d0010a8032 button.colab-df-convert');\n",
              "        buttonEl.style.display =\n",
              "          google.colab.kernel.accessAllowed ? 'block' : 'none';\n",
              "\n",
              "        async function convertToInteractive(key) {\n",
              "          const element = document.querySelector('#df-0718bf7d-f7cd-42db-9345-13d0010a8032');\n",
              "          const dataTable =\n",
              "            await google.colab.kernel.invokeFunction('convertToInteractive',\n",
              "                                                     [key], {});\n",
              "          if (!dataTable) return;\n",
              "\n",
              "          const docLinkHtml = 'Like what you see? Visit the ' +\n",
              "            '<a target=\"_blank\" href=https://colab.research.google.com/notebooks/data_table.ipynb>data table notebook</a>'\n",
              "            + ' to learn more about interactive tables.';\n",
              "          element.innerHTML = '';\n",
              "          dataTable['output_type'] = 'display_data';\n",
              "          await google.colab.output.renderOutput(dataTable, element);\n",
              "          const docLink = document.createElement('div');\n",
              "          docLink.innerHTML = docLinkHtml;\n",
              "          element.appendChild(docLink);\n",
              "        }\n",
              "      </script>\n",
              "    </div>\n",
              "  </div>\n",
              "  "
            ]
          },
          "metadata": {},
          "execution_count": 54
        }
      ]
    },
    {
      "cell_type": "markdown",
      "source": [
        "De fato, ao avaliar modelos de classificação binária para prever a ocorrência de AVC, é importante levar em consideração a métrica que melhor reflete o objetivo do modelo. Nesse caso, como o foco é identificar corretamente os casos positivos (pessoas que tiveram AVC), a métrica de maior importância é a sensibilidade, que indica a proporção de casos positivos corretamente identificados pelo modelo.\n",
        "\n",
        "Analisando as matrizes de confusão e o F1 Score dos modelos avaliados, observa-se que Random Forest e Gradient Boost apresentaram melhor desempenho global, porém tiveram baixa sensibilidade para o label 1, ou seja, erraram muito ao prever as pessoas que tiveram AVC, com apenas 2/46 e 6/46 casos corretamente identificados, respectivamente.\n",
        "\n",
        "Por outro lado, Logistic Regression e SVC apresentaram acurácia global menor, mas tiveram sensibilidade significativamente maior para o label 1, com 38/46 e 40/46 casos corretamente identificados, respectivamente. Além disso, esses modelos tiveram uma boa acurácia para prever os casos negativos (pessoas que não tiveram AVC).\n",
        "\n",
        "Portanto, considerando o objetivo de identificar corretamente os casos positivos, os modelos Logistic Regression e SVC são mais adequados para essa tarefa do que Random Forest e Gradient Boost.\n",
        "\n",
        "Numericamente não há grande diferança entre Logistic Regression e SVC e ambos obtiveram uma média de F1 Score parecida usando o Cross Validation, mas SVC se saiu melhor na sensibilididade para o label 1 e por isso foi o modelo escolhido. "
      ],
      "metadata": {
        "id": "rSLMZKzkTerm"
      }
    },
    {
      "cell_type": "code",
      "source": [
        "coeficientes = model_svc_fit.coefficients"
      ],
      "metadata": {
        "id": "BrwOqwV_PQ27"
      },
      "execution_count": null,
      "outputs": []
    },
    {
      "cell_type": "code",
      "source": [
        "coeficientes_lr = model_lr_fit.coefficients"
      ],
      "metadata": {
        "id": "Cf7fJ65Jc1L4"
      },
      "execution_count": null,
      "outputs": []
    },
    {
      "cell_type": "markdown",
      "source": [
        "##Análise dos coeficientes dos melhores modelos"
      ],
      "metadata": {
        "id": "2fz4mYvndwBx"
      }
    },
    {
      "cell_type": "code",
      "source": [
        "pd.DataFrame(coeficientes, index = columns_list, columns = ['Coeficientes']).sort_values(by= 'Coeficientes', ascending= False)"
      ],
      "metadata": {
        "colab": {
          "base_uri": "https://localhost:8080/",
          "height": 708
        },
        "id": "BPBfeiENTzsj",
        "outputId": "623767db-c6e2-4180-9212-a3f01dda31af"
      },
      "execution_count": null,
      "outputs": [
        {
          "output_type": "execute_result",
          "data": {
            "text/plain": [
              "                              Coeficientes\n",
              "age                               1.332399\n",
              "work_typeGovt_job                 0.412933\n",
              "avg_glucose_level                 0.110027\n",
              "heart_disease                     0.105292\n",
              "hypertension                      0.094315\n",
              "smoking_statusSmokes              0.081767\n",
              "smoking_statusUnknown             0.048474\n",
              "Female                            0.043474\n",
              "ever_marriedNo                    0.043085\n",
              "bmi                               0.018697\n",
              "smoking_statusNever_smoked        0.011811\n",
              "work_typeNever_worked             0.007472\n",
              "Residence_typeRural               0.003347\n",
              "Residence_typeUrban              -0.003347\n",
              "Other                            -0.008871\n",
              "work_typeChildren                -0.009690\n",
              "work_typePrivate                 -0.039201\n",
              "ever_marriedYes                  -0.043085\n",
              "Male                             -0.043187\n",
              "work_typeSelf-employed           -0.072378\n",
              "smoking_statusFormerlysmoked     -0.148148"
            ],
            "text/html": [
              "\n",
              "  <div id=\"df-43a95017-2372-4f7a-898d-3fabffbfcfd3\">\n",
              "    <div class=\"colab-df-container\">\n",
              "      <div>\n",
              "<style scoped>\n",
              "    .dataframe tbody tr th:only-of-type {\n",
              "        vertical-align: middle;\n",
              "    }\n",
              "\n",
              "    .dataframe tbody tr th {\n",
              "        vertical-align: top;\n",
              "    }\n",
              "\n",
              "    .dataframe thead th {\n",
              "        text-align: right;\n",
              "    }\n",
              "</style>\n",
              "<table border=\"1\" class=\"dataframe\">\n",
              "  <thead>\n",
              "    <tr style=\"text-align: right;\">\n",
              "      <th></th>\n",
              "      <th>Coeficientes</th>\n",
              "    </tr>\n",
              "  </thead>\n",
              "  <tbody>\n",
              "    <tr>\n",
              "      <th>age</th>\n",
              "      <td>1.332399</td>\n",
              "    </tr>\n",
              "    <tr>\n",
              "      <th>work_typeGovt_job</th>\n",
              "      <td>0.412933</td>\n",
              "    </tr>\n",
              "    <tr>\n",
              "      <th>avg_glucose_level</th>\n",
              "      <td>0.110027</td>\n",
              "    </tr>\n",
              "    <tr>\n",
              "      <th>heart_disease</th>\n",
              "      <td>0.105292</td>\n",
              "    </tr>\n",
              "    <tr>\n",
              "      <th>hypertension</th>\n",
              "      <td>0.094315</td>\n",
              "    </tr>\n",
              "    <tr>\n",
              "      <th>smoking_statusSmokes</th>\n",
              "      <td>0.081767</td>\n",
              "    </tr>\n",
              "    <tr>\n",
              "      <th>smoking_statusUnknown</th>\n",
              "      <td>0.048474</td>\n",
              "    </tr>\n",
              "    <tr>\n",
              "      <th>Female</th>\n",
              "      <td>0.043474</td>\n",
              "    </tr>\n",
              "    <tr>\n",
              "      <th>ever_marriedNo</th>\n",
              "      <td>0.043085</td>\n",
              "    </tr>\n",
              "    <tr>\n",
              "      <th>bmi</th>\n",
              "      <td>0.018697</td>\n",
              "    </tr>\n",
              "    <tr>\n",
              "      <th>smoking_statusNever_smoked</th>\n",
              "      <td>0.011811</td>\n",
              "    </tr>\n",
              "    <tr>\n",
              "      <th>work_typeNever_worked</th>\n",
              "      <td>0.007472</td>\n",
              "    </tr>\n",
              "    <tr>\n",
              "      <th>Residence_typeRural</th>\n",
              "      <td>0.003347</td>\n",
              "    </tr>\n",
              "    <tr>\n",
              "      <th>Residence_typeUrban</th>\n",
              "      <td>-0.003347</td>\n",
              "    </tr>\n",
              "    <tr>\n",
              "      <th>Other</th>\n",
              "      <td>-0.008871</td>\n",
              "    </tr>\n",
              "    <tr>\n",
              "      <th>work_typeChildren</th>\n",
              "      <td>-0.009690</td>\n",
              "    </tr>\n",
              "    <tr>\n",
              "      <th>work_typePrivate</th>\n",
              "      <td>-0.039201</td>\n",
              "    </tr>\n",
              "    <tr>\n",
              "      <th>ever_marriedYes</th>\n",
              "      <td>-0.043085</td>\n",
              "    </tr>\n",
              "    <tr>\n",
              "      <th>Male</th>\n",
              "      <td>-0.043187</td>\n",
              "    </tr>\n",
              "    <tr>\n",
              "      <th>work_typeSelf-employed</th>\n",
              "      <td>-0.072378</td>\n",
              "    </tr>\n",
              "    <tr>\n",
              "      <th>smoking_statusFormerlysmoked</th>\n",
              "      <td>-0.148148</td>\n",
              "    </tr>\n",
              "  </tbody>\n",
              "</table>\n",
              "</div>\n",
              "      <button class=\"colab-df-convert\" onclick=\"convertToInteractive('df-43a95017-2372-4f7a-898d-3fabffbfcfd3')\"\n",
              "              title=\"Convert this dataframe to an interactive table.\"\n",
              "              style=\"display:none;\">\n",
              "        \n",
              "  <svg xmlns=\"http://www.w3.org/2000/svg\" height=\"24px\"viewBox=\"0 0 24 24\"\n",
              "       width=\"24px\">\n",
              "    <path d=\"M0 0h24v24H0V0z\" fill=\"none\"/>\n",
              "    <path d=\"M18.56 5.44l.94 2.06.94-2.06 2.06-.94-2.06-.94-.94-2.06-.94 2.06-2.06.94zm-11 1L8.5 8.5l.94-2.06 2.06-.94-2.06-.94L8.5 2.5l-.94 2.06-2.06.94zm10 10l.94 2.06.94-2.06 2.06-.94-2.06-.94-.94-2.06-.94 2.06-2.06.94z\"/><path d=\"M17.41 7.96l-1.37-1.37c-.4-.4-.92-.59-1.43-.59-.52 0-1.04.2-1.43.59L10.3 9.45l-7.72 7.72c-.78.78-.78 2.05 0 2.83L4 21.41c.39.39.9.59 1.41.59.51 0 1.02-.2 1.41-.59l7.78-7.78 2.81-2.81c.8-.78.8-2.07 0-2.86zM5.41 20L4 18.59l7.72-7.72 1.47 1.35L5.41 20z\"/>\n",
              "  </svg>\n",
              "      </button>\n",
              "      \n",
              "  <style>\n",
              "    .colab-df-container {\n",
              "      display:flex;\n",
              "      flex-wrap:wrap;\n",
              "      gap: 12px;\n",
              "    }\n",
              "\n",
              "    .colab-df-convert {\n",
              "      background-color: #E8F0FE;\n",
              "      border: none;\n",
              "      border-radius: 50%;\n",
              "      cursor: pointer;\n",
              "      display: none;\n",
              "      fill: #1967D2;\n",
              "      height: 32px;\n",
              "      padding: 0 0 0 0;\n",
              "      width: 32px;\n",
              "    }\n",
              "\n",
              "    .colab-df-convert:hover {\n",
              "      background-color: #E2EBFA;\n",
              "      box-shadow: 0px 1px 2px rgba(60, 64, 67, 0.3), 0px 1px 3px 1px rgba(60, 64, 67, 0.15);\n",
              "      fill: #174EA6;\n",
              "    }\n",
              "\n",
              "    [theme=dark] .colab-df-convert {\n",
              "      background-color: #3B4455;\n",
              "      fill: #D2E3FC;\n",
              "    }\n",
              "\n",
              "    [theme=dark] .colab-df-convert:hover {\n",
              "      background-color: #434B5C;\n",
              "      box-shadow: 0px 1px 3px 1px rgba(0, 0, 0, 0.15);\n",
              "      filter: drop-shadow(0px 1px 2px rgba(0, 0, 0, 0.3));\n",
              "      fill: #FFFFFF;\n",
              "    }\n",
              "  </style>\n",
              "\n",
              "      <script>\n",
              "        const buttonEl =\n",
              "          document.querySelector('#df-43a95017-2372-4f7a-898d-3fabffbfcfd3 button.colab-df-convert');\n",
              "        buttonEl.style.display =\n",
              "          google.colab.kernel.accessAllowed ? 'block' : 'none';\n",
              "\n",
              "        async function convertToInteractive(key) {\n",
              "          const element = document.querySelector('#df-43a95017-2372-4f7a-898d-3fabffbfcfd3');\n",
              "          const dataTable =\n",
              "            await google.colab.kernel.invokeFunction('convertToInteractive',\n",
              "                                                     [key], {});\n",
              "          if (!dataTable) return;\n",
              "\n",
              "          const docLinkHtml = 'Like what you see? Visit the ' +\n",
              "            '<a target=\"_blank\" href=https://colab.research.google.com/notebooks/data_table.ipynb>data table notebook</a>'\n",
              "            + ' to learn more about interactive tables.';\n",
              "          element.innerHTML = '';\n",
              "          dataTable['output_type'] = 'display_data';\n",
              "          await google.colab.output.renderOutput(dataTable, element);\n",
              "          const docLink = document.createElement('div');\n",
              "          docLink.innerHTML = docLinkHtml;\n",
              "          element.appendChild(docLink);\n",
              "        }\n",
              "      </script>\n",
              "    </div>\n",
              "  </div>\n",
              "  "
            ]
          },
          "metadata": {},
          "execution_count": 115
        }
      ]
    },
    {
      "cell_type": "code",
      "source": [
        "pd.DataFrame(coeficientes_lr, index = columns_list, columns = ['Coeficientes']).sort_values(by= 'Coeficientes', ascending= False)"
      ],
      "metadata": {
        "colab": {
          "base_uri": "https://localhost:8080/",
          "height": 708
        },
        "id": "3sjJtaakc6o0",
        "outputId": "20482606-82ab-4dee-e9fa-6bfb1e06bac2"
      },
      "execution_count": null,
      "outputs": [
        {
          "output_type": "execute_result",
          "data": {
            "text/plain": [
              "                              Coeficientes\n",
              "age                               1.569972\n",
              "hypertension                      0.178936\n",
              "avg_glucose_level                 0.158244\n",
              "heart_disease                     0.128936\n",
              "smoking_statusSmokes              0.072041\n",
              "work_typeGovt_job                 0.070500\n",
              "smoking_statusUnknown             0.051403\n",
              "smoking_statusNever_smoked        0.041924\n",
              "work_typePrivate                  0.040303\n",
              "Female                            0.037883\n",
              "ever_marriedYes                   0.014577\n",
              "Residence_typeRural               0.010825\n",
              "work_typeChildren                 0.002463\n",
              "Residence_typeUrban              -0.010825\n",
              "ever_marriedNo                   -0.014577\n",
              "bmi                              -0.016127\n",
              "Other                            -0.030839\n",
              "Male                             -0.037282\n",
              "work_typeNever_worked            -0.077439\n",
              "work_typeSelf-employed           -0.078709\n",
              "smoking_statusFormerlysmoked     -0.141980"
            ],
            "text/html": [
              "\n",
              "  <div id=\"df-7d550f6b-084d-4864-94a9-c1367a15ad0d\">\n",
              "    <div class=\"colab-df-container\">\n",
              "      <div>\n",
              "<style scoped>\n",
              "    .dataframe tbody tr th:only-of-type {\n",
              "        vertical-align: middle;\n",
              "    }\n",
              "\n",
              "    .dataframe tbody tr th {\n",
              "        vertical-align: top;\n",
              "    }\n",
              "\n",
              "    .dataframe thead th {\n",
              "        text-align: right;\n",
              "    }\n",
              "</style>\n",
              "<table border=\"1\" class=\"dataframe\">\n",
              "  <thead>\n",
              "    <tr style=\"text-align: right;\">\n",
              "      <th></th>\n",
              "      <th>Coeficientes</th>\n",
              "    </tr>\n",
              "  </thead>\n",
              "  <tbody>\n",
              "    <tr>\n",
              "      <th>age</th>\n",
              "      <td>1.569972</td>\n",
              "    </tr>\n",
              "    <tr>\n",
              "      <th>hypertension</th>\n",
              "      <td>0.178936</td>\n",
              "    </tr>\n",
              "    <tr>\n",
              "      <th>avg_glucose_level</th>\n",
              "      <td>0.158244</td>\n",
              "    </tr>\n",
              "    <tr>\n",
              "      <th>heart_disease</th>\n",
              "      <td>0.128936</td>\n",
              "    </tr>\n",
              "    <tr>\n",
              "      <th>smoking_statusSmokes</th>\n",
              "      <td>0.072041</td>\n",
              "    </tr>\n",
              "    <tr>\n",
              "      <th>work_typeGovt_job</th>\n",
              "      <td>0.070500</td>\n",
              "    </tr>\n",
              "    <tr>\n",
              "      <th>smoking_statusUnknown</th>\n",
              "      <td>0.051403</td>\n",
              "    </tr>\n",
              "    <tr>\n",
              "      <th>smoking_statusNever_smoked</th>\n",
              "      <td>0.041924</td>\n",
              "    </tr>\n",
              "    <tr>\n",
              "      <th>work_typePrivate</th>\n",
              "      <td>0.040303</td>\n",
              "    </tr>\n",
              "    <tr>\n",
              "      <th>Female</th>\n",
              "      <td>0.037883</td>\n",
              "    </tr>\n",
              "    <tr>\n",
              "      <th>ever_marriedYes</th>\n",
              "      <td>0.014577</td>\n",
              "    </tr>\n",
              "    <tr>\n",
              "      <th>Residence_typeRural</th>\n",
              "      <td>0.010825</td>\n",
              "    </tr>\n",
              "    <tr>\n",
              "      <th>work_typeChildren</th>\n",
              "      <td>0.002463</td>\n",
              "    </tr>\n",
              "    <tr>\n",
              "      <th>Residence_typeUrban</th>\n",
              "      <td>-0.010825</td>\n",
              "    </tr>\n",
              "    <tr>\n",
              "      <th>ever_marriedNo</th>\n",
              "      <td>-0.014577</td>\n",
              "    </tr>\n",
              "    <tr>\n",
              "      <th>bmi</th>\n",
              "      <td>-0.016127</td>\n",
              "    </tr>\n",
              "    <tr>\n",
              "      <th>Other</th>\n",
              "      <td>-0.030839</td>\n",
              "    </tr>\n",
              "    <tr>\n",
              "      <th>Male</th>\n",
              "      <td>-0.037282</td>\n",
              "    </tr>\n",
              "    <tr>\n",
              "      <th>work_typeNever_worked</th>\n",
              "      <td>-0.077439</td>\n",
              "    </tr>\n",
              "    <tr>\n",
              "      <th>work_typeSelf-employed</th>\n",
              "      <td>-0.078709</td>\n",
              "    </tr>\n",
              "    <tr>\n",
              "      <th>smoking_statusFormerlysmoked</th>\n",
              "      <td>-0.141980</td>\n",
              "    </tr>\n",
              "  </tbody>\n",
              "</table>\n",
              "</div>\n",
              "      <button class=\"colab-df-convert\" onclick=\"convertToInteractive('df-7d550f6b-084d-4864-94a9-c1367a15ad0d')\"\n",
              "              title=\"Convert this dataframe to an interactive table.\"\n",
              "              style=\"display:none;\">\n",
              "        \n",
              "  <svg xmlns=\"http://www.w3.org/2000/svg\" height=\"24px\"viewBox=\"0 0 24 24\"\n",
              "       width=\"24px\">\n",
              "    <path d=\"M0 0h24v24H0V0z\" fill=\"none\"/>\n",
              "    <path d=\"M18.56 5.44l.94 2.06.94-2.06 2.06-.94-2.06-.94-.94-2.06-.94 2.06-2.06.94zm-11 1L8.5 8.5l.94-2.06 2.06-.94-2.06-.94L8.5 2.5l-.94 2.06-2.06.94zm10 10l.94 2.06.94-2.06 2.06-.94-2.06-.94-.94-2.06-.94 2.06-2.06.94z\"/><path d=\"M17.41 7.96l-1.37-1.37c-.4-.4-.92-.59-1.43-.59-.52 0-1.04.2-1.43.59L10.3 9.45l-7.72 7.72c-.78.78-.78 2.05 0 2.83L4 21.41c.39.39.9.59 1.41.59.51 0 1.02-.2 1.41-.59l7.78-7.78 2.81-2.81c.8-.78.8-2.07 0-2.86zM5.41 20L4 18.59l7.72-7.72 1.47 1.35L5.41 20z\"/>\n",
              "  </svg>\n",
              "      </button>\n",
              "      \n",
              "  <style>\n",
              "    .colab-df-container {\n",
              "      display:flex;\n",
              "      flex-wrap:wrap;\n",
              "      gap: 12px;\n",
              "    }\n",
              "\n",
              "    .colab-df-convert {\n",
              "      background-color: #E8F0FE;\n",
              "      border: none;\n",
              "      border-radius: 50%;\n",
              "      cursor: pointer;\n",
              "      display: none;\n",
              "      fill: #1967D2;\n",
              "      height: 32px;\n",
              "      padding: 0 0 0 0;\n",
              "      width: 32px;\n",
              "    }\n",
              "\n",
              "    .colab-df-convert:hover {\n",
              "      background-color: #E2EBFA;\n",
              "      box-shadow: 0px 1px 2px rgba(60, 64, 67, 0.3), 0px 1px 3px 1px rgba(60, 64, 67, 0.15);\n",
              "      fill: #174EA6;\n",
              "    }\n",
              "\n",
              "    [theme=dark] .colab-df-convert {\n",
              "      background-color: #3B4455;\n",
              "      fill: #D2E3FC;\n",
              "    }\n",
              "\n",
              "    [theme=dark] .colab-df-convert:hover {\n",
              "      background-color: #434B5C;\n",
              "      box-shadow: 0px 1px 3px 1px rgba(0, 0, 0, 0.15);\n",
              "      filter: drop-shadow(0px 1px 2px rgba(0, 0, 0, 0.3));\n",
              "      fill: #FFFFFF;\n",
              "    }\n",
              "  </style>\n",
              "\n",
              "      <script>\n",
              "        const buttonEl =\n",
              "          document.querySelector('#df-7d550f6b-084d-4864-94a9-c1367a15ad0d button.colab-df-convert');\n",
              "        buttonEl.style.display =\n",
              "          google.colab.kernel.accessAllowed ? 'block' : 'none';\n",
              "\n",
              "        async function convertToInteractive(key) {\n",
              "          const element = document.querySelector('#df-7d550f6b-084d-4864-94a9-c1367a15ad0d');\n",
              "          const dataTable =\n",
              "            await google.colab.kernel.invokeFunction('convertToInteractive',\n",
              "                                                     [key], {});\n",
              "          if (!dataTable) return;\n",
              "\n",
              "          const docLinkHtml = 'Like what you see? Visit the ' +\n",
              "            '<a target=\"_blank\" href=https://colab.research.google.com/notebooks/data_table.ipynb>data table notebook</a>'\n",
              "            + ' to learn more about interactive tables.';\n",
              "          element.innerHTML = '';\n",
              "          dataTable['output_type'] = 'display_data';\n",
              "          await google.colab.output.renderOutput(dataTable, element);\n",
              "          const docLink = document.createElement('div');\n",
              "          docLink.innerHTML = docLinkHtml;\n",
              "          element.appendChild(docLink);\n",
              "        }\n",
              "      </script>\n",
              "    </div>\n",
              "  </div>\n",
              "  "
            ]
          },
          "metadata": {},
          "execution_count": 116
        }
      ]
    },
    {
      "cell_type": "markdown",
      "source": [
        "Pode-se observar que os modelos apresentam similaridades em seus maiores coeficientes, sendo que a variável \"age\" é a que possui o maior peso em ambos. Além disso, as variáveis \"hypertension\", \"avg_glucose_level\" e \"heart_disease\" também apresentam uma forte influência em ambos os modelos.\n",
        "\n",
        "Chama a atenção em ambos os modelos a variável \"work_type_Govt_job\", que mostra um grande peso na probabilidade da pessoa ter um AVC ou não. Isso sugere que ser um servidor público pode ser um fator importante na previsão do risco de AVC"
      ],
      "metadata": {
        "id": "5EQSC_Byd_YP"
      }
    },
    {
      "cell_type": "markdown",
      "source": [
        "#Conclusão\n",
        "O modelo de classificação SVC (Support Vector Classification) apresentou a maior taxa de acerto na previsão de pessoas que tiveram AVC (86%), com um F1 Score global de 80%. No entanto, é importante lembrar que a base de dados original é bastante desbalanceada, o que pode ter afetado o desempenho do modelo. Assim, uma maior amostra de pessoas que tiveram AVC poderia ser útil para melhorar o desempenho do modelo.\n",
        "\n",
        "Ao analisar os dois melhores modelos, observou-se que ambos deram grande peso às variáveis \"age\", \"hypertension\", \"avg_glucose_level\" e \"heart_disease\". Além disso, foi surpreendente notar que a variável \"work_type_Govt_job\" também apresentou grande influência na probabilidade da pessoa ter um AVC.\n",
        "\n",
        "Por outro lado, é interessante notar a pouca influência da variável \"bmi\" na probabilidade da pessoa ter um AVC. Isso sugere que o índice de massa corporal pode não ser um fator tão importante para prever o risco de AVC em comparação com outras variáveis, como idade, hipertensão, nível médio de glicose e doença cardíaca."
      ],
      "metadata": {
        "id": "PA8NwLtlgcdt"
      }
    }
  ]
}